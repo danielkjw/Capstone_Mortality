{
 "cells": [
  {
   "cell_type": "markdown",
   "metadata": {
    "toc": true
   },
   "source": [
    "<h1>Table of Contents<span class=\"tocSkip\"></span></h1>\n",
    "<div class=\"toc\"><ul class=\"toc-item\"><li><ul class=\"toc-item\"><li><ul class=\"toc-item\"><li><span><a href=\"#MySQL-Query-Third-Attempt\" data-toc-modified-id=\"MySQL-Query-Third-Attempt-0.0.1\"><span class=\"toc-item-num\">0.0.1&nbsp;&nbsp;</span>MySQL Query Third Attempt</a></span></li></ul></li></ul></li><li><span><a href=\"#All-Data-For-Population-Comparison\" data-toc-modified-id=\"All-Data-For-Population-Comparison-1\"><span class=\"toc-item-num\">1&nbsp;&nbsp;</span>All Data For Population Comparison</a></span><ul class=\"toc-item\"><li><span><a href=\"#Delete-DF's-after-use\" data-toc-modified-id=\"Delete-DF's-after-use-1.1\"><span class=\"toc-item-num\">1.1&nbsp;&nbsp;</span>Delete DF's after use</a></span><ul class=\"toc-item\"><li><span><a href=\"#Notes\" data-toc-modified-id=\"Notes-1.1.1\"><span class=\"toc-item-num\">1.1.1&nbsp;&nbsp;</span>Notes</a></span></li><li><span><a href=\"#First-and-final-attempt-at-graphing\" data-toc-modified-id=\"First-and-final-attempt-at-graphing-1.1.2\"><span class=\"toc-item-num\">1.1.2&nbsp;&nbsp;</span>First and final attempt at graphing</a></span></li></ul></li><li><span><a href=\"#Create-Code-Definitions-for-Details-of-Cause-of-Death\" data-toc-modified-id=\"Create-Code-Definitions-for-Details-of-Cause-of-Death-1.2\"><span class=\"toc-item-num\">1.2&nbsp;&nbsp;</span>Create Code Definitions for Details of Cause of Death</a></span></li></ul></li></ul></div>"
   ]
  },
  {
   "cell_type": "code",
   "execution_count": 20,
   "metadata": {},
   "outputs": [],
   "source": [
    "import gzip\n",
    "import numpy as np\n",
    "import pandas as pd"
   ]
  },
  {
   "cell_type": "code",
   "execution_count": 21,
   "metadata": {},
   "outputs": [],
   "source": [
    "import os\n",
    "import pymysql\n",
    "import mysql.connector\n",
    "import pandas as pd\n",
    "import seaborn as sns\n",
    "%matplotlib inline"
   ]
  },
  {
   "cell_type": "code",
   "execution_count": 22,
   "metadata": {},
   "outputs": [
    {
     "name": "stdout",
     "output_type": "stream",
     "text": [
      "Connection ID:  10\n",
      "Wall time: 24 ms\n"
     ]
    }
   ],
   "source": [
    "%%time\n",
    "# import pymysql\n",
    "conn = mysql.connector.connect(option_files='localconn.conf')\n",
    "print(\"Connection ID: \",conn.connection_id)\n"
   ]
  },
  {
   "cell_type": "code",
   "execution_count": 23,
   "metadata": {},
   "outputs": [
    {
     "name": "stderr",
     "output_type": "stream",
     "text": [
      "C:\\Users\\danie\\Anaconda3\\lib\\site-packages\\ipykernel_launcher.py:4: FutureWarning: Passing a negative integer is deprecated in version 1.0 and will not be supported in future version. Instead, use None to not limit the column width.\n",
      "  after removing the cwd from sys.path.\n"
     ]
    }
   ],
   "source": [
    "pd.set_option('display.max_rows', 100)\n",
    "pd.set_option('display.max_columns', 100)\n",
    "pd.set_option('display.width', None)\n",
    "pd.set_option('display.max_colwidth', -1)"
   ]
  },
  {
   "cell_type": "code",
   "execution_count": 24,
   "metadata": {},
   "outputs": [
    {
     "data": {
      "text/html": [
       "<style>.container { width:100% !important; }</style>"
      ],
      "text/plain": [
       "<IPython.core.display.HTML object>"
      ]
     },
     "metadata": {},
     "output_type": "display_data"
    }
   ],
   "source": [
    "from IPython.core.display import display, HTML\n",
    "display(HTML(\"<style>.container { width:100% !important; }</style>\"))"
   ]
  },
  {
   "cell_type": "code",
   "execution_count": null,
   "metadata": {},
   "outputs": [],
   "source": []
  },
  {
   "cell_type": "code",
   "execution_count": null,
   "metadata": {},
   "outputs": [],
   "source": [
    "df = pd.read_csv('./rawdata/WHO_disease_classification_clean.csv.gz', compression='gzip', header=0, sep=',', quotechar='\"', error_bad_lines=False)\n"
   ]
  },
  {
   "cell_type": "code",
   "execution_count": null,
   "metadata": {},
   "outputs": [],
   "source": [
    "del df['Unnamed: 0']"
   ]
  },
  {
   "cell_type": "code",
   "execution_count": null,
   "metadata": {},
   "outputs": [],
   "source": [
    "del df['Node_L1']"
   ]
  },
  {
   "cell_type": "code",
   "execution_count": null,
   "metadata": {},
   "outputs": [],
   "source": [
    "df.columns"
   ]
  },
  {
   "cell_type": "code",
   "execution_count": null,
   "metadata": {},
   "outputs": [],
   "source": [
    "df[df['coding_L4'].str.contains(r'A16')]"
   ]
  },
  {
   "cell_type": "code",
   "execution_count": null,
   "metadata": {},
   "outputs": [],
   "source": [
    "savedf = df.iloc[:,4:]"
   ]
  },
  {
   "cell_type": "code",
   "execution_count": null,
   "metadata": {},
   "outputs": [],
   "source": [
    "savedf.rename(columns = {'coding_L3':'icd10_L3', 'coding_L4':'icd10_L4'}, inplace = True)"
   ]
  },
  {
   "cell_type": "code",
   "execution_count": null,
   "metadata": {},
   "outputs": [],
   "source": [
    "savedf.to_csv('./rawdata/icd10matchkey.csv', index=False)"
   ]
  },
  {
   "cell_type": "code",
   "execution_count": null,
   "metadata": {},
   "outputs": [],
   "source": [
    "savedf.head()"
   ]
  },
  {
   "cell_type": "code",
   "execution_count": null,
   "metadata": {},
   "outputs": [],
   "source": [
    "df[df['coding_L3'].str.contains(r'A16')]\n"
   ]
  },
  {
   "cell_type": "code",
   "execution_count": null,
   "metadata": {},
   "outputs": [],
   "source": []
  },
  {
   "cell_type": "markdown",
   "metadata": {},
   "source": [
    "### MySQL Query Third Attempt\n",
    "# All Data For Population Comparison"
   ]
  },
  {
   "cell_type": "code",
   "execution_count": 25,
   "metadata": {},
   "outputs": [],
   "source": [
    "AgeAll2018aws = pd.read_sql_query(\"\"\"SELECT person_id, year_id, resident_status, edu, edu_1989_rev, edu_2003_rev, edu_reporting_flag, month_of_death, sex, \n",
    "reported_age_tmstmp_flag, reported_age, age_detail, age_sub_flag, age_recode_52, age_recode_27, age_recode_12, marital_status, day_of_week_of_death, data_year, injury_at_work, manner_of_death, place_of_injury,\n",
    "underlying_cause_of_death , icd_10th_revision, cause_recode_358, cause_recode_113, number_of_recordaxis_conditions,\n",
    "recAx_condition_1st, recAx_condition_2nd, recAx_condition_3rd, recAx_condition_4th,recAx_condition_5th, bridged_race, bridged_race_1,\n",
    "bridged_race_flag, allother_races_imputed_2, bridged_race_recode_5, hispanicorigin, hispanicorigin_bridgeracerecode\n",
    "FROM cdcmortality.mortality_2018;\"\"\", conn)   \n",
    "AgeAll2018aws.to_csv('./rawdata/AgeAll2018aws.csv', index = False)\n"
   ]
  },
  {
   "cell_type": "code",
   "execution_count": 26,
   "metadata": {},
   "outputs": [],
   "source": [
    "#for 2017\n",
    "AgeAll2017aws = pd.read_sql_query(\"\"\"SELECT person_id, year_id, resident_status, edu, edu_1989_rev, edu_2003_rev, edu_reporting_flag, month_of_death, sex, \n",
    "reported_age_tmstmp_flag, reported_age, age_detail, age_sub_flag, age_recode_52, age_recode_27, age_recode_12, marital_status, day_of_week_of_death, data_year, injury_at_work, manner_of_death, place_of_injury,\n",
    "underlying_cause_of_death , icd_10th_revision, cause_recode_358, cause_recode_113, number_of_recordaxis_conditions,\n",
    "recAx_condition_1st, recAx_condition_2nd, recAx_condition_3rd, recAx_condition_4th,recAx_condition_5th, bridged_race, bridged_race_1,\n",
    "bridged_race_flag, allother_races_imputed_2, bridged_race_recode_5, hispanicorigin, hispanicorigin_bridgeracerecode\n",
    "FROM cdcmortality.mortality_2017; \"\"\", conn) \n",
    "AgeAll2017aws.to_csv('./rawdata/AgeAll2017aws.csv', index = False)\n",
    "#for 2016\n"
   ]
  },
  {
   "cell_type": "code",
   "execution_count": 27,
   "metadata": {},
   "outputs": [],
   "source": [
    "\n",
    "AgeAll2016aws = pd.read_sql_query(\"\"\"SELECT person_id, year_id, resident_status, edu, edu_1989_rev, edu_2003_rev, edu_reporting_flag, month_of_death, sex, \n",
    "reported_age_tmstmp_flag, reported_age, age_detail, age_sub_flag, age_recode_52, age_recode_27, age_recode_12, marital_status, day_of_week_of_death, data_year, injury_at_work, manner_of_death, place_of_injury,\n",
    "underlying_cause_of_death , icd_10th_revision, cause_recode_358, cause_recode_113, number_of_recordaxis_conditions,\n",
    "recAx_condition_1st, recAx_condition_2nd, recAx_condition_3rd, recAx_condition_4th,recAx_condition_5th, bridged_race, bridged_race_1,\n",
    "bridged_race_flag, allother_races_imputed_2, bridged_race_recode_5, hispanicorigin, hispanicorigin_bridgeracerecode\n",
    "FROM cdcmortality.mortality_2016; \"\"\", conn)    \n",
    "AgeAll2016aws.to_csv('./rawdata/AgeAll2016aws.csv', index = False)\n"
   ]
  },
  {
   "cell_type": "code",
   "execution_count": 28,
   "metadata": {},
   "outputs": [],
   "source": [
    "# for 2015\n",
    "AgeAll2015aws = pd.read_sql_query(\"\"\"SELECT person_id, year_id, resident_status, edu, edu_1989_rev, edu_2003_rev, edu_reporting_flag, month_of_death, sex, \n",
    "reported_age_tmstmp_flag, reported_age, age_detail, age_sub_flag, age_recode_52, age_recode_27, age_recode_12, marital_status, day_of_week_of_death, data_year, injury_at_work, manner_of_death, place_of_injury,\n",
    "underlying_cause_of_death , icd_10th_revision, cause_recode_358, cause_recode_113, number_of_recordaxis_conditions,\n",
    "recAx_condition_1st, recAx_condition_2nd, recAx_condition_3rd, recAx_condition_4th,recAx_condition_5th, bridged_race, bridged_race_1,\n",
    "bridged_race_flag, allother_races_imputed_2, bridged_race_recode_5, hispanicorigin, hispanicorigin_bridgeracerecode\n",
    "FROM cdcmortality.mortality_2015; \"\"\", conn)\n",
    "AgeAll2015aws.to_csv('./rawdata/AgeAll2015aws.csv', index = False)\n"
   ]
  },
  {
   "cell_type": "code",
   "execution_count": 29,
   "metadata": {},
   "outputs": [],
   "source": [
    "# for 2014\n",
    "AgeAll2014aws = pd.read_sql_query(\"\"\"SELECT person_id, year_id, resident_status, edu, edu_1989_rev, edu_2003_rev, edu_reporting_flag, month_of_death, sex, \n",
    "reported_age_tmstmp_flag, reported_age, age_detail, age_sub_flag, age_recode_52, age_recode_27, age_recode_12, marital_status, day_of_week_of_death, data_year, injury_at_work, manner_of_death, place_of_injury,\n",
    "underlying_cause_of_death , icd_10th_revision, cause_recode_358, cause_recode_113, number_of_recordaxis_conditions,\n",
    "recAx_condition_1st, recAx_condition_2nd, recAx_condition_3rd, recAx_condition_4th,recAx_condition_5th, bridged_race, bridged_race_1,\n",
    "bridged_race_flag, allother_races_imputed_2, bridged_race_recode_5, hispanicorigin, hispanicorigin_bridgeracerecode\n",
    "FROM cdcmortality.mortality_2014; \"\"\", conn)    \n",
    "AgeAll2014aws.to_csv('./rawdata/AgeAll2014aws.csv', index = False)\n"
   ]
  },
  {
   "cell_type": "code",
   "execution_count": 30,
   "metadata": {},
   "outputs": [],
   "source": [
    "# for 2013\n",
    "AgeAll2013aws = pd.read_sql_query(\"\"\"SELECT person_id, year_id, resident_status, edu, edu_1989_rev, edu_2003_rev, edu_reporting_flag, month_of_death, sex, \n",
    "reported_age_tmstmp_flag, reported_age, age_detail, age_sub_flag, age_recode_52, age_recode_27, age_recode_12, marital_status, day_of_week_of_death, data_year, injury_at_work, manner_of_death, place_of_injury,\n",
    "underlying_cause_of_death , icd_10th_revision, cause_recode_358, cause_recode_113, number_of_recordaxis_conditions,\n",
    "recAx_condition_1st, recAx_condition_2nd, recAx_condition_3rd, recAx_condition_4th,recAx_condition_5th, bridged_race, bridged_race_1,\n",
    "bridged_race_flag, allother_races_imputed_2, bridged_race_recode_5, hispanicorigin, hispanicorigin_bridgeracerecode\n",
    "FROM cdcmortality.mortality_2013; \"\"\", conn)    \n",
    "AgeAll2013aws.to_csv('./rawdata/AgeAll2013aws.csv', index = False)\n"
   ]
  },
  {
   "cell_type": "code",
   "execution_count": 31,
   "metadata": {},
   "outputs": [],
   "source": [
    "# for 2012\n",
    "AgeAll2012aws = pd.read_sql_query(\"\"\"SELECT person_id, year_id, resident_status, edu, edu_1989_rev, edu_2003_rev, edu_reporting_flag, month_of_death, sex, \n",
    "reported_age_tmstmp_flag, reported_age, age_detail, age_sub_flag, age_recode_52, age_recode_27, age_recode_12, marital_status, day_of_week_of_death, data_year, injury_at_work, manner_of_death, place_of_injury,\n",
    "underlying_cause_of_death , icd_10th_revision, cause_recode_358, cause_recode_113, number_of_recordaxis_conditions,\n",
    "recAx_condition_1st, recAx_condition_2nd, recAx_condition_3rd, recAx_condition_4th,recAx_condition_5th, bridged_race, bridged_race_1,\n",
    "bridged_race_flag, allother_races_imputed_2, bridged_race_recode_5, hispanicorigin, hispanicorigin_bridgeracerecode\n",
    "FROM cdcmortality.mortality_2012; \"\"\", conn)    \n",
    "AgeAll2012aws.to_csv('./rawdata/AgeAll2012aws.csv', index = False)\n",
    "\n"
   ]
  },
  {
   "cell_type": "code",
   "execution_count": 32,
   "metadata": {},
   "outputs": [],
   "source": [
    "d1 = pd.read_csv('./rawdata/AgeAll2012aws.csv')\n",
    "d2 = pd.read_csv('./rawdata/AgeAll2013aws.csv')\n",
    "d3 = pd.read_csv('./rawdata/AgeAll2014aws.csv')\n",
    "d4 = pd.read_csv('./rawdata/AgeAll2015aws.csv')\n",
    "d5 = pd.read_csv('./rawdata/AgeAll2016aws.csv')\n",
    "d6 = pd.read_csv('./rawdata/AgeAll2017aws.csv')\n",
    "d7 = pd.read_csv('./rawdata/AgeAll2018aws.csv')\n",
    "\n"
   ]
  },
  {
   "cell_type": "code",
   "execution_count": 33,
   "metadata": {},
   "outputs": [],
   "source": [
    "df1_combined = pd.concat([d1,d2,d3,d4,d5,d6,d7])"
   ]
  },
  {
   "cell_type": "code",
   "execution_count": 34,
   "metadata": {},
   "outputs": [],
   "source": [
    "df1_combined.to_csv('./rawdata/AgeAllawsFinal.csv',index=False)"
   ]
  },
  {
   "cell_type": "code",
   "execution_count": 35,
   "metadata": {},
   "outputs": [
    {
     "data": {
      "text/html": [
       "<div>\n",
       "<style scoped>\n",
       "    .dataframe tbody tr th:only-of-type {\n",
       "        vertical-align: middle;\n",
       "    }\n",
       "\n",
       "    .dataframe tbody tr th {\n",
       "        vertical-align: top;\n",
       "    }\n",
       "\n",
       "    .dataframe thead th {\n",
       "        text-align: right;\n",
       "    }\n",
       "</style>\n",
       "<table border=\"1\" class=\"dataframe\">\n",
       "  <thead>\n",
       "    <tr style=\"text-align: right;\">\n",
       "      <th></th>\n",
       "      <th>person_id</th>\n",
       "      <th>year_id</th>\n",
       "      <th>resident_status</th>\n",
       "      <th>edu</th>\n",
       "      <th>edu_1989_rev</th>\n",
       "      <th>edu_2003_rev</th>\n",
       "      <th>edu_reporting_flag</th>\n",
       "      <th>month_of_death</th>\n",
       "      <th>sex</th>\n",
       "      <th>reported_age_tmstmp_flag</th>\n",
       "      <th>reported_age</th>\n",
       "      <th>age_detail</th>\n",
       "      <th>age_sub_flag</th>\n",
       "      <th>age_recode_52</th>\n",
       "      <th>age_recode_27</th>\n",
       "      <th>age_recode_12</th>\n",
       "      <th>marital_status</th>\n",
       "      <th>day_of_week_of_death</th>\n",
       "      <th>data_year</th>\n",
       "      <th>injury_at_work</th>\n",
       "      <th>manner_of_death</th>\n",
       "      <th>place_of_injury</th>\n",
       "      <th>underlying_cause_of_death</th>\n",
       "      <th>icd_10th_revision</th>\n",
       "      <th>cause_recode_358</th>\n",
       "      <th>cause_recode_113</th>\n",
       "      <th>number_of_recordaxis_conditions</th>\n",
       "      <th>recAx_condition_1st</th>\n",
       "      <th>recAx_condition_2nd</th>\n",
       "      <th>recAx_condition_3rd</th>\n",
       "      <th>recAx_condition_4th</th>\n",
       "      <th>recAx_condition_5th</th>\n",
       "      <th>bridged_race</th>\n",
       "      <th>bridged_race_1</th>\n",
       "      <th>bridged_race_flag</th>\n",
       "      <th>allother_races_imputed_2</th>\n",
       "      <th>bridged_race_recode_5</th>\n",
       "      <th>hispanicorigin</th>\n",
       "      <th>hispanicorigin_bridgeracerecode</th>\n",
       "    </tr>\n",
       "  </thead>\n",
       "  <tbody>\n",
       "    <tr>\n",
       "      <th>0</th>\n",
       "      <td>1</td>\n",
       "      <td>2.0</td>\n",
       "      <td>1.0</td>\n",
       "      <td>12.0</td>\n",
       "      <td>12.0</td>\n",
       "      <td>NaN</td>\n",
       "      <td>0.0</td>\n",
       "      <td>1.0</td>\n",
       "      <td>F</td>\n",
       "      <td>1.0</td>\n",
       "      <td>059 371708</td>\n",
       "      <td>1059.0</td>\n",
       "      <td>NaN</td>\n",
       "      <td>37.0</td>\n",
       "      <td>17.0</td>\n",
       "      <td>8.0</td>\n",
       "      <td>W</td>\n",
       "      <td>1.0</td>\n",
       "      <td>2012.0</td>\n",
       "      <td>U</td>\n",
       "      <td>7.0</td>\n",
       "      <td>99.0</td>\n",
       "      <td>C3490</td>\n",
       "      <td>C349</td>\n",
       "      <td>93.0</td>\n",
       "      <td>27.0</td>\n",
       "      <td>1.0</td>\n",
       "      <td>C349</td>\n",
       "      <td>NaN</td>\n",
       "      <td>NaN</td>\n",
       "      <td>NaN</td>\n",
       "      <td>NaN</td>\n",
       "      <td>01  1</td>\n",
       "      <td>1.0</td>\n",
       "      <td>99.0</td>\n",
       "      <td>1.0</td>\n",
       "      <td>1.0</td>\n",
       "      <td>100.0</td>\n",
       "      <td>6.0</td>\n",
       "    </tr>\n",
       "    <tr>\n",
       "      <th>1</th>\n",
       "      <td>2</td>\n",
       "      <td>2.0</td>\n",
       "      <td>1.0</td>\n",
       "      <td>12.0</td>\n",
       "      <td>12.0</td>\n",
       "      <td>NaN</td>\n",
       "      <td>0.0</td>\n",
       "      <td>1.0</td>\n",
       "      <td>F</td>\n",
       "      <td>1.0</td>\n",
       "      <td>090 442411</td>\n",
       "      <td>1090.0</td>\n",
       "      <td>NaN</td>\n",
       "      <td>44.0</td>\n",
       "      <td>24.0</td>\n",
       "      <td>11.0</td>\n",
       "      <td>W</td>\n",
       "      <td>2.0</td>\n",
       "      <td>2012.0</td>\n",
       "      <td>U</td>\n",
       "      <td>7.0</td>\n",
       "      <td>99.0</td>\n",
       "      <td>F03 1</td>\n",
       "      <td>F03</td>\n",
       "      <td>175.0</td>\n",
       "      <td>111.0</td>\n",
       "      <td>3.0</td>\n",
       "      <td>F03</td>\n",
       "      <td>R53</td>\n",
       "      <td>R54</td>\n",
       "      <td>NaN</td>\n",
       "      <td>NaN</td>\n",
       "      <td>01  1</td>\n",
       "      <td>1.0</td>\n",
       "      <td>99.0</td>\n",
       "      <td>1.0</td>\n",
       "      <td>1.0</td>\n",
       "      <td>100.0</td>\n",
       "      <td>6.0</td>\n",
       "    </tr>\n",
       "    <tr>\n",
       "      <th>2</th>\n",
       "      <td>3</td>\n",
       "      <td>2.0</td>\n",
       "      <td>1.0</td>\n",
       "      <td>0.0</td>\n",
       "      <td>0.0</td>\n",
       "      <td>NaN</td>\n",
       "      <td>0.0</td>\n",
       "      <td>1.0</td>\n",
       "      <td>F</td>\n",
       "      <td>1.0</td>\n",
       "      <td>058 371708</td>\n",
       "      <td>1058.0</td>\n",
       "      <td>NaN</td>\n",
       "      <td>37.0</td>\n",
       "      <td>17.0</td>\n",
       "      <td>8.0</td>\n",
       "      <td>M</td>\n",
       "      <td>2.0</td>\n",
       "      <td>2012.0</td>\n",
       "      <td>U</td>\n",
       "      <td>7.0</td>\n",
       "      <td>99.0</td>\n",
       "      <td>K7543</td>\n",
       "      <td>K754</td>\n",
       "      <td>301.0</td>\n",
       "      <td>111.0</td>\n",
       "      <td>4.0</td>\n",
       "      <td>K754</td>\n",
       "      <td>I469</td>\n",
       "      <td>J969</td>\n",
       "      <td>K729</td>\n",
       "      <td>NaN</td>\n",
       "      <td>03  2</td>\n",
       "      <td>3.0</td>\n",
       "      <td>99.0</td>\n",
       "      <td>2.0</td>\n",
       "      <td>3.0</td>\n",
       "      <td>100.0</td>\n",
       "      <td>8.0</td>\n",
       "    </tr>\n",
       "    <tr>\n",
       "      <th>3</th>\n",
       "      <td>4</td>\n",
       "      <td>2.0</td>\n",
       "      <td>2.0</td>\n",
       "      <td>12.0</td>\n",
       "      <td>12.0</td>\n",
       "      <td>NaN</td>\n",
       "      <td>0.0</td>\n",
       "      <td>1.0</td>\n",
       "      <td>M</td>\n",
       "      <td>1.0</td>\n",
       "      <td>085 432311</td>\n",
       "      <td>1085.0</td>\n",
       "      <td>NaN</td>\n",
       "      <td>43.0</td>\n",
       "      <td>23.0</td>\n",
       "      <td>11.0</td>\n",
       "      <td>D</td>\n",
       "      <td>3.0</td>\n",
       "      <td>2012.0</td>\n",
       "      <td>U</td>\n",
       "      <td>7.0</td>\n",
       "      <td>99.0</td>\n",
       "      <td>N19 3</td>\n",
       "      <td>N19</td>\n",
       "      <td>327.0</td>\n",
       "      <td>100.0</td>\n",
       "      <td>1.0</td>\n",
       "      <td>N19</td>\n",
       "      <td>NaN</td>\n",
       "      <td>NaN</td>\n",
       "      <td>NaN</td>\n",
       "      <td>NaN</td>\n",
       "      <td>01  1</td>\n",
       "      <td>1.0</td>\n",
       "      <td>99.0</td>\n",
       "      <td>1.0</td>\n",
       "      <td>1.0</td>\n",
       "      <td>100.0</td>\n",
       "      <td>6.0</td>\n",
       "    </tr>\n",
       "    <tr>\n",
       "      <th>4</th>\n",
       "      <td>5</td>\n",
       "      <td>2.0</td>\n",
       "      <td>2.0</td>\n",
       "      <td>16.0</td>\n",
       "      <td>16.0</td>\n",
       "      <td>NaN</td>\n",
       "      <td>0.0</td>\n",
       "      <td>1.0</td>\n",
       "      <td>M</td>\n",
       "      <td>1.0</td>\n",
       "      <td>054 361607</td>\n",
       "      <td>1054.0</td>\n",
       "      <td>NaN</td>\n",
       "      <td>36.0</td>\n",
       "      <td>16.0</td>\n",
       "      <td>7.0</td>\n",
       "      <td>M</td>\n",
       "      <td>1.0</td>\n",
       "      <td>2012.0</td>\n",
       "      <td>U</td>\n",
       "      <td>7.0</td>\n",
       "      <td>99.0</td>\n",
       "      <td>M2593</td>\n",
       "      <td>M259</td>\n",
       "      <td>313.0</td>\n",
       "      <td>111.0</td>\n",
       "      <td>4.0</td>\n",
       "      <td>M259</td>\n",
       "      <td>I269</td>\n",
       "      <td>T817</td>\n",
       "      <td>Y831</td>\n",
       "      <td>NaN</td>\n",
       "      <td>01  1</td>\n",
       "      <td>1.0</td>\n",
       "      <td>99.0</td>\n",
       "      <td>1.0</td>\n",
       "      <td>1.0</td>\n",
       "      <td>100.0</td>\n",
       "      <td>6.0</td>\n",
       "    </tr>\n",
       "  </tbody>\n",
       "</table>\n",
       "</div>"
      ],
      "text/plain": [
       "   person_id  year_id  resident_status   edu  edu_1989_rev  edu_2003_rev  \\\n",
       "0  1          2.0      1.0              12.0  12.0         NaN             \n",
       "1  2          2.0      1.0              12.0  12.0         NaN             \n",
       "2  3          2.0      1.0              0.0   0.0          NaN             \n",
       "3  4          2.0      2.0              12.0  12.0         NaN             \n",
       "4  5          2.0      2.0              16.0  16.0         NaN             \n",
       "\n",
       "   edu_reporting_flag  month_of_death sex  reported_age_tmstmp_flag  \\\n",
       "0  0.0                 1.0             F   1.0                        \n",
       "1  0.0                 1.0             F   1.0                        \n",
       "2  0.0                 1.0             F   1.0                        \n",
       "3  0.0                 1.0             M   1.0                        \n",
       "4  0.0                 1.0             M   1.0                        \n",
       "\n",
       "   reported_age  age_detail  age_sub_flag  age_recode_52  age_recode_27  \\\n",
       "0  059 371708    1059.0     NaN            37.0           17.0            \n",
       "1  090 442411    1090.0     NaN            44.0           24.0            \n",
       "2  058 371708    1058.0     NaN            37.0           17.0            \n",
       "3  085 432311    1085.0     NaN            43.0           23.0            \n",
       "4  054 361607    1054.0     NaN            36.0           16.0            \n",
       "\n",
       "   age_recode_12 marital_status  day_of_week_of_death  data_year  \\\n",
       "0  8.0            W              1.0                   2012.0      \n",
       "1  11.0           W              2.0                   2012.0      \n",
       "2  8.0            M              2.0                   2012.0      \n",
       "3  11.0           D              3.0                   2012.0      \n",
       "4  7.0            M              1.0                   2012.0      \n",
       "\n",
       "  injury_at_work  manner_of_death  place_of_injury underlying_cause_of_death  \\\n",
       "0  U              7.0              99.0             C3490                      \n",
       "1  U              7.0              99.0             F03 1                      \n",
       "2  U              7.0              99.0             K7543                      \n",
       "3  U              7.0              99.0             N19 3                      \n",
       "4  U              7.0              99.0             M2593                      \n",
       "\n",
       "  icd_10th_revision  cause_recode_358  cause_recode_113  \\\n",
       "0  C349              93.0              27.0               \n",
       "1  F03               175.0             111.0              \n",
       "2  K754              301.0             111.0              \n",
       "3  N19               327.0             100.0              \n",
       "4  M259              313.0             111.0              \n",
       "\n",
       "   number_of_recordaxis_conditions recAx_condition_1st recAx_condition_2nd  \\\n",
       "0  1.0                              C349                NaN                  \n",
       "1  3.0                              F03                 R53                  \n",
       "2  4.0                              K754                I469                 \n",
       "3  1.0                              N19                 NaN                  \n",
       "4  4.0                              M259                I269                 \n",
       "\n",
       "  recAx_condition_3rd recAx_condition_4th recAx_condition_5th bridged_race  \\\n",
       "0  NaN                 NaN                 NaN                 01  1         \n",
       "1  R54                 NaN                 NaN                 01  1         \n",
       "2  J969                K729                NaN                 03  2         \n",
       "3  NaN                 NaN                 NaN                 01  1         \n",
       "4  T817                Y831                NaN                 01  1         \n",
       "\n",
       "   bridged_race_1  bridged_race_flag  allother_races_imputed_2  \\\n",
       "0  1.0             99.0               1.0                        \n",
       "1  1.0             99.0               1.0                        \n",
       "2  3.0             99.0               2.0                        \n",
       "3  1.0             99.0               1.0                        \n",
       "4  1.0             99.0               1.0                        \n",
       "\n",
       "   bridged_race_recode_5  hispanicorigin  hispanicorigin_bridgeracerecode  \n",
       "0  1.0                    100.0           6.0                              \n",
       "1  1.0                    100.0           6.0                              \n",
       "2  3.0                    100.0           8.0                              \n",
       "3  1.0                    100.0           6.0                              \n",
       "4  1.0                    100.0           6.0                              "
      ]
     },
     "execution_count": 35,
     "metadata": {},
     "output_type": "execute_result"
    }
   ],
   "source": [
    "df1_combined.head()"
   ]
  },
  {
   "cell_type": "code",
   "execution_count": null,
   "metadata": {},
   "outputs": [],
   "source": []
  },
  {
   "cell_type": "code",
   "execution_count": 8,
   "metadata": {},
   "outputs": [],
   "source": []
  },
  {
   "cell_type": "code",
   "execution_count": null,
   "metadata": {},
   "outputs": [],
   "source": []
  },
  {
   "cell_type": "code",
   "execution_count": null,
   "metadata": {},
   "outputs": [],
   "source": [
    "zq3 =\"SELECT * FROM mortality_2017 WHERE icd_10th_revision LIKE '%x6%' OR icd_10th_revision LIKE '%x7%' OR icd_10th_revision LIKE '%x8%';\"\n",
    "\n",
    "zdf3 = pd.read_sql_query(zq3, conn)"
   ]
  },
  {
   "cell_type": "code",
   "execution_count": null,
   "metadata": {},
   "outputs": [],
   "source": [
    "zq4 =\"SELECT * FROM mortality_2016 WHERE icd_10th_revision LIKE '%x6%' OR icd_10th_revision LIKE '%x7%' OR icd_10th_revision LIKE '%x8%';\"\n",
    "zdf4 = pd.read_sql_query(zq4, conn)\n"
   ]
  },
  {
   "cell_type": "code",
   "execution_count": null,
   "metadata": {},
   "outputs": [],
   "source": [
    "zq5 =\"SELECT * FROM mortality_2015 WHERE icd_10th_revision LIKE '%x6%' OR icd_10th_revision LIKE '%x7%' OR icd_10th_revision LIKE '%x8%';\"\n",
    "zdf5 = pd.read_sql_query(zq5, conn)"
   ]
  },
  {
   "cell_type": "code",
   "execution_count": null,
   "metadata": {},
   "outputs": [],
   "source": [
    "zq6 =\"SELECT * FROM mortality_2014 WHERE icd_10th_revision LIKE '%x6%' OR icd_10th_revision LIKE '%x7%' OR icd_10th_revision LIKE '%x8%';\"\n",
    "zdf6 = pd.read_sql_query(zq6, conn)"
   ]
  },
  {
   "cell_type": "code",
   "execution_count": null,
   "metadata": {},
   "outputs": [],
   "source": [
    "zq7 =\"SELECT * FROM mortality_2013 WHERE icd_10th_revision LIKE '%x6%' OR icd_10th_revision LIKE '%x7%' OR icd_10th_revision LIKE '%x8%';\"\n",
    "zdf7 = pd.read_sql_query(zq7, conn)"
   ]
  },
  {
   "cell_type": "code",
   "execution_count": null,
   "metadata": {},
   "outputs": [],
   "source": [
    "zq8 =\"SELECT * FROM mortality_2012 WHERE icd_10th_revision LIKE '%x6%' OR icd_10th_revision LIKE '%x7%' OR icd_10th_revision LIKE '%x8%';\"\n",
    "zdf8 = pd.read_sql_query(zq8, conn)"
   ]
  },
  {
   "cell_type": "code",
   "execution_count": null,
   "metadata": {},
   "outputs": [],
   "source": [
    "zdf8['icd_10th_revision'].head()"
   ]
  },
  {
   "cell_type": "markdown",
   "metadata": {},
   "source": [
    "## Delete DF's after use"
   ]
  },
  {
   "cell_type": "code",
   "execution_count": null,
   "metadata": {},
   "outputs": [],
   "source": [
    "del zdf4, zdf5, zdf6, zdf7, zdf8"
   ]
  },
  {
   "cell_type": "code",
   "execution_count": null,
   "metadata": {},
   "outputs": [],
   "source": [
    "del zdf2"
   ]
  },
  {
   "cell_type": "code",
   "execution_count": null,
   "metadata": {},
   "outputs": [],
   "source": [
    "del zdf3"
   ]
  },
  {
   "cell_type": "code",
   "execution_count": null,
   "metadata": {},
   "outputs": [],
   "source": [
    "zdf_combined = pd.concat([zdf2,zdf3,zdf4,zdf5,zdf6,zdf7,zdf8])"
   ]
  },
  {
   "cell_type": "code",
   "execution_count": null,
   "metadata": {},
   "outputs": [],
   "source": [
    "zdfcomb = zdf_combined.copy()"
   ]
  },
  {
   "cell_type": "code",
   "execution_count": null,
   "metadata": {},
   "outputs": [],
   "source": [
    "zdfcomb['icd_10th_revision'].tail()"
   ]
  },
  {
   "cell_type": "code",
   "execution_count": null,
   "metadata": {},
   "outputs": [],
   "source": [
    "zdfcomb.head()"
   ]
  },
  {
   "cell_type": "code",
   "execution_count": null,
   "metadata": {},
   "outputs": [],
   "source": [
    "df1_combined.to_csv('qdcombined_all_icdtypes.csv', index=False)"
   ]
  },
  {
   "cell_type": "code",
   "execution_count": null,
   "metadata": {},
   "outputs": [],
   "source": [
    "test1 = pd.read_csv('qdcombined_all_icdtypes.csv')"
   ]
  },
  {
   "cell_type": "code",
   "execution_count": null,
   "metadata": {},
   "outputs": [],
   "source": [
    "test1.head()"
   ]
  },
  {
   "cell_type": "markdown",
   "metadata": {},
   "source": [
    "### Notes\n",
    "* 358 Cause Recode \n",
    "    * A recode of the ICD cause code into 358 groups for NCHS publications. \n",
    "    * Further back in this document is a complete list of recodes and the causes included. \n",
    "    \n",
    "    \n",
    "    \n",
    "    \n",
    "* 113 Cause Recode \n",
    "     * A recode of the ICD cause code into 113 groups for NCHS publications. \n",
    "     * Further back in this document is a complete list of recodes and the causes included. \n",
    "     \n",
    "     \n",
    "* 39  Cause Recode \n",
    "    * A recode of the ICD cause code into 39 groups for NCHS publications. \n",
    "    * Further back in this document is a complete list of recodes and the causes included. "
   ]
  },
  {
   "cell_type": "markdown",
   "metadata": {},
   "source": [
    "### First and final attempt at graphing"
   ]
  },
  {
   "cell_type": "code",
   "execution_count": null,
   "metadata": {},
   "outputs": [],
   "source": [
    "import matplotlib.pyplot as plt\n",
    "import seaborn as sns\n",
    "import numpy as np\n",
    "import calendar\n",
    "%matplotlib inline\n"
   ]
  },
  {
   "cell_type": "code",
   "execution_count": null,
   "metadata": {},
   "outputs": [],
   "source": [
    "codes = pd.read_csv('./rawdata/codes.csv')"
   ]
  },
  {
   "cell_type": "code",
   "execution_count": null,
   "metadata": {},
   "outputs": [],
   "source": [
    "codes.tail()"
   ]
  },
  {
   "cell_type": "code",
   "execution_count": null,
   "metadata": {},
   "outputs": [],
   "source": [
    "zdf_combined['icd_10th_revision'].head()"
   ]
  },
  {
   "cell_type": "code",
   "execution_count": null,
   "metadata": {},
   "outputs": [],
   "source": [
    "# c1 = codes[codes['Category Code'].str.contains(r'X.+')]\n",
    "c1 = codes[codes['Category Code'].str.startswith('(x)')]"
   ]
  },
  {
   "cell_type": "code",
   "execution_count": null,
   "metadata": {},
   "outputs": [],
   "source": [
    "c1"
   ]
  },
  {
   "cell_type": "code",
   "execution_count": null,
   "metadata": {},
   "outputs": [],
   "source": [
    "# zdfcomb.iloc[:, 1:].apply(lambda x: x.str.strip())"
   ]
  },
  {
   "cell_type": "markdown",
   "metadata": {},
   "source": [
    "## Create Code Definitions for Details of Cause of Death"
   ]
  },
  {
   "cell_type": "code",
   "execution_count": null,
   "metadata": {},
   "outputs": [],
   "source": [
    "import json\n",
    "\n",
    "with open('/rawdata/age_recode52_def.txt', 'w') as file:\n",
    "    json.dump(age_recode52_def, file)\n",
    "\n",
    "with open('/rawdata/age_recode27_def.txt', 'w') as file:\n",
    "    json.dump(age_recode27_def, file)\n",
    "\n",
    "with open('/rawdata/marital_status_def.txt', 'w') as file:\n",
    "    json.dump(marital_status_def, file)\n",
    "    \n",
    "with open('/rawdata/causerecode_358_def.txt', 'w') as file:\n",
    "    json.dump(causerecode_358_def, file)\n"
   ]
  },
  {
   "cell_type": "code",
   "execution_count": null,
   "metadata": {},
   "outputs": [],
   "source": [
    "# new_d\n",
    "with open('/rawdata/causerecode_358_def.txt', 'r') as file:\n",
    "    new_d = json.load(file)\n"
   ]
  },
  {
   "cell_type": "code",
   "execution_count": null,
   "metadata": {},
   "outputs": [],
   "source": [
    "new_d"
   ]
  },
  {
   "cell_type": "code",
   "execution_count": null,
   "metadata": {},
   "outputs": [],
   "source": []
  },
  {
   "cell_type": "code",
   "execution_count": null,
   "metadata": {
    "code_folding": []
   },
   "outputs": [],
   "source": [
    "\n",
    "# dictionaries codes\n",
    "age_recode52_def = {\n",
    "\"1\":\"Under 1 hour (includes not stated hours and minutes) \",\n",
    "\"2\":\"1 - 23 hours \",\n",
    "\"3\":\"1 day (includes not stated days) \",\n",
    "\"4\":\"2 days \",\n",
    "\"5\":\"3 days \",\n",
    "\"6\":\"4 days \",\n",
    "\"7\":\"5 days \",\n",
    "\"8\":\"6 days \",\n",
    "\"9\":\"7 - 13 days (includes not stated weeks) \",\n",
    "\"10\":\"14 - 20 days \",\n",
    "\"11\":\"21 - 27 days \",\n",
    "\"12\":\"1 month (includes not stated months) \",\n",
    "\"13\":\"2 months \",\n",
    "\"14\":\"3 months \",\n",
    "\"15\":\"4 months \",\n",
    "\"16\":\"5 months \",\n",
    "\"17\":\"6 months \",\n",
    "\"18\":\"7 months \",\n",
    "\"19\":\"8 months \",\n",
    "\"20\":\"9 months \",\n",
    "\"21\":\"10 months \",\n",
    "\"22\":\"11 months \",\n",
    "\"23\":\"1 year \",\n",
    "\"24\":\"2 years \",\n",
    "\"25\":\"3 years \",\n",
    "\"26\":\"4 years \",\n",
    "\"27\":\"5 - 9 years \",\n",
    "\"28\":\"10 - 14 years \",\n",
    "\"29\":\"15 - 19 years \",\n",
    "\"30\":\"20 - 24 years \",\n",
    "\"31\":\"25 - 29 years \",\n",
    "\"32\":\"30 - 34 years \",\n",
    "\"33\":\"35 - 39 years \",\n",
    "\"34\":\"40 - 44 years \",\n",
    "\"35\":\"45 - 49 years \",\n",
    "\"36\":\"50 - 54 years \",\n",
    "\"37\":\"55 - 59 years \",\n",
    "\"38\":\"60 - 64 years \",\n",
    "\"39\":\"65 - 69 years \",\n",
    "\"40\":\"70 - 74 years \",\n",
    "\"41\":\"75 - 79 years \",\n",
    "\"42\":\"80 - 84 years \",\n",
    "\"43\":\"85 - 89 years \",\n",
    "\"44\":\"90 - 94 years \",\n",
    "\"45\":\"95 - 99 years \",\n",
    "\"46\":\"100 - 104 years \",\n",
    "\"47\":\"105 - 109 years \"}\n",
    "\n",
    "age_recode27_def = {\n",
    "\"1\":\"Under 1 month (includes not stated weeks, days, hours, and minutes) \",\n",
    "\"2\":\"1 month - 11 months (includes not stated months) \",\n",
    "\"3\":\"1 year \",\n",
    "\"4\":\"2 years \",\n",
    "\"5\":\"3 years \",\n",
    "\"6\":\"4 years \",\n",
    "\"7\":\"5 - 9 years \",\n",
    "\"8\":\"10 - 14 years \",\n",
    "\"9\":\"15 - 19 years \",\n",
    "\"10\":\"20 - 24 years \",\n",
    "\"11\":\"25 - 29 years \",\n",
    "\"12\":\"30 - 34 years \",\n",
    "\"13\":\"35 - 39 years \",\n",
    "\"14\":\"40 - 44 years \",\n",
    "\"15\":\"45 - 49 years \",\n",
    "\"16\":\"50 - 54 years \",\n",
    "\"17\":\"55 - 59 years \",\n",
    "\"18\":\"60 - 64 years \",\n",
    "\"19\":\"65 - 69 years \",\n",
    "\"20\":\"70 - 74 years \",\n",
    "\"21\":\"75 - 79 years \",\n",
    "\"22\":\"80 - 84 years \",\n",
    "\"23\":\"85 - 89 years \",\n",
    "\"24\":\"90 - 94 years \",\n",
    "\"25\":\"95 - 99 years \",\n",
    "\"26\":\"100 years and over \"\n",
    "    }\n",
    " \n",
    "marital_status_def = {\n",
    "\"S\":\"Never married,single\",\n",
    "\"M\":\"Married\",\n",
    "\"W\":\"Widowed\",\n",
    "\"D\":\"Divorced\",\n",
    "\"U\":\"Marital Status unknown\"\n",
    " \n",
    "}\n",
    "\n",
    "dfscode_def = pd.DataFrame.from_dict(scode_def, orient='index')\n",
    "dfscode_def.to_csv('./rawdata/scode_def.csv')\n",
    "z = pd.read_csv('./rawdata/scode_def.csv')\n",
    "z\n",
    "\n",
    "# TO DO Tenth Revision 358 Selected Causes of Death Adapted for use by DVS\n",
    "# # 358 Cause Recode \n",
    "# A recode of the ICD cause code into 358 groups for NCHS publications. Further back in \n",
    "# this document is a complete list of recodes and the causes included. \n",
    "# # 001-456  ...  Code range (not inclusive)\n",
    "\n",
    "causerecode_358_def = {\n",
    "'424': 'Intentional self-harm (suicide) (*U03,X60-X84,Y87.0)',\n",
    "\"425\":\"Intentional self-poisoning (suicide) by and exposure to drugs and other biological substances (X60-X64)\",\n",
    "\"426\":\"Intentional self-poisoning (suicide) by and exposure to other and unspecified solid or liquid substances and their vapors (X65-X66,X68-X69)\",\n",
    "\"427\":\"Intentional self-poisoning (suicide) by and exposure to other gases and vapors (X67)\",\n",
    "\"428\":\"Intentional self-harm (suicide) by hanging, strangulation and suffocation (X70)\",\n",
    "\"429\":\"Intentional self-harm (suicide) by discharge of firearms (X72-X74)\",\n",
    "\"430\":\"Intentional self-harm (suicide) by jumping from a high place (X80)\",\n",
    "\"431\":\"Intentional self-harm (suicide) by all other and unspecified means and their sequelae (*U03,X71,X75-X79,X81-X84,X87.0)\"\n",
    "}\n",
    "\n",
    "dfscode_def = pd.DataFrame.from_dict(scode_def, orient='index')\n",
    "dfscode_def.to_csv('./rawdata/scode_def.csv')\n",
    "z = pd.read_csv('./rawdata/scode_def.csv')\n",
    "z"
   ]
  },
  {
   "cell_type": "code",
   "execution_count": null,
   "metadata": {
    "code_folding": []
   },
   "outputs": [],
   "source": [
    "scode_def = {\n",
    "    \"X60\": \"Intent. self-poisoning by and exp. to nonopioid analgesics, antipyretics, antirheumatics\",\n",
    "    \"X61\": \"Intent. self-poisoning by and exp. to antiepileptic, sedative-hypnotic, antiparkinsonism and psychotropic drug not elsewhere classified\",\n",
    "    \"X62\": \"Intent. self-poisoning by and exp. to narcotics and psychodysleptics [hallucinogens], not elsewhere classified\",\n",
    "    \"X63\": \"Intent. self-poisoning by and exp. to other drugs acting on the autonomic nervous system\",\n",
    "    \"X64\": \"Intent. self-poisoning by and exp. to other and unspecified drugs, medicaments and biological substances\",\n",
    "    \"X65\": \"Intent. self-poisoning by and exp. to to alcohol\",\n",
    "    \"X66\": \"Intent. self-poisoning by and exp. to organic solvents and halogenated hydrocarbons and their vapours\",\n",
    "    \"X67\": \"Intent. self-poisoning by and exp. to carbon monoxide and other gases and vapours\",  \n",
    "    \"X670\": \"Intent. self-poisoning by and exp. to carbon monoxide from combustion engine exhaust\",\n",
    "    \"X671\": \"Intent. self-poisoning by and exp. to carbon monoxide from utility gas\",  \n",
    "    \"X672\": \"Intent. self-poisoning by and exp. to carbon monoxide from other domestic fuels\",  \n",
    "    \"X673\": \"Intent. self-poisoning by and exp. to carbon monoxide from other sources\",  \n",
    "    \"X674\": \"Intent. self-poisoning by and exp. to carbon monoxide from unspecified sources\",  \n",
    "    \"X678\": \"Intent. self-poisoning by and exp. to other specified gases and vapours\",  \n",
    "    \"X679\": \"Intent. self-poisoning by and exp. to unspecified gases and vapours\",  \n",
    "    \"X68\": \"Intent. self-poisoning by and exp. to pesticides\",  \n",
    "    \"X69\": \"Intent. self-poisoning by and exp. to other and unspecified chemicals and noxious substances\",  \n",
    "    \"X70\": \"Intent. self-harm by hanging, strangulation and suffocation\",  \n",
    "    \"X71\": \"Intent. self-harm by drowning and submersion\",  \n",
    "    \"X72\": \"Intent. self-harm by handgun discharge\",  \n",
    "    \"X73\": \"Intent. self-harm by rifle, shotgun and larger firearm discharge\",  \n",
    "    \"X74\": \"Intent. self-harm by other and unspecified firearm discharge\",  \n",
    "    \"X75\": \"Intent. self-harm by explosive material\",  \n",
    "    \"X76\": \"Intent. self-harm by smoke, fire and flames\",  \n",
    "    \"X77\": \"Intent. self-harm by steam, hot vapours and hot objects \", \n",
    "    \"X78\": \"Intent. self-harm by sharp object\",  \n",
    "    \"X79\": \"Intent. self-harm by blunt object\", \n",
    "    \"X80\": \"Intent. self-harm by jumping from a high place\",  \n",
    "    \"X81\": \"Intent. self-harm by jumping or lying before moving object\", \n",
    "    \"X82\": \"Intent. self-harm by crashing of motor vehicle\",  \n",
    "    \"X83\": \"Intent. self-harm by other specified means\",  \n",
    "    \"X84\": \"Intent. self-harm by unspecified means\"\n",
    "}\n",
    "\n",
    "\n",
    "# EDU, SEX, Martial Status, Deaths vs. Total Deaths \n",
    "dfscode_def = pd.DataFrame.from_dict(scode_def, orient='index')\n",
    "dfscode_def.to_csv('./rawdata/scode_def.csv')\n",
    "z = pd.read_csv('./rawdata/scode_def.csv')\n",
    "z"
   ]
  },
  {
   "cell_type": "code",
   "execution_count": null,
   "metadata": {
    "code_folding": [
     0
    ]
   },
   "outputs": [],
   "source": [
    "scode_def = {\n",
    "    \"X60\": \"Intent. self-poisoning by and exp. to nonopioid analgesics, antipyretics, antirheumatics\",\n",
    "    \"X61\": \"Intent. self-poisoning by and exp. to antiepileptic, sedative-hypnotic, antiparkinsonism and psychotropic drug not elsewhere classified\",\n",
    "    \"X62\": \"Intent. self-poisoning by and exp. to narcotics and psychodysleptics [hallucinogens], not elsewhere classified\",\n",
    "    \"X63\": \"Intent. self-poisoning by and exp. to other drugs acting on the autonomic nervous system\",\n",
    "    \"X64\": \"Intent. self-poisoning by and exp. to other and unspecified drugs, medicaments and biological substances\",\n",
    "    \"X65\": \"Intent. self-poisoning by and exp. to to alcohol\",\n",
    "    \"X66\": \"Intent. self-poisoning by and exp. to organic solvents and halogenated hydrocarbons and their vapours\",\n",
    "    \"X67\": \"Intent. self-poisoning by and exp. to carbon monoxide and other gases and vapours\",  \n",
    "    \"X67.0\": \"Intent. self-poisoning by and exp. to carbon monoxide from combustion engine exhaust\",\n",
    "    \"X67.1\": \"Intent. self-poisoning by and exp. to carbon monoxide from utility gas\",  \n",
    "    \"X67.2\": \"Intent. self-poisoning by and exp. to carbon monoxide from other domestic fuels\",  \n",
    "    \"X67.3\": \"Intent. self-poisoning by and exp. to carbon monoxide from other sources\",  \n",
    "    \"X67.4\": \"Intent. self-poisoning by and exp. to carbon monoxide from unspecified sources\",  \n",
    "    \"X67.8\": \"Intent. self-poisoning by and exp. to other specified gases and vapours\",  \n",
    "    \"X67.9\": \"Intent. self-poisoning by and exp. to unspecified gases and vapours\",  \n",
    "    \"X68\": \"Intent. self-poisoning by and exp. to pesticides\",  \n",
    "    \"X69\": \"Intent. self-poisoning by and exp. to other and unspecified chemicals and noxious substances\",  \n",
    "    \"X70\": \"Intent. self-harm by hanging, strangulation and suffocation\",  \n",
    "    \"X71\": \"Intent. self-harm by drowning and submersion\",  \n",
    "    \"X72\": \"Intent. self-harm by handgun discharge\",  \n",
    "    \"X73\": \"Intent. self-harm by rifle, shotgun and larger firearm discharge\",  \n",
    "    \"X74\": \"Intent. self-harm by other and unspecified firearm discharge\",  \n",
    "    \"X75\": \"Intent. self-harm by explosive material\",  \n",
    "    \"X76\": \"Intent. self-harm by smoke, fire and flames\",  \n",
    "    \"X77\": \"Intent. self-harm by steam, hot vapours and hot objects \", \n",
    "    \"X78\": \"Intent. self-harm by sharp object\",  \n",
    "    \"X79\": \"Intent. self-harm by blunt object\", \n",
    "    \"X80\": \"Intent. self-harm by jumping from a high place\",  \n",
    "    \"X81\": \"Intent. self-harm by jumping or lying before moving object\", \n",
    "    \"X82\": \"Intent. self-harm by crashing of motor vehicle\",  \n",
    "    \"X83\": \"Intent. self-harm by other specified means\",  \n",
    "    \"X84\": \"Intent. self-harm by unspecified means\"\n",
    "}"
   ]
  },
  {
   "cell_type": "code",
   "execution_count": null,
   "metadata": {
    "code_folding": [
     0
    ]
   },
   "outputs": [],
   "source": [
    "details_examples ={\n",
    "    \"X60\":\"4-aminophenol derivatives, nonsteroidal anti-inflammatory drugs [NSAID], pyrazolone derivatives, salicylates\",\n",
    "    \"X61\":\"antidepressants,  barbiturates,  hydantoin derivatives, iminostilbenes, methaqualone compounds, neuroleptics, psychostimulants, succinimides and oxazolidinediones, tranquillizers\",\n",
    "    \"X62\":\"cannabis (derivatives), cocaine, codeine, heroin, lysergide [LSD], mescaline, methadone, morphine, opium (alkaloids)\",\n",
    "    \"X63\":\"parasympatholytics [anticholinergics and antimuscarinics] and spasmolytics, parasympathomimetics [cholinergics], sympatholytics [antiadrenergics], sympathomimetics [adrenergics]\",\n",
    "    \"X64\":\"agents primarily acting on smooth and skeletal muscles and the respiratory system, anaesthetics (general)(local), drugs affecting the:, cardiovascular system, gastrointestinal system, hormones and synthetic substitutes, systemic and haematological agents, systemic antibiotics and other anti-infectives, therapeutic gases, topical preparations, vaccines, water-balance agents and drugs affecting mineral and uric acid metabolism\",\n",
    "    \"X65\":\"alcohol:, NOS, butyl [1-butanol], ethyl [ethanol], isopropyl [2-propanol], methyl [methanol], propyl [1-propanol], fusel oil\",\n",
    "    \"X66\":\"benzene and homologues, carbon tetrachloride [tetrachloromethane], chlorofluorocarbons, petroleum (derivatives)\",\n",
    "    \"X67\":\"Excl.: carbon monoxide from smoke, fire and flames (X76) metal fumes and vapours (X69)\",\n",
    "    \"X67.0\":\"Exhaust (gas) from: any type of combustion engine, gas engine, motor pump, motor vehicle, not in transit\",\n",
    "    \"X67.1\":\"Carbon monoxide from: gas NOS used for lighting, heating, cooking, water gas\",\n",
    "    \"X67.2\":\"Carbon monoxide from: charcoal, coal, coke, kerosine or paraffin, wood\",\n",
    "    \"X67.3\":\"Carbon monoxide from: blast furnace gas, fuels in industrial use, kiln vapour \",\n",
    "    \"X67.4\":\"None\",\n",
    "    \"X67.9\":\"None\",\n",
    "    \"X69\":\"corrosive aromatics, acids and caustic alkalis, glues and adhesives, metals including fumes and vapours, paints and dyes, plant foods and fertilizers, poisonous foodstuffs and poisonous plants, soaps and detergents \",\n",
    "    \"X70\":\"None\",\n",
    "    \"X71\":\"None\",\n",
    "    \"X72\":\"None\",\n",
    "    \"X73\":\"None\",\n",
    "    \"X74\":\"None\",\n",
    "    \"X75\":\"None\",\n",
    "    \"X76\":\"None\",\n",
    "    \"X77\":\"None\",\n",
    "    \"X78\":\"None\",\n",
    "    \"X79\":\"None\",\n",
    "    \"X80\":\"Incl.:  intentional fall from one level to another \",\n",
    "    \"X81\":\"None\",\n",
    "    \"X82\":\"Incl.: intentional collision with:, motor vehicle, train, tram (streetcar), Excl.:, crashing of aircraft (X83), \",\n",
    "    \"X83\":\"intentional self-harm by:, caustic substances, except poisoning, crashing of aircraft, electrocution,\",\n",
    "    \"X84\":\"None\"\n",
    "}\n"
   ]
  },
  {
   "cell_type": "code",
   "execution_count": null,
   "metadata": {},
   "outputs": [],
   "source": [
    "testz = zdfcomb['icd_10th_revision'][2]"
   ]
  },
  {
   "cell_type": "code",
   "execution_count": null,
   "metadata": {},
   "outputs": [],
   "source": []
  },
  {
   "cell_type": "code",
   "execution_count": null,
   "metadata": {},
   "outputs": [],
   "source": []
  },
  {
   "cell_type": "markdown",
   "metadata": {},
   "source": [
    "* Accidental, Suicide -> younger people D: age_recode_27 \n",
    "* Resource allocation 1. Elderly 2. Younger (mental health care) --> Timeline of allocation of mental healthcare professionals and..  etc."
   ]
  },
  {
   "cell_type": "code",
   "execution_count": null,
   "metadata": {
    "code_folding": [
     0
    ]
   },
   "outputs": [],
   "source": [
    "# TO DO \n",
    "\n",
    "catlist = [\"X60\", ]\n",
    "scode_shortdef = {\"X60\": \"Intent. self-poisoning nonopioid analgesics, antipyretics, antirheumatics\",\n",
    "\"X61\": \"Intent. self-poisoning antiepileptic, sedative-hypnotic, antiparkinsonism and psychotropic drug not elsewhere classified\",\n",
    "\"X62\": \"Intent. self-poisoning narcotics and psychodysleptics [hallucinogens], not elsewhere classified\",\n",
    "\"X63\": \"Intent. self-poisoning other drugs acting on the autonomic nervous system\",\n",
    "\"X64\": \"Intent. self-poisoning other and unspecified drugs, medicaments and biological substances\",\n",
    "\"X65\": \"Intent. self-poisoning to alcohol\",\n",
    "\"X66\": \"Intent. self-poisoning organic solvents and halogenated hydrocarbons and their vapours\",\n",
    "\"X67\": \"Intent. self-poisoning carbon monoxide and other gases and vapours\",  \n",
    "\"X67.0\": \"Intent. self-poisoning carbon monoxide from combustion engine exhaust\",\n",
    "\"X67.1\": \"Intent. self-poisoning carbon monoxide from utility gas\",  \n",
    "\"X67.2\": \"Intent. self-poisoning carbon monoxide from other domestic fuels\",  \n",
    "\"X67.3\": \"Intent. self-poisoning carbon monoxide from other sources\",  \n",
    "\"X67.4\": \"Intent. self-poisoning carbon monoxide from unspecified sources\",  \n",
    "\"X67.8\": \"Intent. self-poisoning other specified gases and vapours\",  \n",
    "\"X67.9\": \"Intent. self-poisoning unspecified gases and vapours\",  \n",
    "\"X68\": \"Intent. self-poisoning pesticides\",  \n",
    "\"X69\": \"Intent. self-poisoning other and unspecified chemicals and noxious substances\",  \n",
    "\"X70\": \"Intent. self-harm hanging, strangulation and suffocation\",  \n",
    "\"X71\": \"Intent. self-harm drowning and submersion\",  \n",
    "\"X72\": \"Intent. self-harm handgun discharge\",  \n",
    "\"X73\": \"Intent. self-harm rifle, shotgun and larger firearm discharge\",  \n",
    "\"X74\": \"Intent. self-harm other and unspecified firearm discharge\",  \n",
    "\"X75\": \"Intent. self-harm explosive material\",  \n",
    "\"X76\": \"Intent. self-harm smoke, fire and flames\",  \n",
    "\"X77\": \"Intent. self-harm steam, hot vapours and hot objects \", \n",
    "\"X78\": \"Intent. self-harm sharp object\",  \n",
    "\"X79\": \"Intent. self-harm blunt object\", \n",
    "\"X80\": \"Intent. self-harm by jumping from a high place\",  \n",
    "\"X81\": \"Intent. self-harm jumping or lying before moving object\", \n",
    "\"X82\": \"Intent. self-harm crashing of motor vehicle\",  \n",
    "\"X83\": \"Intent. self-harm other specified means\",  \n",
    "\"X84\": \"Intent. self-harm unspecified means\" }\n"
   ]
  },
  {
   "cell_type": "code",
   "execution_count": null,
   "metadata": {
    "code_folding": [
     0
    ]
   },
   "outputs": [],
   "source": [
    "# TO DO  scode_shortdef\n",
    "scode_shortdef = {\"X60\": \"Intent. self-poisoning nonopioid analgesics, antipyretics, antirheumatics\",\n",
    "\"X61\": \"Intent. self-poisoning antiepileptic, sedative-hypnotic, antiparkinsonism and psychotropic drug not elsewhere classified\",\n",
    "\"X62\": \"Intent. self-poisoning narcotics and psychodysleptics [hallucinogens], not elsewhere classified\",\n",
    "\"X63\": \"Intent. self-poisoning other drugs acting on the autonomic nervous system\",\n",
    "\"X64\": \"Intent. self-poisoning other and unspecified drugs, medicaments and biological substances\",\n",
    "\"X65\": \"Intent. self-poisoning to alcohol\",\n",
    "\"X66\": \"Intent. self-poisoning organic solvents and halogenated hydrocarbons and their vapours\",\n",
    "\"X67\": \"Intent. self-poisoning carbon monoxide and other gases and vapours\",  \n",
    "\"X67.0\": \"Intent. self-poisoning carbon monoxide from combustion engine exhaust\",\n",
    "\"X67.1\": \"Intent. self-poisoning carbon monoxide from utility gas\",  \n",
    "\"X67.2\": \"Intent. self-poisoning carbon monoxide from other domestic fuels\",  \n",
    "\"X67.3\": \"Intent. self-poisoning carbon monoxide from other sources\",  \n",
    "\"X67.4\": \"Intent. self-poisoning carbon monoxide from unspecified sources\",  \n",
    "\"X67.8\": \"Intent. self-poisoning other specified gases and vapours\",  \n",
    "\"X67.9\": \"Intent. self-poisoning unspecified gases and vapours\",  \n",
    "\"X68\": \"Intent. self-poisoning pesticides\",  \n",
    "\"X69\": \"Intent. self-poisoning other and unspecified chemicals and noxious substances\",  \n",
    "\"X70\": \"Intent. self-harm hanging, strangulation and suffocation\",  \n",
    "\"X71\": \"Intent. self-harm drowning and submersion\",  \n",
    "\"X72\": \"Intent. self-harm handgun discharge\",  \n",
    "\"X73\": \"Intent. self-harm rifle, shotgun and larger firearm discharge\",  \n",
    "\"X74\": \"Intent. self-harm other and unspecified firearm discharge\",  \n",
    "\"X75\": \"Intent. self-harm explosive material\",  \n",
    "\"X76\": \"Intent. self-harm smoke, fire and flames\",  \n",
    "\"X77\": \"Intent. self-harm steam, hot vapours and hot objects \", \n",
    "\"X78\": \"Intent. self-harm sharp object\",  \n",
    "\"X79\": \"Intent. self-harm blunt object\", \n",
    "\"X80\": \"Intent. self-harm by jumping from a high place\",  \n",
    "\"X81\": \"Intent. self-harm jumping or lying before moving object\", \n",
    "\"X82\": \"Intent. self-harm crashing of motor vehicle\",  \n",
    "\"X83\": \"Intent. self-harm other specified means\",  \n",
    "\"X84\": \"Intent. self-harm unspecified means\" }"
   ]
  },
  {
   "cell_type": "code",
   "execution_count": null,
   "metadata": {
    "code_folding": []
   },
   "outputs": [],
   "source": [
    "# testz"
   ]
  },
  {
   "cell_type": "code",
   "execution_count": null,
   "metadata": {},
   "outputs": [],
   "source": [
    "tz = testz.str.strip().map(scode_shortdef)\n",
    "\n",
    "tz\n",
    "\n"
   ]
  },
  {
   "cell_type": "code",
   "execution_count": null,
   "metadata": {},
   "outputs": [],
   "source": [
    "zdfcomb.head()"
   ]
  },
  {
   "cell_type": "code",
   "execution_count": null,
   "metadata": {},
   "outputs": [],
   "source": [
    "def make_mapcols(df,mappingcol='mycol', newcolname='mycol1', coldict_def = None):\n",
    "    if isinstance(df, pd.DataFrame):\n",
    "        temp_loc = df.columns.get_loc(mappingcol)\n",
    "        df = df.insert(temp_loc,newcolname,0)\n",
    "        df[newcolname] = df[mappingcol].str.strip()\n",
    "        df[newcolname] = df[newcolname].str.strip().map(coldict_def)\n",
    "        return df\n",
    "    else:\n",
    "        print('ERROR: Please use a pandas dataframe in the first paramter')\n",
    "        return\n",
    "        \n",
    "    \n",
    "\n",
    "    "
   ]
  },
  {
   "cell_type": "code",
   "execution_count": null,
   "metadata": {},
   "outputs": [],
   "source": [
    "# zdfcomb1 = make_mapcols(zdfcomb,'age_recode_52','age_recode52_desc', 'age_recode52_def')"
   ]
  },
  {
   "cell_type": "code",
   "execution_count": null,
   "metadata": {},
   "outputs": [],
   "source": []
  },
  {
   "cell_type": "code",
   "execution_count": null,
   "metadata": {},
   "outputs": [],
   "source": [
    "test"
   ]
  },
  {
   "cell_type": "code",
   "execution_count": null,
   "metadata": {},
   "outputs": [],
   "source": [
    "test1.columns.get_loc(\"icd_10th_revision\")"
   ]
  },
  {
   "cell_type": "code",
   "execution_count": null,
   "metadata": {},
   "outputs": [],
   "source": [
    "test1.insert(21, \"Details\",0 )"
   ]
  },
  {
   "cell_type": "code",
   "execution_count": null,
   "metadata": {},
   "outputs": [],
   "source": [
    "zdfcomb = test1.copy()"
   ]
  },
  {
   "cell_type": "code",
   "execution_count": null,
   "metadata": {},
   "outputs": [],
   "source": [
    "zdfcomb.columns.get_loc(\"marital_status\")"
   ]
  },
  {
   "cell_type": "code",
   "execution_count": null,
   "metadata": {},
   "outputs": [],
   "source": [
    "zdfcomb.columns.get_loc(\"cause_recode_358\")"
   ]
  },
  {
   "cell_type": "code",
   "execution_count": null,
   "metadata": {},
   "outputs": [],
   "source": [
    "zdfcomb.columns"
   ]
  },
  {
   "cell_type": "code",
   "execution_count": null,
   "metadata": {},
   "outputs": [],
   "source": [
    "zdfcomb.insert(13, \"Age_recode27_desc\",0 )"
   ]
  },
  {
   "cell_type": "code",
   "execution_count": null,
   "metadata": {},
   "outputs": [],
   "source": [
    "zdfcomb.insert(27, \"Category\",0 )\n"
   ]
  },
  {
   "cell_type": "code",
   "execution_count": null,
   "metadata": {},
   "outputs": [],
   "source": [
    "zdfcomb.insert(20, \"marital_status_desc\",0 )"
   ]
  },
  {
   "cell_type": "code",
   "execution_count": null,
   "metadata": {},
   "outputs": [],
   "source": [
    "zdfcomb.columns.get_loc(\"marital_status_desc\")\n",
    "# del zdfcomb[\"marital_status_desc\"]"
   ]
  },
  {
   "cell_type": "code",
   "execution_count": null,
   "metadata": {},
   "outputs": [],
   "source": [
    "# zdfcomb.head()"
   ]
  },
  {
   "cell_type": "code",
   "execution_count": null,
   "metadata": {},
   "outputs": [],
   "source": [
    "zdfcomb.insert(29, \"Category_358\",0 )\n",
    "# causerecode_358_def"
   ]
  },
  {
   "cell_type": "code",
   "execution_count": null,
   "metadata": {},
   "outputs": [],
   "source": [
    "zdfcomb['Age_recode27_desc'] = zdfcomb['age_recode_27'].str.strip()"
   ]
  },
  {
   "cell_type": "code",
   "execution_count": null,
   "metadata": {},
   "outputs": [],
   "source": [
    "zdfcomb['Age_recode27_desc'] = zdfcomb['Age_recode27_desc'].str.strip().map(age_recode27_def)"
   ]
  },
  {
   "cell_type": "code",
   "execution_count": null,
   "metadata": {},
   "outputs": [],
   "source": [
    "zdfcomb['marital_status_desc'] = zdfcomb['marital_status'].str.strip()"
   ]
  },
  {
   "cell_type": "code",
   "execution_count": null,
   "metadata": {},
   "outputs": [],
   "source": [
    "zdfcomb['marital_status_desc'] = zdfcomb['marital_status_desc'].str.strip().map(marital_status_def)"
   ]
  },
  {
   "cell_type": "code",
   "execution_count": null,
   "metadata": {},
   "outputs": [],
   "source": [
    "# zdfcomb.tail()\n",
    "zdfcomb['Category_358'] =  zdfcomb['cause_recode_358'].str.strip()"
   ]
  },
  {
   "cell_type": "code",
   "execution_count": null,
   "metadata": {},
   "outputs": [],
   "source": [
    "zdfcomb['Category_358'] = zdfcomb['Category_358'].str.strip().map(causerecode_358_def)\n"
   ]
  },
  {
   "cell_type": "code",
   "execution_count": null,
   "metadata": {},
   "outputs": [],
   "source": [
    "zdfcomb['icd_10th_revision'] =  zdfcomb['icd_10th_revision'].str.strip()"
   ]
  },
  {
   "cell_type": "code",
   "execution_count": null,
   "metadata": {},
   "outputs": [],
   "source": [
    "zdfcomb['Details'] = zdfcomb['icd_10th_revision']"
   ]
  },
  {
   "cell_type": "code",
   "execution_count": null,
   "metadata": {},
   "outputs": [],
   "source": [
    "zdfcomb['Examples'] = zdfcomb['icd_10th_revision']"
   ]
  },
  {
   "cell_type": "code",
   "execution_count": null,
   "metadata": {},
   "outputs": [],
   "source": [
    "# Actual mapping\n",
    "zdfcomb['Examples'] = zdfcomb['Examples'].str.strip().map(details_examples)"
   ]
  },
  {
   "cell_type": "code",
   "execution_count": null,
   "metadata": {},
   "outputs": [],
   "source": [
    "# Actual mapping\n",
    "zdfcomb['Details'] = zdfcomb['Details'].str.strip().map(scode_shortdef)\n"
   ]
  },
  {
   "cell_type": "code",
   "execution_count": null,
   "metadata": {},
   "outputs": [],
   "source": [
    "# zdfcomb.replace({'Details': scode_def })\n",
    "zdfcomb[['Details','Category','icd_10th_revision', 'Age_recode27_desc','marital_status_desc']].head()\n"
   ]
  },
  {
   "cell_type": "code",
   "execution_count": null,
   "metadata": {},
   "outputs": [],
   "source": [
    "# zdfcomb['Details'] = zdfcomb['Details'].apply(lambda x: scode_def[x])\n",
    "zdfcomb[['Details','Examples','icd_10th_revision']].tail()\n"
   ]
  },
  {
   "cell_type": "code",
   "execution_count": null,
   "metadata": {},
   "outputs": [],
   "source": [
    "zdfcomb['Details'].head()"
   ]
  },
  {
   "cell_type": "code",
   "execution_count": null,
   "metadata": {},
   "outputs": [],
   "source": [
    "zdfcomb['age_detail'].head()"
   ]
  },
  {
   "cell_type": "code",
   "execution_count": null,
   "metadata": {},
   "outputs": [],
   "source": []
  },
  {
   "cell_type": "code",
   "execution_count": null,
   "metadata": {},
   "outputs": [],
   "source": [
    "zdfcomb.to_csv('./rawdata/cleanedCombined.csv', index=False)"
   ]
  },
  {
   "cell_type": "code",
   "execution_count": null,
   "metadata": {},
   "outputs": [],
   "source": [
    "tset = pd.read_csv('./rawdata/cleanedCombined.csv')"
   ]
  },
  {
   "cell_type": "code",
   "execution_count": null,
   "metadata": {
    "code_folding": []
   },
   "outputs": [],
   "source": [
    "# tset.head()\n",
    "zdfcomb = tset"
   ]
  },
  {
   "cell_type": "code",
   "execution_count": null,
   "metadata": {},
   "outputs": [],
   "source": []
  },
  {
   "cell_type": "code",
   "execution_count": null,
   "metadata": {},
   "outputs": [],
   "source": []
  }
 ],
 "metadata": {
  "kernelspec": {
   "display_name": "Python 3",
   "language": "python",
   "name": "python3"
  },
  "language_info": {
   "codemirror_mode": {
    "name": "ipython",
    "version": 3
   },
   "file_extension": ".py",
   "mimetype": "text/x-python",
   "name": "python",
   "nbconvert_exporter": "python",
   "pygments_lexer": "ipython3",
   "version": "3.7.6"
  },
  "toc": {
   "base_numbering": 1,
   "nav_menu": {},
   "number_sections": true,
   "sideBar": true,
   "skip_h1_title": false,
   "title_cell": "Table of Contents",
   "title_sidebar": "Contents",
   "toc_cell": true,
   "toc_position": {},
   "toc_section_display": true,
   "toc_window_display": false
  }
 },
 "nbformat": 4,
 "nbformat_minor": 4
}
