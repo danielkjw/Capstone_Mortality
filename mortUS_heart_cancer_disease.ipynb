{
 "cells": [
  {
   "cell_type": "markdown",
   "metadata": {},
   "source": [
    "## SQL DB Test"
   ]
  },
  {
   "cell_type": "code",
   "execution_count": 1,
   "metadata": {
    "scrolled": true
   },
   "outputs": [
    {
     "name": "stdout",
     "output_type": "stream",
     "text": [
      "CPU times: user 4 µs, sys: 3 µs, total: 7 µs\n",
      "Wall time: 11.2 µs\n"
     ]
    }
   ],
   "source": [
    "%%time\n",
    "#!pip install ipython-sql\n",
    "#!conda install mysqlclient --yes\n",
    "#!pip install mysqlclient\n",
    "#!pip install PyMySQL\n",
    "#!pip install mysql-connector-python\n"
   ]
  },
  {
   "cell_type": "code",
   "execution_count": 17,
   "metadata": {},
   "outputs": [],
   "source": [
    "import os\n",
    "import pymysql\n",
    "import mysql.connector\n",
    "import pandas as pd\n",
    "import numpy as np\n",
    "%matplotlib inline\n",
    "import matplotlib.pyplot as plt"
   ]
  },
  {
   "cell_type": "code",
   "execution_count": 504,
   "metadata": {},
   "outputs": [
    {
     "name": "stdout",
     "output_type": "stream",
     "text": [
      "Connection ID:  3238\n"
     ]
    }
   ],
   "source": [
    "#connect to AWS SQL Database\n",
    "\n",
    "# import pymysql\n",
    "import mysql.connector\n",
    "conn = mysql.connector.connect(option_files='aws_mort_conn.conf')\n",
    "print(\"Connection ID: \",conn.connection_id)\n"
   ]
  },
  {
   "cell_type": "code",
   "execution_count": 500,
   "metadata": {},
   "outputs": [
    {
     "name": "stdout",
     "output_type": "stream",
     "text": [
      "CPU times: user 41.9 s, sys: 20.9 s, total: 1min 2s\n",
      "Wall time: 3min 1s\n"
     ]
    }
   ],
   "source": [
    "%%time \n",
    "\n",
    "#### 2012 ####\n",
    "\n",
    "#upload person info \n",
    "person_info_2012 = pd.read_sql_query(\"SELECT person_id, year_id, resident_status, edu_2003_rev, sex, age_recode_27, marital_status, bridged_race_1, bridged_race_recode_5, hispanicorigin, hispanicorigin_bridgeracerecode, day_of_week_of_death, month_of_death, data_year FROM mortality_2012\", conn)\n",
    "\n",
    "#death information \n",
    "death_info_2012 = pd.read_sql_query(\"SELECT person_id, place_of_death_and_status,injury_at_work, manner_of_death, autopsy, activity_code, place_of_injury FROM mortality_2012\", conn)\n",
    "\n",
    "#recode multiple conditions\n",
    "rec_mult_con_2012 = pd.read_sql_query(\"SELECT person_id, number_of_recordaxis_conditions, recordaxis_conditions, recAx_condition_1st, recAx_condition_2nd, recAx_condition_3rd, recAx_condition_4th, recAx_condition_5th, recAx_condition_6th, recAx_condition_7th, recAx_condition_8th, recAx_condition_9th, recAx_condition_10th, recAx_condition_11th, recAx_condition_12th, recAx_condition_13th, recAx_condition_14th, recAx_condition_15th, recAx_condition_16th, recAx_condition_17th, recAx_condition_18th, recAx_condition_19th, recAx_condition_20th FROM mortality_2012\", conn)\n",
    "\n",
    "#upload heart disease underlying cause of death\n",
    "hd_cause_death_2012 = pd.read_sql_query(\"SELECT person_id, cause_recode_358 FROM mortality_2012 WHERE (cause_recode_358 >= 197 AND cause_recode_358 <= 246)\", conn)\n",
    "\n",
    "#upload cancer underlying cause of death \n",
    "can_cause_death_2012 = pd.read_sql_query(\"SELECT person_id, cause_recode_358 FROM mortality_2012 WHERE (cause_recode_358 >= 069 AND cause_recode_358 <= 146)\", conn)\n",
    "\n",
    "person_info_2012[\"race_recode_capstone\"]=person_info_2018.hispanicorigin_bridgeracerecode.replace(to_replace={\"1\":\"1\",\n",
    "                                                                                                           \"2\":\"1\",\n",
    "                                                                                                           \"3\":\"1\",\n",
    "                                                                                                           \"4\":\"1\",\n",
    "                                                                                                           \"5\":\"1\",\n",
    "                                                                                                           \"9\":\"1\",\n",
    "                                                                                                           \"6\":\"2\",\n",
    "                                                                                                           \"7\":\"3\",\n",
    "                                                                                                           \"8\":\"4\"\n",
    "                                                                                                          })\n"
   ]
  },
  {
   "cell_type": "code",
   "execution_count": 496,
   "metadata": {},
   "outputs": [
    {
     "name": "stdout",
     "output_type": "stream",
     "text": [
      "CPU times: user 38.1 s, sys: 6.07 s, total: 44.2 s\n",
      "Wall time: 3min 27s\n"
     ]
    }
   ],
   "source": [
    "%%time \n",
    "\n",
    "#### 2013 ####\n",
    "\n",
    "#upload person info \n",
    "person_info_2013 = pd.read_sql_query(\"SELECT person_id, year_id, resident_status, edu_2003_rev, sex, age_recode_27, marital_status, bridged_race_1, bridged_race_recode_5, hispanicorigin, hispanicorigin_bridgeracerecode, day_of_week_of_death, month_of_death, data_year FROM mortality_2013\", conn)\n",
    "\n",
    "#death information \n",
    "death_info_2013 = pd.read_sql_query(\"SELECT person_id, place_of_death_and_status, injury_at_work, manner_of_death, autopsy, activity_code, place_of_injury FROM mortality_2013\", conn)\n",
    "\n",
    "#recode multiple conditions\n",
    "rec_mult_con_2013 = pd.read_sql_query(\"SELECT person_id, number_of_recordaxis_conditions, recordaxis_conditions, recAx_condition_1st, recAx_condition_2nd, recAx_condition_3rd, recAx_condition_4th, recAx_condition_5th, recAx_condition_6th, recAx_condition_7th, recAx_condition_8th, recAx_condition_9th, recAx_condition_10th, recAx_condition_11th, recAx_condition_12th, recAx_condition_13th, recAx_condition_14th, recAx_condition_15th, recAx_condition_16th, recAx_condition_17th, recAx_condition_18th, recAx_condition_19th, recAx_condition_20th FROM mortality_2013\", conn)\n",
    "\n",
    "#upload heart disease underlying cause of death\n",
    "hd_cause_death_2013 = pd.read_sql_query(\"SELECT person_id, cause_recode_358 FROM mortality_2013 WHERE (cause_recode_358 >= 197 AND cause_recode_358 <= 246)\", conn)\n",
    "\n",
    "#upload cancer underlying cause of death \n",
    "can_cause_death_2013 = pd.read_sql_query(\"SELECT person_id, cause_recode_358 FROM mortality_2013 WHERE (cause_recode_358 >= 069 AND cause_recode_358 <= 146)\", conn)\n",
    "\n",
    "person_info_2013[\"race_recode_capstone\"]=person_info_2018.hispanicorigin_bridgeracerecode.replace(to_replace={\"1\":\"1\",\n",
    "                                                                                                           \"2\":\"1\",\n",
    "                                                                                                           \"3\":\"1\",\n",
    "                                                                                                           \"4\":\"1\",\n",
    "                                                                                                           \"5\":\"1\",\n",
    "                                                                                                           \"9\":\"1\",\n",
    "                                                                                                           \"6\":\"2\",\n",
    "                                                                                                           \"7\":\"3\",\n",
    "                                                                                                           \"8\":\"4\"\n",
    "                                                                                                          })\n"
   ]
  },
  {
   "cell_type": "code",
   "execution_count": 495,
   "metadata": {},
   "outputs": [
    {
     "name": "stdout",
     "output_type": "stream",
     "text": [
      "CPU times: user 42.4 s, sys: 7.57 s, total: 50 s\n",
      "Wall time: 2min 27s\n"
     ]
    }
   ],
   "source": [
    "%%time \n",
    "\n",
    "#### 2014 ####\n",
    "\n",
    "#upload person info \n",
    "person_info_2014 = pd.read_sql_query(\"SELECT person_id, year_id, resident_status, edu_2003_rev, sex, age_recode_27, marital_status, bridged_race_1, bridged_race_recode_5, hispanicorigin, hispanicorigin_bridgeracerecode, day_of_week_of_death, month_of_death, data_year FROM mortality_2014\", conn)\n",
    "\n",
    "#death information \n",
    "death_info_2014 = pd.read_sql_query(\"SELECT person_id, place_of_death_and_status, injury_at_work, manner_of_death, autopsy, activity_code, place_of_injury FROM mortality_2014\", conn)\n",
    "\n",
    "#recode multiple conditions\n",
    "rec_mult_con_2014 = pd.read_sql_query(\"SELECT person_id, number_of_recordaxis_conditions, recordaxis_conditions, recAx_condition_1st, recAx_condition_2nd, recAx_condition_3rd, recAx_condition_4th, recAx_condition_5th, recAx_condition_6th, recAx_condition_7th, recAx_condition_8th, recAx_condition_9th, recAx_condition_10th, recAx_condition_11th, recAx_condition_12th, recAx_condition_13th, recAx_condition_14th, recAx_condition_15th, recAx_condition_16th, recAx_condition_17th, recAx_condition_18th, recAx_condition_19th, recAx_condition_20th FROM mortality_2014\", conn)\n",
    "\n",
    "#upload heart disease underlying cause of death\n",
    "hd_cause_death_2014 = pd.read_sql_query(\"SELECT person_id, cause_recode_358 FROM mortality_2014 WHERE (cause_recode_358 >= 197 AND cause_recode_358 <= 246)\", conn)\n",
    "\n",
    "#upload cancer underlying cause of death \n",
    "can_cause_death_2014 = pd.read_sql_query(\"SELECT person_id, cause_recode_358 FROM mortality_2014 WHERE (cause_recode_358 >= 069 AND cause_recode_358 <= 146)\", conn)\n",
    "\n",
    "person_info_2014[\"race_recode_capstone\"]=person_info_2018.hispanicorigin_bridgeracerecode.replace(to_replace={\"1\":\"1\",\n",
    "                                                                                                           \"2\":\"1\",\n",
    "                                                                                                           \"3\":\"1\",\n",
    "                                                                                                           \"4\":\"1\",\n",
    "                                                                                                           \"5\":\"1\",\n",
    "                                                                                                           \"9\":\"1\",\n",
    "                                                                                                           \"6\":\"2\",\n",
    "                                                                                                           \"7\":\"3\",\n",
    "                                                                                                           \"8\":\"4\"\n",
    "                                                                                                          })\n"
   ]
  },
  {
   "cell_type": "code",
   "execution_count": 490,
   "metadata": {},
   "outputs": [
    {
     "name": "stdout",
     "output_type": "stream",
     "text": [
      "CPU times: user 38.6 s, sys: 6.32 s, total: 44.9 s\n",
      "Wall time: 3min 32s\n"
     ]
    }
   ],
   "source": [
    "%%time \n",
    "\n",
    "#### 2015 ####\n",
    "\n",
    "#upload person info \n",
    "person_info_2015 = pd.read_sql_query(\"SELECT person_id, year_id, resident_status, edu_2003_rev, sex, age_recode_27, marital_status, bridged_race_1, bridged_race_recode_5, hispanicorigin, hispanicorigin_bridgeracerecode, day_of_week_of_death, month_of_death, data_year FROM mortality_2015\", conn)\n",
    "\n",
    "#death information \n",
    "death_info_2015 = pd.read_sql_query(\"SELECT person_id, place_of_death_and_status, injury_at_work, manner_of_death, autopsy, activity_code, place_of_injury FROM mortality_2015\", conn)\n",
    "\n",
    "#recode multiple conditions\n",
    "rec_mult_con_2015 = pd.read_sql_query(\"SELECT person_id, number_of_recordaxis_conditions, recordaxis_conditions, recAx_condition_1st, recAx_condition_2nd, recAx_condition_3rd, recAx_condition_4th, recAx_condition_5th, recAx_condition_6th, recAx_condition_7th, recAx_condition_8th, recAx_condition_9th, recAx_condition_10th, recAx_condition_11th, recAx_condition_12th, recAx_condition_13th, recAx_condition_14th, recAx_condition_15th, recAx_condition_16th, recAx_condition_17th, recAx_condition_18th, recAx_condition_19th, recAx_condition_20th FROM mortality_2015\", conn)\n",
    "\n",
    "#upload heart disease underlying cause of death\n",
    "hd_cause_death_2015 = pd.read_sql_query(\"SELECT person_id, cause_recode_358 FROM mortality_2015 WHERE (cause_recode_358 >= 197 AND cause_recode_358 <= 246)\", conn)\n",
    "\n",
    "#upload cancer underlying cause of death \n",
    "can_cause_death_2015 = pd.read_sql_query(\"SELECT person_id, cause_recode_358 FROM mortality_2015 WHERE (cause_recode_358 >= 069 AND cause_recode_358 <= 146)\", conn)\n",
    "\n",
    "person_info_2015[\"race_recode_capstone\"]=person_info_2018.hispanicorigin_bridgeracerecode.replace(to_replace={\"1\":\"1\",\n",
    "                                                                                                           \"2\":\"1\",\n",
    "                                                                                                           \"3\":\"1\",\n",
    "                                                                                                           \"4\":\"1\",\n",
    "                                                                                                           \"5\":\"1\",\n",
    "                                                                                                           \"9\":\"1\",\n",
    "                                                                                                           \"6\":\"2\",\n",
    "                                                                                                           \"7\":\"3\",\n",
    "                                                                                                           \"8\":\"4\"\n",
    "                                                                                                          })\n"
   ]
  },
  {
   "cell_type": "code",
   "execution_count": 489,
   "metadata": {},
   "outputs": [
    {
     "name": "stdout",
     "output_type": "stream",
     "text": [
      "CPU times: user 42.5 s, sys: 9.7 s, total: 52.2 s\n",
      "Wall time: 3min 31s\n"
     ]
    }
   ],
   "source": [
    "%%time \n",
    "\n",
    "#### 2016 ####\n",
    "\n",
    "#upload person info \n",
    "person_info_2016 = pd.read_sql_query(\"SELECT person_id, year_id, resident_status, edu_2003_rev, sex, age_recode_27, marital_status, bridged_race_1, bridged_race_recode_5, hispanicorigin, hispanicorigin_bridgeracerecode, day_of_week_of_death, month_of_death, data_year FROM mortality_2016\", conn)\n",
    "\n",
    "#death information \n",
    "death_info_2016 = pd.read_sql_query(\"SELECT person_id, place_of_death_and_status, injury_at_work, manner_of_death, autopsy, activity_code, place_of_injury FROM mortality_2016\", conn)\n",
    "\n",
    "#recode multiple conditions\n",
    "rec_mult_con_2016 = pd.read_sql_query(\"SELECT person_id, number_of_recordaxis_conditions, recordaxis_conditions, recAx_condition_1st, recAx_condition_2nd, recAx_condition_3rd, recAx_condition_4th, recAx_condition_5th, recAx_condition_6th, recAx_condition_7th, recAx_condition_8th, recAx_condition_9th, recAx_condition_10th, recAx_condition_11th, recAx_condition_12th, recAx_condition_13th, recAx_condition_14th, recAx_condition_15th, recAx_condition_16th, recAx_condition_17th, recAx_condition_18th, recAx_condition_19th, recAx_condition_20th FROM mortality_2016\", conn)\n",
    "\n",
    "#upload heart disease underlying cause of death\n",
    "hd_cause_death_2016 = pd.read_sql_query(\"SELECT person_id, cause_recode_358 FROM mortality_2016 WHERE (cause_recode_358 >= 197 AND cause_recode_358 <= 246)\", conn)\n",
    "\n",
    "#upload cancer underlying cause of death \n",
    "can_cause_death_2016 = pd.read_sql_query(\"SELECT person_id, cause_recode_358 FROM mortality_2016 WHERE (cause_recode_358 >= 069 AND cause_recode_358 <= 146)\", conn)\n",
    "\n",
    "person_info_2016[\"race_recode_capstone\"]=person_info_2018.hispanicorigin_bridgeracerecode.replace(to_replace={\"1\":\"1\",\n",
    "                                                                                                           \"2\":\"1\",\n",
    "                                                                                                           \"3\":\"1\",\n",
    "                                                                                                           \"4\":\"1\",\n",
    "                                                                                                           \"5\":\"1\",\n",
    "                                                                                                           \"9\":\"1\",\n",
    "                                                                                                           \"6\":\"2\",\n",
    "                                                                                                           \"7\":\"3\",\n",
    "                                                                                                           \"8\":\"4\"\n",
    "                                                                                                          })\n"
   ]
  },
  {
   "cell_type": "code",
   "execution_count": 463,
   "metadata": {},
   "outputs": [
    {
     "name": "stdout",
     "output_type": "stream",
     "text": [
      "CPU times: user 47.3 s, sys: 15.9 s, total: 1min 3s\n",
      "Wall time: 4min 32s\n"
     ]
    }
   ],
   "source": [
    "%%time \n",
    "\n",
    "#### 2017 ####\n",
    "\n",
    "#upload person info \n",
    "person_info_2017 = pd.read_sql_query(\"SELECT person_id, year_id, resident_status, edu_2003_rev, sex, age_recode_27, marital_status, bridged_race_1, bridged_race_recode_5, hispanicorigin, hispanicorigin_bridgeracerecode, day_of_week_of_death, month_of_death, data_year FROM mortality_2017\", conn)\n",
    "\n",
    "#death information \n",
    "death_info_2017 = pd.read_sql_query(\"SELECT person_id, place_of_death_and_status, injury_at_work, manner_of_death, autopsy, activity_code, place_of_injury FROM mortality_2017\", conn)\n",
    "\n",
    "#recode multiple conditions\n",
    "rec_mult_con_2017 = pd.read_sql_query(\"SELECT person_id, number_of_recordaxis_conditions, recordaxis_conditions, recAx_condition_1st, recAx_condition_2nd, recAx_condition_3rd, recAx_condition_4th, recAx_condition_5th, recAx_condition_6th, recAx_condition_7th, recAx_condition_8th, recAx_condition_9th, recAx_condition_10th, recAx_condition_11th, recAx_condition_12th, recAx_condition_13th, recAx_condition_14th, recAx_condition_15th, recAx_condition_16th, recAx_condition_17th, recAx_condition_18th, recAx_condition_19th, recAx_condition_20th FROM mortality_2017\", conn)\n",
    "\n",
    "#upload heart disease underlying cause of death\n",
    "hd_cause_death_2017 = pd.read_sql_query(\"SELECT person_id, cause_recode_358 FROM mortality_2017 WHERE (cause_recode_358 >= 197 AND cause_recode_358 <= 246)\", conn)\n",
    "\n",
    "#upload cancer underlying cause of death \n",
    "can_cause_death_2017 = pd.read_sql_query(\"SELECT person_id, cause_recode_358 FROM mortality_2017 WHERE (cause_recode_358 >= 069 AND cause_recode_358 <= 146)\", conn)\n",
    "\n",
    "person_info_2017[\"race_recode_capstone\"]=person_info_2018.hispanicorigin_bridgeracerecode.replace(to_replace={\"1\":\"1\",\n",
    "                                                                                                           \"2\":\"1\",\n",
    "                                                                                                           \"3\":\"1\",\n",
    "                                                                                                           \"4\":\"1\",\n",
    "                                                                                                           \"5\":\"1\",\n",
    "                                                                                                           \"9\":\"1\",\n",
    "                                                                                                           \"6\":\"2\",\n",
    "                                                                                                           \"7\":\"3\",\n",
    "                                                                                                           \"8\":\"4\"\n",
    "                                                                                                          })\n"
   ]
  },
  {
   "cell_type": "code",
   "execution_count": 19,
   "metadata": {
    "scrolled": true
   },
   "outputs": [
    {
     "name": "stdout",
     "output_type": "stream",
     "text": [
      "CPU times: user 42.7 s, sys: 5.71 s, total: 48.4 s\n",
      "Wall time: 3min 36s\n"
     ]
    }
   ],
   "source": [
    "%%time \n",
    "\n",
    "#### 2018 ####\n",
    "\n",
    "#upload person info \n",
    "person_info_2018 = pd.read_sql_query(\"SELECT person_id, year_id, resident_status, edu_2003_rev, sex, age_recode_27, marital_status, bridged_race_1, bridged_race_recode_5, hispanicorigin, hispanicorigin_bridgeracerecode, day_of_week_of_death, month_of_death, data_year FROM mortality_2018\", conn)\n",
    "\n",
    "#death information \n",
    "death_info_2018 = pd.read_sql_query(\"SELECT person_id, place_of_death_and_status, injury_at_work, manner_of_death, autopsy, activity_code, place_of_injury FROM mortality_2018\", conn)\n",
    "\n",
    "#recode multiple conditions\n",
    "rec_mult_con_2018 = pd.read_sql_query(\"SELECT person_id, number_of_recordaxis_conditions, recordaxis_conditions, recAx_condition_1st, recAx_condition_2nd, recAx_condition_3rd, recAx_condition_4th, recAx_condition_5th, recAx_condition_6th, recAx_condition_7th, recAx_condition_8th, recAx_condition_9th, recAx_condition_10th, recAx_condition_11th, recAx_condition_12th, recAx_condition_13th, recAx_condition_14th, recAx_condition_15th, recAx_condition_16th, recAx_condition_17th, recAx_condition_18th, recAx_condition_19th, recAx_condition_20th FROM mortality_2018\", conn)\n",
    "\n",
    "#upload heart disease underlying cause of death\n",
    "hd_cause_death_2018 = pd.read_sql_query(\"SELECT person_id, cause_recode_358 FROM mortality_2018 WHERE (cause_recode_358 >= 197 AND cause_recode_358 <= 246)\", conn)\n",
    "\n",
    "#upload cancer underlying cause of death \n",
    "can_cause_death_2018 = pd.read_sql_query(\"SELECT person_id, cause_recode_358 FROM mortality_2018 WHERE (cause_recode_358 >= 069 AND cause_recode_358 <= 146)\", conn)\n",
    "\n",
    "\n",
    "#recode race\n",
    "person_info_2018[\"race_recode_capstone\"]=person_info_2018.hispanicorigin_bridgeracerecode.replace(to_replace={\"1\":\"1\",\n",
    "                                                                                                           \"2\":\"1\",\n",
    "                                                                                                           \"3\":\"1\",\n",
    "                                                                                                           \"4\":\"1\",\n",
    "                                                                                                           \"5\":\"1\",\n",
    "                                                                                                           \"9\":\"1\",\n",
    "                                                                                                           \"6\":\"2\",\n",
    "                                                                                                           \"7\":\"3\",\n",
    "                                                                                                           \"8\":\"4\"\n",
    "                                                                                                          })\n",
    "\n",
    "\n"
   ]
  },
  {
   "cell_type": "code",
   "execution_count": 20,
   "metadata": {},
   "outputs": [
    {
     "data": {
      "text/html": [
       "<div>\n",
       "<style scoped>\n",
       "    .dataframe tbody tr th:only-of-type {\n",
       "        vertical-align: middle;\n",
       "    }\n",
       "\n",
       "    .dataframe tbody tr th {\n",
       "        vertical-align: top;\n",
       "    }\n",
       "\n",
       "    .dataframe thead th {\n",
       "        text-align: right;\n",
       "    }\n",
       "</style>\n",
       "<table border=\"1\" class=\"dataframe\">\n",
       "  <thead>\n",
       "    <tr style=\"text-align: right;\">\n",
       "      <th></th>\n",
       "      <th>person_id</th>\n",
       "      <th>year_id</th>\n",
       "      <th>resident_status</th>\n",
       "      <th>edu_2003_rev</th>\n",
       "      <th>sex</th>\n",
       "      <th>age_recode_27</th>\n",
       "      <th>marital_status</th>\n",
       "      <th>bridged_race_1</th>\n",
       "      <th>bridged_race_recode_5</th>\n",
       "      <th>hispanicorigin</th>\n",
       "      <th>hispanicorigin_bridgeracerecode</th>\n",
       "      <th>day_of_week_of_death</th>\n",
       "      <th>month_of_death</th>\n",
       "      <th>data_year</th>\n",
       "      <th>race_recode_capstone</th>\n",
       "    </tr>\n",
       "  </thead>\n",
       "  <tbody>\n",
       "    <tr>\n",
       "      <th>0</th>\n",
       "      <td>1</td>\n",
       "      <td>8</td>\n",
       "      <td>3</td>\n",
       "      <td>3</td>\n",
       "      <td>F</td>\n",
       "      <td>15</td>\n",
       "      <td>D</td>\n",
       "      <td>1</td>\n",
       "      <td>1</td>\n",
       "      <td>100</td>\n",
       "      <td>6</td>\n",
       "      <td>2</td>\n",
       "      <td>1</td>\n",
       "      <td>2018</td>\n",
       "      <td>2</td>\n",
       "    </tr>\n",
       "    <tr>\n",
       "      <th>1</th>\n",
       "      <td>2</td>\n",
       "      <td>8</td>\n",
       "      <td>1</td>\n",
       "      <td>3</td>\n",
       "      <td>M</td>\n",
       "      <td>11</td>\n",
       "      <td>S</td>\n",
       "      <td>3</td>\n",
       "      <td>3</td>\n",
       "      <td>100</td>\n",
       "      <td>8</td>\n",
       "      <td>4</td>\n",
       "      <td>1</td>\n",
       "      <td>2018</td>\n",
       "      <td>4</td>\n",
       "    </tr>\n",
       "    <tr>\n",
       "      <th>2</th>\n",
       "      <td>3</td>\n",
       "      <td>8</td>\n",
       "      <td>1</td>\n",
       "      <td>6</td>\n",
       "      <td>M</td>\n",
       "      <td>24</td>\n",
       "      <td>D</td>\n",
       "      <td>1</td>\n",
       "      <td>1</td>\n",
       "      <td>100</td>\n",
       "      <td>6</td>\n",
       "      <td>3</td>\n",
       "      <td>1</td>\n",
       "      <td>2018</td>\n",
       "      <td>2</td>\n",
       "    </tr>\n",
       "    <tr>\n",
       "      <th>3</th>\n",
       "      <td>4</td>\n",
       "      <td>8</td>\n",
       "      <td>1</td>\n",
       "      <td>2</td>\n",
       "      <td>M</td>\n",
       "      <td>24</td>\n",
       "      <td>W</td>\n",
       "      <td>1</td>\n",
       "      <td>1</td>\n",
       "      <td>100</td>\n",
       "      <td>6</td>\n",
       "      <td>7</td>\n",
       "      <td>1</td>\n",
       "      <td>2018</td>\n",
       "      <td>2</td>\n",
       "    </tr>\n",
       "    <tr>\n",
       "      <th>4</th>\n",
       "      <td>5</td>\n",
       "      <td>8</td>\n",
       "      <td>2</td>\n",
       "      <td>4</td>\n",
       "      <td>F</td>\n",
       "      <td>12</td>\n",
       "      <td>S</td>\n",
       "      <td>3</td>\n",
       "      <td>3</td>\n",
       "      <td>100</td>\n",
       "      <td>8</td>\n",
       "      <td>2</td>\n",
       "      <td>1</td>\n",
       "      <td>2018</td>\n",
       "      <td>4</td>\n",
       "    </tr>\n",
       "  </tbody>\n",
       "</table>\n",
       "</div>"
      ],
      "text/plain": [
       "   person_id year_id resident_status edu_2003_rev sex age_recode_27  \\\n",
       "0          1       8               3            3   F            15   \n",
       "1          2       8               1            3   M            11   \n",
       "2          3       8               1            6   M            24   \n",
       "3          4       8               1            2   M            24   \n",
       "4          5       8               2            4   F            12   \n",
       "\n",
       "  marital_status bridged_race_1 bridged_race_recode_5 hispanicorigin  \\\n",
       "0              D              1                     1            100   \n",
       "1              S              3                     3            100   \n",
       "2              D              1                     1            100   \n",
       "3              W              1                     1            100   \n",
       "4              S              3                     3            100   \n",
       "\n",
       "  hispanicorigin_bridgeracerecode day_of_week_of_death month_of_death  \\\n",
       "0                               6                    2              1   \n",
       "1                               8                    4              1   \n",
       "2                               6                    3              1   \n",
       "3                               6                    7              1   \n",
       "4                               8                    2              1   \n",
       "\n",
       "  data_year race_recode_capstone  \n",
       "0      2018                    2  \n",
       "1      2018                    4  \n",
       "2      2018                    2  \n",
       "3      2018                    2  \n",
       "4      2018                    4  "
      ]
     },
     "execution_count": 20,
     "metadata": {},
     "output_type": "execute_result"
    }
   ],
   "source": [
    "person_info_2018.head()"
   ]
  },
  {
   "cell_type": "code",
   "execution_count": null,
   "metadata": {},
   "outputs": [],
   "source": [
    "# Hispanic Origin/Race Recode\n",
    "# 1 ... Mexican\n",
    "# 2 ... Puerto Rican\n",
    "# 3 ... Cuban\n",
    "# 4 ... Central or South American\n",
    "# 5 ... Other or unknown Hispanic\n",
    "# 6 ... Non - Hispanic white\n",
    "# 7 ... Non - Hispanic black\n",
    "# 8 ... Non - Hispanic other races\n",
    "# 9 ... Hispanic origin unknown \n",
    "\n",
    "\n",
    "# Race Recode Capstone\n",
    "# 1 ... Hispanic\n",
    "# 2 ... White\n",
    "# 3 ... Black\n",
    "# 4 ... Other Races\n"
   ]
  },
  {
   "cell_type": "code",
   "execution_count": 506,
   "metadata": {
    "scrolled": true
   },
   "outputs": [
    {
     "name": "stdout",
     "output_type": "stream",
     "text": [
      "CPU times: user 10.3 s, sys: 14 s, total: 24.3 s\n",
      "Wall time: 32.2 s\n"
     ]
    }
   ],
   "source": [
    "%%time \n",
    "\n",
    "#person info and heart disease\n",
    "# hd2012=pd.merge(person_info_2012, hd_cause_death_2012, on=\"person_id\").merge(death_info_2012, on=\"person_id\")\n",
    "# hd2013=pd.merge(person_info_2013, hd_cause_death_2013, on=\"person_id\").merge(death_info_2013, on=\"person_id\")\n",
    "# hd2014=pd.merge(person_info_2014, hd_cause_death_2014, on=\"person_id\").merge(death_info_2014, on=\"person_id\")\n",
    "# hd2015=pd.merge(person_info_2015, hd_cause_death_2015, on=\"person_id\").merge(death_info_2015, on=\"person_id\")\n",
    "#hd2016=pd.merge(person_info_2016, hd_cause_death_2016, on=\"person_id\").merge(death_info_2016, on=\"person_id\")\n",
    "#hd2017=pd.merge(person_info_2017, hd_cause_death_2017, on=\"person_id\").merge(death_info_2017, on=\"person_id\")\n",
    "#hd2018=pd.merge(person_info_2018, hd_cause_death_2018, on=\"person_id\").merge(death_info_2018, on=\"person_id\")\n",
    "\n",
    "#person info and cancer\n",
    "# can2012=pd.merge(person_info_2012, can_cause_death_2012, on=\"person_id\").merge(death_info_2012, on=\"person_id\")\n",
    "# can2013=pd.merge(person_info_2013, can_cause_death_2013, on=\"person_id\").merge(death_info_2013, on=\"person_id\")\n",
    "# can2014=pd.merge(person_info_2014, can_cause_death_2014, on=\"person_id\").merge(death_info_2014, on=\"person_id\")\n",
    "# can2015=pd.merge(person_info_2015, can_cause_death_2015, on=\"person_id\").merge(death_info_2015, on=\"person_id\")\n",
    "# can2016=pd.merge(person_info_2016, can_cause_death_2016, on=\"person_id\").merge(death_info_2016, on=\"person_id\")\n",
    "# can2017=pd.merge(person_info_2017, can_cause_death_2017, on=\"person_id\").merge(death_info_2017, on=\"person_id\")\n",
    "# can2018=pd.merge(person_info_2018, can_cause_death_2018, on=\"person_id\").merge(death_info_2018, on=\"person_id\")\n"
   ]
  },
  {
   "cell_type": "markdown",
   "metadata": {},
   "source": [
    "###### In 2018 Cancer and Heart Disease make up 52% of the mortality population in US"
   ]
  },
  {
   "cell_type": "code",
   "execution_count": 28,
   "metadata": {},
   "outputs": [
    {
     "data": {
      "text/plain": [
       "0.3059524388156407"
      ]
     },
     "execution_count": 28,
     "metadata": {},
     "output_type": "execute_result"
    }
   ],
   "source": [
    "hd2018.shape[0]/person_info_2018.shape[0]"
   ]
  },
  {
   "cell_type": "code",
   "execution_count": 29,
   "metadata": {},
   "outputs": [
    {
     "data": {
      "text/plain": [
       "0.2165795648501729"
      ]
     },
     "execution_count": 29,
     "metadata": {},
     "output_type": "execute_result"
    }
   ],
   "source": [
    "can2018.shape[0]/person_info_2018.shape[0]"
   ]
  },
  {
   "cell_type": "code",
   "execution_count": 30,
   "metadata": {},
   "outputs": [
    {
     "data": {
      "text/plain": [
       "0.5225320036658136"
      ]
     },
     "execution_count": 30,
     "metadata": {},
     "output_type": "execute_result"
    }
   ],
   "source": [
    "Total_rate=0.3059524388156407+0.2165795648501729\n",
    "Total_rate"
   ]
  },
  {
   "cell_type": "code",
   "execution_count": 394,
   "metadata": {},
   "outputs": [
    {
     "data": {
      "image/png": "[encoded data removed]",
      "text/plain": [
       "<Figure size 432x288 with 1 Axes>"
      ]
     },
     "metadata": {},
     "output_type": "display_data"
    }
   ],
   "source": [
    "import matplotlib.pyplot as plt\n",
    "\n",
    "# Data to plot\n",
    "labels = 'Heart Disease', 'Cancer', 'Other'\n",
    "sizes = [0.305, 0.216, (1-0.305-0.216)]\n",
    "colors = ['yellowgreen', 'lightcoral', 'lightskyblue']\n",
    "explode = (0.1, 0.1, 0)  # explode 1st slice\n",
    "\n",
    "# Plot\n",
    "plt.pie(sizes, explode=explode, labels=labels, colors=colors,\n",
    "autopct='%1.1f%%', shadow=True, startangle=140)\n",
    "\n",
    "plt.axis('equal')\n",
    "plt.show()"
   ]
  },
  {
   "cell_type": "markdown",
   "metadata": {},
   "source": [
    "## Cancer and Heart Disease Mortality Rate Per Race"
   ]
  },
  {
   "cell_type": "code",
   "execution_count": 32,
   "metadata": {
    "scrolled": false
   },
   "outputs": [
    {
     "data": {
      "text/html": [
       "<div>\n",
       "<style scoped>\n",
       "    .dataframe tbody tr th:only-of-type {\n",
       "        vertical-align: middle;\n",
       "    }\n",
       "\n",
       "    .dataframe tbody tr th {\n",
       "        vertical-align: top;\n",
       "    }\n",
       "\n",
       "    .dataframe thead th {\n",
       "        text-align: right;\n",
       "    }\n",
       "</style>\n",
       "<table border=\"1\" class=\"dataframe\">\n",
       "  <thead>\n",
       "    <tr style=\"text-align: right;\">\n",
       "      <th></th>\n",
       "      <th>person_id</th>\n",
       "      <th>year_id</th>\n",
       "      <th>resident_status</th>\n",
       "      <th>edu_2003_rev</th>\n",
       "      <th>sex</th>\n",
       "      <th>age_recode_27</th>\n",
       "      <th>marital_status</th>\n",
       "      <th>bridged_race_1</th>\n",
       "      <th>bridged_race_recode_5</th>\n",
       "      <th>hispanicorigin</th>\n",
       "      <th>hispanicorigin_bridgeracerecode</th>\n",
       "      <th>day_of_week_of_death</th>\n",
       "      <th>month_of_death</th>\n",
       "      <th>data_year</th>\n",
       "      <th>race_recode_capstone</th>\n",
       "      <th>cause_recode_358</th>\n",
       "      <th>place_of_death_and_status</th>\n",
       "      <th>injury_at_work</th>\n",
       "      <th>manner_of_death</th>\n",
       "      <th>autopsy</th>\n",
       "      <th>activity_code</th>\n",
       "      <th>place_of_injury</th>\n",
       "    </tr>\n",
       "  </thead>\n",
       "  <tbody>\n",
       "    <tr>\n",
       "      <th>0</th>\n",
       "      <td>9</td>\n",
       "      <td>8</td>\n",
       "      <td>1</td>\n",
       "      <td>4</td>\n",
       "      <td>M</td>\n",
       "      <td>22</td>\n",
       "      <td>M</td>\n",
       "      <td>1</td>\n",
       "      <td>1</td>\n",
       "      <td>282</td>\n",
       "      <td>5</td>\n",
       "      <td>4</td>\n",
       "      <td>1</td>\n",
       "      <td>2018</td>\n",
       "      <td>1</td>\n",
       "      <td>230</td>\n",
       "      <td>4</td>\n",
       "      <td>U</td>\n",
       "      <td>7</td>\n",
       "      <td>N</td>\n",
       "      <td>99</td>\n",
       "      <td>99</td>\n",
       "    </tr>\n",
       "    <tr>\n",
       "      <th>1</th>\n",
       "      <td>10</td>\n",
       "      <td>8</td>\n",
       "      <td>1</td>\n",
       "      <td>4</td>\n",
       "      <td>F</td>\n",
       "      <td>23</td>\n",
       "      <td>W</td>\n",
       "      <td>1</td>\n",
       "      <td>1</td>\n",
       "      <td>100</td>\n",
       "      <td>6</td>\n",
       "      <td>2</td>\n",
       "      <td>1</td>\n",
       "      <td>2018</td>\n",
       "      <td>2</td>\n",
       "      <td>215</td>\n",
       "      <td>4</td>\n",
       "      <td>U</td>\n",
       "      <td>7</td>\n",
       "      <td>N</td>\n",
       "      <td>99</td>\n",
       "      <td>99</td>\n",
       "    </tr>\n",
       "    <tr>\n",
       "      <th>2</th>\n",
       "      <td>14</td>\n",
       "      <td>8</td>\n",
       "      <td>1</td>\n",
       "      <td>3</td>\n",
       "      <td>F</td>\n",
       "      <td>13</td>\n",
       "      <td>S</td>\n",
       "      <td>1</td>\n",
       "      <td>1</td>\n",
       "      <td>100</td>\n",
       "      <td>6</td>\n",
       "      <td>2</td>\n",
       "      <td>1</td>\n",
       "      <td>2018</td>\n",
       "      <td>2</td>\n",
       "      <td>219</td>\n",
       "      <td>1</td>\n",
       "      <td>U</td>\n",
       "      <td>7</td>\n",
       "      <td>N</td>\n",
       "      <td>99</td>\n",
       "      <td>99</td>\n",
       "    </tr>\n",
       "    <tr>\n",
       "      <th>3</th>\n",
       "      <td>15</td>\n",
       "      <td>8</td>\n",
       "      <td>1</td>\n",
       "      <td>6</td>\n",
       "      <td>F</td>\n",
       "      <td>23</td>\n",
       "      <td>W</td>\n",
       "      <td>1</td>\n",
       "      <td>1</td>\n",
       "      <td>100</td>\n",
       "      <td>6</td>\n",
       "      <td>5</td>\n",
       "      <td>1</td>\n",
       "      <td>2018</td>\n",
       "      <td>2</td>\n",
       "      <td>242</td>\n",
       "      <td>1</td>\n",
       "      <td>U</td>\n",
       "      <td>7</td>\n",
       "      <td>N</td>\n",
       "      <td>99</td>\n",
       "      <td>99</td>\n",
       "    </tr>\n",
       "    <tr>\n",
       "      <th>4</th>\n",
       "      <td>16</td>\n",
       "      <td>8</td>\n",
       "      <td>3</td>\n",
       "      <td>7</td>\n",
       "      <td>F</td>\n",
       "      <td>23</td>\n",
       "      <td>W</td>\n",
       "      <td>1</td>\n",
       "      <td>1</td>\n",
       "      <td>100</td>\n",
       "      <td>6</td>\n",
       "      <td>3</td>\n",
       "      <td>1</td>\n",
       "      <td>2018</td>\n",
       "      <td>2</td>\n",
       "      <td>214</td>\n",
       "      <td>7</td>\n",
       "      <td>U</td>\n",
       "      <td>7</td>\n",
       "      <td>N</td>\n",
       "      <td>99</td>\n",
       "      <td>99</td>\n",
       "    </tr>\n",
       "  </tbody>\n",
       "</table>\n",
       "</div>"
      ],
      "text/plain": [
       "   person_id year_id resident_status edu_2003_rev sex age_recode_27  \\\n",
       "0          9       8               1            4   M            22   \n",
       "1         10       8               1            4   F            23   \n",
       "2         14       8               1            3   F            13   \n",
       "3         15       8               1            6   F            23   \n",
       "4         16       8               3            7   F            23   \n",
       "\n",
       "  marital_status bridged_race_1 bridged_race_recode_5 hispanicorigin  \\\n",
       "0              M              1                     1            282   \n",
       "1              W              1                     1            100   \n",
       "2              S              1                     1            100   \n",
       "3              W              1                     1            100   \n",
       "4              W              1                     1            100   \n",
       "\n",
       "  hispanicorigin_bridgeracerecode day_of_week_of_death month_of_death  \\\n",
       "0                               5                    4              1   \n",
       "1                               6                    2              1   \n",
       "2                               6                    2              1   \n",
       "3                               6                    5              1   \n",
       "4                               6                    3              1   \n",
       "\n",
       "  data_year race_recode_capstone cause_recode_358 place_of_death_and_status  \\\n",
       "0      2018                    1              230                         4   \n",
       "1      2018                    2              215                         4   \n",
       "2      2018                    2              219                         1   \n",
       "3      2018                    2              242                         1   \n",
       "4      2018                    2              214                         7   \n",
       "\n",
       "  injury_at_work manner_of_death autopsy activity_code place_of_injury  \n",
       "0              U               7       N            99              99  \n",
       "1              U               7       N            99              99  \n",
       "2              U               7       N            99              99  \n",
       "3              U               7       N            99              99  \n",
       "4              U               7       N            99              99  "
      ]
     },
     "execution_count": 32,
     "metadata": {},
     "output_type": "execute_result"
    }
   ],
   "source": [
    "pd.set_option('display.max_columns', None)\n",
    "\n",
    "hd2018.head()"
   ]
  },
  {
   "cell_type": "code",
   "execution_count": 37,
   "metadata": {},
   "outputs": [
    {
     "data": {
      "text/plain": [
       "(614914, 22)"
      ]
     },
     "execution_count": 37,
     "metadata": {},
     "output_type": "execute_result"
    }
   ],
   "source": [
    "can2018.shape"
   ]
  },
  {
   "cell_type": "code",
   "execution_count": 33,
   "metadata": {
    "scrolled": false
   },
   "outputs": [
    {
     "data": {
      "text/plain": [
       "(868662, 22)"
      ]
     },
     "execution_count": 33,
     "metadata": {},
     "output_type": "execute_result"
    }
   ],
   "source": [
    "hd2018.shape"
   ]
  },
  {
   "cell_type": "code",
   "execution_count": 34,
   "metadata": {
    "scrolled": true
   },
   "outputs": [
    {
     "name": "stdout",
     "output_type": "stream",
     "text": [
      "AxesSubplot(0.125,0.125;0.775x0.755)\n"
     ]
    },
    {
     "data": {
      "image/png": "[encoded data removed]",
      "text/plain": [
       "<Figure size 432x288 with 1 Axes>"
      ]
     },
     "metadata": {
      "needs_background": "light"
     },
     "output_type": "display_data"
    }
   ],
   "source": [
    "print(can2018.race_recode_capstone.value_counts().plot(kind='bar'))"
   ]
  },
  {
   "cell_type": "code",
   "execution_count": 36,
   "metadata": {
    "scrolled": true
   },
   "outputs": [
    {
     "name": "stdout",
     "output_type": "stream",
     "text": [
      "AxesSubplot(0.125,0.125;0.775x0.755)\n"
     ]
    },
    {
     "data": {
      "image/png": "[encoded data removed]",
      "text/plain": [
       "<Figure size 432x288 with 1 Axes>"
      ]
     },
     "metadata": {
      "needs_background": "light"
     },
     "output_type": "display_data"
    }
   ],
   "source": [
    "print(hd2018.race_recode_capstone.value_counts().plot(kind='bar'))\n"
   ]
  },
  {
   "cell_type": "markdown",
   "metadata": {},
   "source": [
    "## Cancer 2018 among people less than 65 years old \n",
    "##### Rates per 100,000 population"
   ]
  },
  {
   "cell_type": "markdown",
   "metadata": {},
   "source": [
    "\n",
    "01 ... Under 1 month (includes not stated weeks, days, hours, and minutes)\\\n",
    "02 ... 1 month - 11 months (includes not stated months)\\\n",
    "03 ... 1 year\\\n",
    "04 ... 2 years\\\n",
    "05 ... 3 years\\\n",
    "06 ... 4 years\\\n",
    "07 ... 5 - 9 years\\\n",
    "08 ... 10 - 14 years\\\n",
    "09 ... 15 - 19 years\\\n",
    "10 ... 20 - 24 years\\\n",
    "11 ... 25 - 29 years\\\n",
    "12 ... 30 - 34 years\\\n",
    "13 ... 35 - 39 years\\\n",
    "14 ... 40 - 44 years\\\n",
    "15 ... 45 - 49 years\\\n",
    "16 ... 50 - 54 years\\\n",
    "17 ... 55 - 59 years\\\n",
    "18 ... 60 - 64 years "
   ]
  },
  {
   "cell_type": "code",
   "execution_count": 83,
   "metadata": {},
   "outputs": [
    {
     "name": "stdout",
     "output_type": "stream",
     "text": [
      "Total cancer population: 614914\n",
      "Older than 65 years old: 0.72\n",
      "Younger than 65 years old: 0.28\n"
     ]
    }
   ],
   "source": [
    "#2018\n",
    "\n",
    "can2018.age_recode_27=can2018.age_recode_27.astype(np.int64)\n",
    "print(\"Total cancer population: %s\" %can2018.shape[0])\n",
    "print(\"Older than 65 years old: %.2f\" %(can2018[can2018.age_recode_27>18].shape[0]/can2018.shape[0]))\n",
    "print(\"Younger than 65 years old: %.2f\" %(can2018[can2018.age_recode_27<=18].shape[0]/can2018.shape[0]))"
   ]
  },
  {
   "cell_type": "code",
   "execution_count": 531,
   "metadata": {},
   "outputs": [],
   "source": [
    "can_age_2012=can2012.copy()\n",
    "can_age_2012.age_recode_27=can_age_2012.age_recode_27.astype(np.int64)\n",
    "can_age_2012=can2012[can_age_2012.age_recode_27<=18]\n",
    "\n",
    "can_age_2013=can2013.copy()\n",
    "can_age_2013.age_recode_27=can_age_2013.age_recode_27.astype(np.int64)\n",
    "can_age_2013=can2013[can_age_2013.age_recode_27<=18]\n",
    "\n",
    "can_age_2014=can2014.copy()\n",
    "can_age_2014.age_recode_27=can_age_2014.age_recode_27.astype(np.int64)\n",
    "can_age_2014=can2014[can_age_2014.age_recode_27<=18]\n",
    "\n",
    "can_age_2015=can2015.copy()\n",
    "can_age_2015.age_recode_27=can_age_2015.age_recode_27.astype(np.int64)\n",
    "can_age_2015=can2015[can_age_2015.age_recode_27<=18]\n",
    "\n",
    "can_age_2016=can2016.copy()\n",
    "can_age_2016.age_recode_27=can_age_2016.age_recode_27.astype(np.int64)\n",
    "can_age_2016=can2016[can_age_2016.age_recode_27<=18]\n",
    "\n",
    "can_age_2017=can2017.copy()\n",
    "can_age_2017.age_recode_27=can_age_2017.age_recode_27.astype(np.int64)\n",
    "can_age_2017=can2017[can_age_2017.age_recode_27<=18]\n",
    "\n",
    "can_age_2018=can2018.copy()\n",
    "can_age_2018.age_recode_27=can_age_2018.age_recode_27.astype(np.int64)\n",
    "can_age_2018=can2018[can_age_2018.age_recode_27<=18]\n"
   ]
  },
  {
   "cell_type": "code",
   "execution_count": 532,
   "metadata": {
    "scrolled": false
   },
   "outputs": [
    {
     "data": {
      "text/html": [
       "<div>\n",
       "<style scoped>\n",
       "    .dataframe tbody tr th:only-of-type {\n",
       "        vertical-align: middle;\n",
       "    }\n",
       "\n",
       "    .dataframe tbody tr th {\n",
       "        vertical-align: top;\n",
       "    }\n",
       "\n",
       "    .dataframe thead th {\n",
       "        text-align: right;\n",
       "    }\n",
       "</style>\n",
       "<table border=\"1\" class=\"dataframe\">\n",
       "  <thead>\n",
       "    <tr style=\"text-align: right;\">\n",
       "      <th></th>\n",
       "      <th>person_id</th>\n",
       "      <th>year_id</th>\n",
       "      <th>resident_status</th>\n",
       "      <th>edu_2003_rev</th>\n",
       "      <th>sex</th>\n",
       "      <th>age_recode_27</th>\n",
       "      <th>marital_status</th>\n",
       "      <th>bridged_race_1</th>\n",
       "      <th>bridged_race_recode_5</th>\n",
       "      <th>hispanicorigin</th>\n",
       "      <th>hispanicorigin_bridgeracerecode</th>\n",
       "      <th>day_of_week_of_death</th>\n",
       "      <th>month_of_death</th>\n",
       "      <th>data_year</th>\n",
       "      <th>race_recode_capstone</th>\n",
       "      <th>cause_recode_358</th>\n",
       "      <th>place_of_death_and_status</th>\n",
       "      <th>injury_at_work</th>\n",
       "      <th>manner_of_death</th>\n",
       "      <th>autopsy</th>\n",
       "      <th>activity_code</th>\n",
       "      <th>place_of_injury</th>\n",
       "    </tr>\n",
       "  </thead>\n",
       "  <tbody>\n",
       "    <tr>\n",
       "      <th>1</th>\n",
       "      <td>11</td>\n",
       "      <td>8</td>\n",
       "      <td>1</td>\n",
       "      <td>5</td>\n",
       "      <td>F</td>\n",
       "      <td>18</td>\n",
       "      <td>W</td>\n",
       "      <td>1</td>\n",
       "      <td>1</td>\n",
       "      <td>100</td>\n",
       "      <td>6</td>\n",
       "      <td>4</td>\n",
       "      <td>1</td>\n",
       "      <td>2018</td>\n",
       "      <td>2</td>\n",
       "      <td>83</td>\n",
       "      <td>4</td>\n",
       "      <td>U</td>\n",
       "      <td>7</td>\n",
       "      <td>N</td>\n",
       "      <td>99</td>\n",
       "      <td>99</td>\n",
       "    </tr>\n",
       "    <tr>\n",
       "      <th>2</th>\n",
       "      <td>12</td>\n",
       "      <td>8</td>\n",
       "      <td>1</td>\n",
       "      <td>4</td>\n",
       "      <td>F</td>\n",
       "      <td>18</td>\n",
       "      <td>D</td>\n",
       "      <td>1</td>\n",
       "      <td>1</td>\n",
       "      <td>100</td>\n",
       "      <td>6</td>\n",
       "      <td>5</td>\n",
       "      <td>1</td>\n",
       "      <td>2018</td>\n",
       "      <td>2</td>\n",
       "      <td>88</td>\n",
       "      <td>4</td>\n",
       "      <td>U</td>\n",
       "      <td>7</td>\n",
       "      <td>N</td>\n",
       "      <td>99</td>\n",
       "      <td>99</td>\n",
       "    </tr>\n",
       "    <tr>\n",
       "      <th>8</th>\n",
       "      <td>23</td>\n",
       "      <td>8</td>\n",
       "      <td>1</td>\n",
       "      <td>3</td>\n",
       "      <td>F</td>\n",
       "      <td>13</td>\n",
       "      <td>S</td>\n",
       "      <td>3</td>\n",
       "      <td>3</td>\n",
       "      <td>100</td>\n",
       "      <td>8</td>\n",
       "      <td>1</td>\n",
       "      <td>1</td>\n",
       "      <td>2018</td>\n",
       "      <td>4</td>\n",
       "      <td>78</td>\n",
       "      <td>4</td>\n",
       "      <td>U</td>\n",
       "      <td>7</td>\n",
       "      <td>N</td>\n",
       "      <td>99</td>\n",
       "      <td>99</td>\n",
       "    </tr>\n",
       "    <tr>\n",
       "      <th>9</th>\n",
       "      <td>26</td>\n",
       "      <td>8</td>\n",
       "      <td>1</td>\n",
       "      <td>5</td>\n",
       "      <td>F</td>\n",
       "      <td>18</td>\n",
       "      <td>D</td>\n",
       "      <td>1</td>\n",
       "      <td>1</td>\n",
       "      <td>100</td>\n",
       "      <td>6</td>\n",
       "      <td>2</td>\n",
       "      <td>1</td>\n",
       "      <td>2018</td>\n",
       "      <td>2</td>\n",
       "      <td>77</td>\n",
       "      <td>1</td>\n",
       "      <td>U</td>\n",
       "      <td>7</td>\n",
       "      <td>N</td>\n",
       "      <td>99</td>\n",
       "      <td>99</td>\n",
       "    </tr>\n",
       "    <tr>\n",
       "      <th>11</th>\n",
       "      <td>30</td>\n",
       "      <td>8</td>\n",
       "      <td>1</td>\n",
       "      <td>6</td>\n",
       "      <td>M</td>\n",
       "      <td>14</td>\n",
       "      <td>D</td>\n",
       "      <td>1</td>\n",
       "      <td>1</td>\n",
       "      <td>100</td>\n",
       "      <td>6</td>\n",
       "      <td>4</td>\n",
       "      <td>1</td>\n",
       "      <td>2018</td>\n",
       "      <td>2</td>\n",
       "      <td>118</td>\n",
       "      <td>1</td>\n",
       "      <td>U</td>\n",
       "      <td>7</td>\n",
       "      <td>N</td>\n",
       "      <td>99</td>\n",
       "      <td>99</td>\n",
       "    </tr>\n",
       "  </tbody>\n",
       "</table>\n",
       "</div>"
      ],
      "text/plain": [
       "    person_id year_id resident_status edu_2003_rev sex age_recode_27  \\\n",
       "1          11       8               1            5   F            18   \n",
       "2          12       8               1            4   F            18   \n",
       "8          23       8               1            3   F            13   \n",
       "9          26       8               1            5   F            18   \n",
       "11         30       8               1            6   M            14   \n",
       "\n",
       "   marital_status bridged_race_1 bridged_race_recode_5 hispanicorigin  \\\n",
       "1               W              1                     1            100   \n",
       "2               D              1                     1            100   \n",
       "8               S              3                     3            100   \n",
       "9               D              1                     1            100   \n",
       "11              D              1                     1            100   \n",
       "\n",
       "   hispanicorigin_bridgeracerecode day_of_week_of_death month_of_death  \\\n",
       "1                                6                    4              1   \n",
       "2                                6                    5              1   \n",
       "8                                8                    1              1   \n",
       "9                                6                    2              1   \n",
       "11                               6                    4              1   \n",
       "\n",
       "   data_year race_recode_capstone cause_recode_358 place_of_death_and_status  \\\n",
       "1       2018                    2               83                         4   \n",
       "2       2018                    2               88                         4   \n",
       "8       2018                    4               78                         4   \n",
       "9       2018                    2               77                         1   \n",
       "11      2018                    2              118                         1   \n",
       "\n",
       "   injury_at_work manner_of_death autopsy activity_code place_of_injury  \n",
       "1               U               7       N            99              99  \n",
       "2               U               7       N            99              99  \n",
       "8               U               7       N            99              99  \n",
       "9               U               7       N            99              99  \n",
       "11              U               7       N            99              99  "
      ]
     },
     "execution_count": 532,
     "metadata": {},
     "output_type": "execute_result"
    }
   ],
   "source": [
    "can_age_2018.head()"
   ]
  },
  {
   "cell_type": "code",
   "execution_count": 525,
   "metadata": {},
   "outputs": [
    {
     "data": {
      "text/plain": [
       "(170714, 22)"
      ]
     },
     "execution_count": 525,
     "metadata": {},
     "output_type": "execute_result"
    }
   ],
   "source": [
    "can_age_2018.shape"
   ]
  },
  {
   "cell_type": "code",
   "execution_count": 88,
   "metadata": {
    "scrolled": true
   },
   "outputs": [
    {
     "data": {
      "text/plain": [
       "sex\n",
       "F    81687\n",
       "M    89027\n",
       "Name: cause_recode_358, dtype: int64"
      ]
     },
     "execution_count": 88,
     "metadata": {},
     "output_type": "execute_result"
    }
   ],
   "source": [
    "# Cancer among females and males \n",
    "\n",
    "can_age.groupby([\"sex\"])[\"cause_recode_358\"].size().sort_values()"
   ]
  },
  {
   "cell_type": "code",
   "execution_count": 89,
   "metadata": {
    "scrolled": true
   },
   "outputs": [
    {
     "name": "stdout",
     "output_type": "stream",
     "text": [
      "CPU times: user 23.8 ms, sys: 2.03 ms, total: 25.9 ms\n",
      "Wall time: 24.8 ms\n"
     ]
    },
    {
     "data": {
      "text/plain": [
       "cause_recode_358\n",
       "93     36174\n",
       "104    15838\n",
       "81     12373\n",
       "88     11697\n",
       "125    11124\n",
       "122     7564\n",
       "85      7320\n",
       "77      5094\n",
       "109     4605\n",
       "82      4217\n",
       "dtype: int64"
      ]
     },
     "execution_count": 89,
     "metadata": {},
     "output_type": "execute_result"
    }
   ],
   "source": [
    "%%time \n",
    "#Top 10 cancer \n",
    "can_age.groupby([\"cause_recode_358\"]).size().sort_values(ascending=False).head(10)\n",
    "\n",
    "#093 Of trachea, bronchus and lung (C33-C34) \n",
    "#104 Malignant neoplasm of breast (C50) \n",
    "#081 Colon (C18) \n",
    "#088 Of pancreas (C25)\n",
    "#125 Other malignant neoplasms of other and unspecified sites (C76-C80,C97) \n",
    "#122 Of brain (C71) \n",
    "#085 Liver (C22.0,C22.2-C22.9) \n",
    "#077 Of esophagus (C15) 078 Of stomach (C16) \n",
    "#109 2 Of ovary (C56) \n",
    "#082 Rectosigmoid junction and rectum (C19-C20) "
   ]
  },
  {
   "cell_type": "code",
   "execution_count": 90,
   "metadata": {
    "scrolled": true
   },
   "outputs": [
    {
     "data": {
      "text/plain": [
       "Text(0, 0.5, 'Number of Deaths')"
      ]
     },
     "execution_count": 90,
     "metadata": {},
     "output_type": "execute_result"
    },
    {
     "data": {
      "image/png": "[encoded data removed]",
      "text/plain": [
       "<Figure size 432x288 with 1 Axes>"
      ]
     },
     "metadata": {
      "needs_background": "light"
     },
     "output_type": "display_data"
    }
   ],
   "source": [
    "#type of disease compared to Female and Male\n",
    "\n",
    "def top_val_count(x, n=10):\n",
    "    return x.value_counts().head(n)\n",
    "\n",
    "plot_can=can_age.groupby([\"sex\"]).cause_recode_358\n",
    "plot_can.apply(top_val_count).plot(kind=\"bar\", x='cause_recode_358')\n",
    "plt.xlabel(\"Type of Cancer\")\n",
    "plt.ylabel(\"Number of Deaths\")"
   ]
  },
  {
   "cell_type": "code",
   "execution_count": 91,
   "metadata": {
    "scrolled": true
   },
   "outputs": [
    {
     "data": {
      "text/plain": [
       "Text(0, 0.5, 'Number of Deaths')"
      ]
     },
     "execution_count": 91,
     "metadata": {},
     "output_type": "execute_result"
    },
    {
     "data": {
      "image/png": "[encoded data removed]",
      "text/plain": [
       "<Figure size 432x288 with 1 Axes>"
      ]
     },
     "metadata": {
      "needs_background": "light"
     },
     "output_type": "display_data"
    }
   ],
   "source": [
    "def top_val_count(x, n=5):\n",
    "    return x.value_counts().head(n)\n",
    "\n",
    "plot_can=can_age.groupby([\"race_recode_capstone\"]).cause_recode_358\n",
    "plot_can.apply(top_val_count).plot(kind=\"bar\", x='cause_recode_358')\n",
    "plt.xlabel(\"Type of Cancer\")\n",
    "plt.ylabel(\"Number of Deaths\")"
   ]
  },
  {
   "cell_type": "code",
   "execution_count": 92,
   "metadata": {
    "scrolled": true
   },
   "outputs": [
    {
     "data": {
      "text/plain": [
       "<matplotlib.axes._subplots.AxesSubplot at 0x7ff2f24289d0>"
      ]
     },
     "execution_count": 92,
     "metadata": {},
     "output_type": "execute_result"
    },
    {
     "data": {
      "image/png": "[encoded data removed]",
      "text/plain": [
       "<Figure size 432x288 with 1 Axes>"
      ]
     },
     "metadata": {
      "needs_background": "light"
     },
     "output_type": "display_data"
    }
   ],
   "source": [
    "#manner of death \n",
    "\n",
    "can_age.groupby(\"manner_of_death\").size().plot(kind=\"bar\")\n",
    "\n",
    "# Manner of Death\n",
    "# 1 ... Accident\n",
    "# 2 ... Suicide\n",
    "# 3 ... Homicide\n",
    "# 4 ... Pending investigation\n",
    "# 5 ... Could not determine\n",
    "# 6 ... Self-Inflicted\n",
    "# 7 ... Natural\n",
    "# Blank ... Not specified "
   ]
  },
  {
   "cell_type": "code",
   "execution_count": 93,
   "metadata": {
    "scrolled": true
   },
   "outputs": [
    {
     "data": {
      "text/plain": [
       "<matplotlib.axes._subplots.AxesSubplot at 0x7ff2b514fdd0>"
      ]
     },
     "execution_count": 93,
     "metadata": {},
     "output_type": "execute_result"
    },
    {
     "data": {
      "image/png": "[encoded data removed]",
      "text/plain": [
       "<Figure size 432x288 with 1 Axes>"
      ]
     },
     "metadata": {
      "needs_background": "light"
     },
     "output_type": "display_data"
    }
   ],
   "source": [
    "can_age.groupby(\"place_of_death_and_status\").size().plot(kind=\"bar\")\n",
    "\n",
    "#4 -> Decedent’s home\n",
    "#1 -> Hospital, clinic or Medical Center - Inpatient\n",
    "#6 -> Nursing home/long term care\n",
    "#3 -> Hospital, Clinic or Medical Center - Dead on Arrival"
   ]
  },
  {
   "cell_type": "code",
   "execution_count": 70,
   "metadata": {
    "scrolled": false
   },
   "outputs": [
    {
     "data": {
      "text/plain": [
       "0     1559.062639\n",
       "1    16792.265161\n",
       "2     2515.773776\n",
       "3      790.854908\n",
       "Name: total, dtype: float64"
      ]
     },
     "execution_count": 70,
     "metadata": {},
     "output_type": "execute_result"
    }
   ],
   "source": [
    "test=can2018.groupby(\"race_recode_capstone\").size().reset_index().rename(columns = {0:\"total\"})\n",
    "(test.total/2839206)*100000\n",
    "#person_info_2018.shape  #2839206"
   ]
  },
  {
   "cell_type": "code",
   "execution_count": 534,
   "metadata": {},
   "outputs": [
    {
     "data": {
      "text/html": [
       "<div>\n",
       "<style scoped>\n",
       "    .dataframe tbody tr th:only-of-type {\n",
       "        vertical-align: middle;\n",
       "    }\n",
       "\n",
       "    .dataframe tbody tr th {\n",
       "        vertical-align: top;\n",
       "    }\n",
       "\n",
       "    .dataframe thead th {\n",
       "        text-align: right;\n",
       "    }\n",
       "</style>\n",
       "<table border=\"1\" class=\"dataframe\">\n",
       "  <thead>\n",
       "    <tr style=\"text-align: right;\">\n",
       "      <th></th>\n",
       "      <th>race_recode_capstone</th>\n",
       "      <th>total_deaths</th>\n",
       "      <th>cancer</th>\n",
       "      <th>per_capita</th>\n",
       "      <th>per_capita_100000</th>\n",
       "      <th>year</th>\n",
       "    </tr>\n",
       "  </thead>\n",
       "  <tbody>\n",
       "    <tr>\n",
       "      <th>0</th>\n",
       "      <td>white</td>\n",
       "      <td>1961290</td>\n",
       "      <td>140111</td>\n",
       "      <td>0.071438</td>\n",
       "      <td>7143.818609</td>\n",
       "      <td>2012</td>\n",
       "    </tr>\n",
       "    <tr>\n",
       "      <th>1</th>\n",
       "      <td>black</td>\n",
       "      <td>307727</td>\n",
       "      <td>21772</td>\n",
       "      <td>0.070751</td>\n",
       "      <td>7075.102282</td>\n",
       "      <td>2012</td>\n",
       "    </tr>\n",
       "    <tr>\n",
       "      <th>2</th>\n",
       "      <td>hispanic</td>\n",
       "      <td>191584</td>\n",
       "      <td>13931</td>\n",
       "      <td>0.072715</td>\n",
       "      <td>7271.484049</td>\n",
       "      <td>2012</td>\n",
       "    </tr>\n",
       "    <tr>\n",
       "      <th>3</th>\n",
       "      <td>other</td>\n",
       "      <td>82679</td>\n",
       "      <td>6106</td>\n",
       "      <td>0.073852</td>\n",
       "      <td>7385.188500</td>\n",
       "      <td>2012</td>\n",
       "    </tr>\n",
       "  </tbody>\n",
       "</table>\n",
       "</div>"
      ],
      "text/plain": [
       "  race_recode_capstone  total_deaths  cancer  per_capita  per_capita_100000  \\\n",
       "0                white       1961290  140111    0.071438        7143.818609   \n",
       "1                black        307727   21772    0.070751        7075.102282   \n",
       "2             hispanic        191584   13931    0.072715        7271.484049   \n",
       "3                other         82679    6106    0.073852        7385.188500   \n",
       "\n",
       "   year  \n",
       "0  2012  \n",
       "1  2012  \n",
       "2  2012  \n",
       "3  2012  "
      ]
     },
     "execution_count": 534,
     "metadata": {},
     "output_type": "execute_result"
    },
    {
     "data": {
      "image/png": "[encoded data removed]",
      "text/plain": [
       "<Figure size 432x288 with 1 Axes>"
      ]
     },
     "metadata": {
      "needs_background": "light"
     },
     "output_type": "display_data"
    }
   ],
   "source": [
    "## PER CAPITA - RACE ##\n",
    "\n",
    "# 2012 total deaths per race\n",
    "tot_can_2012=person_info_2012.race_recode_capstone.value_counts().reset_index()\n",
    "\n",
    "# 2012 Cancer popultion: race class and heart disease \n",
    "race_can_2012=can_age_2012.race_recode_capstone.value_counts().reset_index()\n",
    "\n",
    "#merge & create new columns \n",
    "per_capita_can_2012=pd.merge(tot_can_2012,race_can_2012, on=\"index\").rename(columns={\"index\":\"race_recode_capstone\", \"race_recode_capstone_x\":\"total_deaths\", \"race_recode_capstone_y\":\"cancer\"})\n",
    "per_capita_can_2012[\"per_capita\"]=per_capita_can_2012.cancer/per_capita_can_2012.total_deaths\n",
    "per_capita_can_2012[\"per_capita_100000\"]=per_capita_can_2012[\"per_capita\"].apply(lambda t: t*100000)\n",
    "per_capita_can_2012[\"year\"]=[\"2012\",\"2012\",\"2012\",\"2012\",]\n",
    "per_capita_can_2012[\"race_recode_capstone\"]=[\"white\", \"black\", \"hispanic\", \"other\"]\n",
    "\n",
    "ans=per_capita_can_2012.per_capita_100000\n",
    "ans.index = [\"white\", \"black\", \"hispanic\", \"other\"]\n",
    "ans.plot(kind=\"bar\")\n",
    "\n",
    "per_capita_can_2012"
   ]
  },
  {
   "cell_type": "code",
   "execution_count": 535,
   "metadata": {},
   "outputs": [
    {
     "data": {
      "text/html": [
       "<div>\n",
       "<style scoped>\n",
       "    .dataframe tbody tr th:only-of-type {\n",
       "        vertical-align: middle;\n",
       "    }\n",
       "\n",
       "    .dataframe tbody tr th {\n",
       "        vertical-align: top;\n",
       "    }\n",
       "\n",
       "    .dataframe thead th {\n",
       "        text-align: right;\n",
       "    }\n",
       "</style>\n",
       "<table border=\"1\" class=\"dataframe\">\n",
       "  <thead>\n",
       "    <tr style=\"text-align: right;\">\n",
       "      <th></th>\n",
       "      <th>race_recode_capstone</th>\n",
       "      <th>total_deaths</th>\n",
       "      <th>cancer</th>\n",
       "      <th>per_capita</th>\n",
       "      <th>per_capita_100000</th>\n",
       "      <th>year</th>\n",
       "    </tr>\n",
       "  </thead>\n",
       "  <tbody>\n",
       "    <tr>\n",
       "      <th>0</th>\n",
       "      <td>white</td>\n",
       "      <td>2002867</td>\n",
       "      <td>139189</td>\n",
       "      <td>0.069495</td>\n",
       "      <td>6949.487909</td>\n",
       "      <td>2013</td>\n",
       "    </tr>\n",
       "    <tr>\n",
       "      <th>1</th>\n",
       "      <td>black</td>\n",
       "      <td>314538</td>\n",
       "      <td>21424</td>\n",
       "      <td>0.068113</td>\n",
       "      <td>6811.259689</td>\n",
       "      <td>2013</td>\n",
       "    </tr>\n",
       "    <tr>\n",
       "      <th>2</th>\n",
       "      <td>hispanic</td>\n",
       "      <td>195495</td>\n",
       "      <td>13581</td>\n",
       "      <td>0.069470</td>\n",
       "      <td>6946.980741</td>\n",
       "      <td>2013</td>\n",
       "    </tr>\n",
       "    <tr>\n",
       "      <th>3</th>\n",
       "      <td>other</td>\n",
       "      <td>84094</td>\n",
       "      <td>5919</td>\n",
       "      <td>0.070386</td>\n",
       "      <td>7038.552096</td>\n",
       "      <td>2013</td>\n",
       "    </tr>\n",
       "  </tbody>\n",
       "</table>\n",
       "</div>"
      ],
      "text/plain": [
       "  race_recode_capstone  total_deaths  cancer  per_capita  per_capita_100000  \\\n",
       "0                white       2002867  139189    0.069495        6949.487909   \n",
       "1                black        314538   21424    0.068113        6811.259689   \n",
       "2             hispanic        195495   13581    0.069470        6946.980741   \n",
       "3                other         84094    5919    0.070386        7038.552096   \n",
       "\n",
       "   year  \n",
       "0  2013  \n",
       "1  2013  \n",
       "2  2013  \n",
       "3  2013  "
      ]
     },
     "execution_count": 535,
     "metadata": {},
     "output_type": "execute_result"
    },
    {
     "data": {
      "image/png": "[encoded data removed]",
      "text/plain": [
       "<Figure size 432x288 with 1 Axes>"
      ]
     },
     "metadata": {
      "needs_background": "light"
     },
     "output_type": "display_data"
    }
   ],
   "source": [
    "## PER CAPITA - RACE ##\n",
    "\n",
    "# 2013 total deaths per race\n",
    "tot_can_2013=person_info_2013.race_recode_capstone.value_counts().reset_index()\n",
    "\n",
    "# 2013 Cancer popultion: race class and heart disease \n",
    "race_can_2013=can_age_2013.race_recode_capstone.value_counts().reset_index()\n",
    "\n",
    "#merge & create new columns \n",
    "per_capita_can_2013=pd.merge(tot_can_2013,race_can_2013, on=\"index\").rename(columns={\"index\":\"race_recode_capstone\", \"race_recode_capstone_x\":\"total_deaths\", \"race_recode_capstone_y\":\"cancer\"})\n",
    "per_capita_can_2013[\"per_capita\"]=per_capita_can_2013.cancer/per_capita_can_2013.total_deaths\n",
    "per_capita_can_2013[\"per_capita_100000\"]=per_capita_can_2013[\"per_capita\"].apply(lambda t: t*100000)\n",
    "per_capita_can_2013[\"year\"]=[\"2013\",\"2013\",\"2013\",\"2013\",]\n",
    "per_capita_can_2013[\"race_recode_capstone\"]=[\"white\", \"black\", \"hispanic\", \"other\"]\n",
    "\n",
    "ans=per_capita_can_2013.per_capita_100000\n",
    "ans.index = [\"white\", \"black\", \"hispanic\", \"other\"]\n",
    "ans.plot(kind=\"bar\")\n",
    "\n",
    "per_capita_can_2013"
   ]
  },
  {
   "cell_type": "code",
   "execution_count": 536,
   "metadata": {},
   "outputs": [
    {
     "data": {
      "text/html": [
       "<div>\n",
       "<style scoped>\n",
       "    .dataframe tbody tr th:only-of-type {\n",
       "        vertical-align: middle;\n",
       "    }\n",
       "\n",
       "    .dataframe tbody tr th {\n",
       "        vertical-align: top;\n",
       "    }\n",
       "\n",
       "    .dataframe thead th {\n",
       "        text-align: right;\n",
       "    }\n",
       "</style>\n",
       "<table border=\"1\" class=\"dataframe\">\n",
       "  <thead>\n",
       "    <tr style=\"text-align: right;\">\n",
       "      <th></th>\n",
       "      <th>race_recode_capstone</th>\n",
       "      <th>total_deaths</th>\n",
       "      <th>cancer</th>\n",
       "      <th>per_capita</th>\n",
       "      <th>per_capita_100000</th>\n",
       "      <th>year</th>\n",
       "    </tr>\n",
       "  </thead>\n",
       "  <tbody>\n",
       "    <tr>\n",
       "      <th>0</th>\n",
       "      <td>white</td>\n",
       "      <td>2024784</td>\n",
       "      <td>139014</td>\n",
       "      <td>0.068656</td>\n",
       "      <td>6865.621222</td>\n",
       "      <td>2014</td>\n",
       "    </tr>\n",
       "    <tr>\n",
       "      <th>1</th>\n",
       "      <td>black</td>\n",
       "      <td>320498</td>\n",
       "      <td>22280</td>\n",
       "      <td>0.069517</td>\n",
       "      <td>6951.681446</td>\n",
       "      <td>2014</td>\n",
       "    </tr>\n",
       "    <tr>\n",
       "      <th>2</th>\n",
       "      <td>hispanic</td>\n",
       "      <td>196284</td>\n",
       "      <td>13655</td>\n",
       "      <td>0.069568</td>\n",
       "      <td>6956.756536</td>\n",
       "      <td>2014</td>\n",
       "    </tr>\n",
       "    <tr>\n",
       "      <th>3</th>\n",
       "      <td>other</td>\n",
       "      <td>84853</td>\n",
       "      <td>5738</td>\n",
       "      <td>0.067623</td>\n",
       "      <td>6762.283007</td>\n",
       "      <td>2014</td>\n",
       "    </tr>\n",
       "  </tbody>\n",
       "</table>\n",
       "</div>"
      ],
      "text/plain": [
       "  race_recode_capstone  total_deaths  cancer  per_capita  per_capita_100000  \\\n",
       "0                white       2024784  139014    0.068656        6865.621222   \n",
       "1                black        320498   22280    0.069517        6951.681446   \n",
       "2             hispanic        196284   13655    0.069568        6956.756536   \n",
       "3                other         84853    5738    0.067623        6762.283007   \n",
       "\n",
       "   year  \n",
       "0  2014  \n",
       "1  2014  \n",
       "2  2014  \n",
       "3  2014  "
      ]
     },
     "execution_count": 536,
     "metadata": {},
     "output_type": "execute_result"
    },
    {
     "data": {
      "image/png": "[encoded data removed]",
      "text/plain": [
       "<Figure size 432x288 with 1 Axes>"
      ]
     },
     "metadata": {
      "needs_background": "light"
     },
     "output_type": "display_data"
    }
   ],
   "source": [
    "## PER CAPITA - RACE ##\n",
    "\n",
    "# 2014 total deaths per race\n",
    "tot_can_2014=person_info_2014.race_recode_capstone.value_counts().reset_index()\n",
    "\n",
    "# 2014 Cancer popultion: race class and heart disease \n",
    "race_can_2014=can_age_2014.race_recode_capstone.value_counts().reset_index()\n",
    "\n",
    "#merge & create new columns \n",
    "per_capita_can_2014=pd.merge(tot_can_2014,race_can_2014, on=\"index\").rename(columns={\"index\":\"race_recode_capstone\", \"race_recode_capstone_x\":\"total_deaths\", \"race_recode_capstone_y\":\"cancer\"})\n",
    "per_capita_can_2014[\"per_capita\"]=per_capita_can_2014.cancer/per_capita_can_2014.total_deaths\n",
    "per_capita_can_2014[\"per_capita_100000\"]=per_capita_can_2014[\"per_capita\"].apply(lambda t: t*100000)\n",
    "per_capita_can_2014[\"year\"]=[\"2014\",\"2014\",\"2014\",\"2014\",]\n",
    "per_capita_can_2014[\"race_recode_capstone\"]=[\"white\", \"black\", \"hispanic\", \"other\"]\n",
    "\n",
    "ans=per_capita_can_2014.per_capita_100000\n",
    "ans.index = [\"white\", \"black\", \"hispanic\", \"other\"]\n",
    "ans.plot(kind=\"bar\")\n",
    "\n",
    "per_capita_can_2014"
   ]
  },
  {
   "cell_type": "code",
   "execution_count": 537,
   "metadata": {},
   "outputs": [
    {
     "data": {
      "text/html": [
       "<div>\n",
       "<style scoped>\n",
       "    .dataframe tbody tr th:only-of-type {\n",
       "        vertical-align: middle;\n",
       "    }\n",
       "\n",
       "    .dataframe tbody tr th {\n",
       "        vertical-align: top;\n",
       "    }\n",
       "\n",
       "    .dataframe thead th {\n",
       "        text-align: right;\n",
       "    }\n",
       "</style>\n",
       "<table border=\"1\" class=\"dataframe\">\n",
       "  <thead>\n",
       "    <tr style=\"text-align: right;\">\n",
       "      <th></th>\n",
       "      <th>race_recode_capstone</th>\n",
       "      <th>total_deaths</th>\n",
       "      <th>cancer</th>\n",
       "      <th>per_capita</th>\n",
       "      <th>per_capita_100000</th>\n",
       "      <th>year</th>\n",
       "    </tr>\n",
       "  </thead>\n",
       "  <tbody>\n",
       "    <tr>\n",
       "      <th>0</th>\n",
       "      <td>white</td>\n",
       "      <td>2098820</td>\n",
       "      <td>138921</td>\n",
       "      <td>0.066190</td>\n",
       "      <td>6619.004965</td>\n",
       "      <td>2015</td>\n",
       "    </tr>\n",
       "    <tr>\n",
       "      <th>1</th>\n",
       "      <td>black</td>\n",
       "      <td>325734</td>\n",
       "      <td>21467</td>\n",
       "      <td>0.065903</td>\n",
       "      <td>6590.346725</td>\n",
       "      <td>2015</td>\n",
       "    </tr>\n",
       "    <tr>\n",
       "      <th>2</th>\n",
       "      <td>hispanic</td>\n",
       "      <td>198909</td>\n",
       "      <td>13177</td>\n",
       "      <td>0.066246</td>\n",
       "      <td>6624.637397</td>\n",
       "      <td>2015</td>\n",
       "    </tr>\n",
       "    <tr>\n",
       "      <th>3</th>\n",
       "      <td>other</td>\n",
       "      <td>89167</td>\n",
       "      <td>5903</td>\n",
       "      <td>0.066202</td>\n",
       "      <td>6620.162168</td>\n",
       "      <td>2015</td>\n",
       "    </tr>\n",
       "  </tbody>\n",
       "</table>\n",
       "</div>"
      ],
      "text/plain": [
       "  race_recode_capstone  total_deaths  cancer  per_capita  per_capita_100000  \\\n",
       "0                white       2098820  138921    0.066190        6619.004965   \n",
       "1                black        325734   21467    0.065903        6590.346725   \n",
       "2             hispanic        198909   13177    0.066246        6624.637397   \n",
       "3                other         89167    5903    0.066202        6620.162168   \n",
       "\n",
       "   year  \n",
       "0  2015  \n",
       "1  2015  \n",
       "2  2015  \n",
       "3  2015  "
      ]
     },
     "execution_count": 537,
     "metadata": {},
     "output_type": "execute_result"
    },
    {
     "data": {
      "image/png": "[encoded data removed]",
      "text/plain": [
       "<Figure size 432x288 with 1 Axes>"
      ]
     },
     "metadata": {
      "needs_background": "light"
     },
     "output_type": "display_data"
    }
   ],
   "source": [
    "## PER CAPITA - RACE ##\n",
    "\n",
    "# 2015 total deaths per race\n",
    "tot_can_2015=person_info_2015.race_recode_capstone.value_counts().reset_index()\n",
    "\n",
    "# 2015 Cancer popultion: race class and heart disease \n",
    "race_can_2015=can_age_2015.race_recode_capstone.value_counts().reset_index()\n",
    "\n",
    "#merge & create new columns \n",
    "per_capita_can_2015=pd.merge(tot_can_2015,race_can_2015, on=\"index\").rename(columns={\"index\":\"race_recode_capstone\", \"race_recode_capstone_x\":\"total_deaths\", \"race_recode_capstone_y\":\"cancer\"})\n",
    "per_capita_can_2015[\"per_capita\"]=per_capita_can_2015.cancer/per_capita_can_2015.total_deaths\n",
    "per_capita_can_2015[\"per_capita_100000\"]=per_capita_can_2015[\"per_capita\"].apply(lambda t: t*100000)\n",
    "per_capita_can_2015[\"year\"]=[\"2015\",\"2015\",\"2015\",\"2015\",]\n",
    "per_capita_can_2015[\"race_recode_capstone\"]=[\"white\", \"black\", \"hispanic\", \"other\"]\n",
    "\n",
    "ans=per_capita_can_2015.per_capita_100000\n",
    "ans.index = [\"white\", \"black\", \"hispanic\", \"other\"]\n",
    "ans.plot(kind=\"bar\")\n",
    "\n",
    "per_capita_can_2015"
   ]
  },
  {
   "cell_type": "code",
   "execution_count": 538,
   "metadata": {},
   "outputs": [
    {
     "data": {
      "text/html": [
       "<div>\n",
       "<style scoped>\n",
       "    .dataframe tbody tr th:only-of-type {\n",
       "        vertical-align: middle;\n",
       "    }\n",
       "\n",
       "    .dataframe tbody tr th {\n",
       "        vertical-align: top;\n",
       "    }\n",
       "\n",
       "    .dataframe thead th {\n",
       "        text-align: right;\n",
       "    }\n",
       "</style>\n",
       "<table border=\"1\" class=\"dataframe\">\n",
       "  <thead>\n",
       "    <tr style=\"text-align: right;\">\n",
       "      <th></th>\n",
       "      <th>race_recode_capstone</th>\n",
       "      <th>total_deaths</th>\n",
       "      <th>cancer</th>\n",
       "      <th>per_capita</th>\n",
       "      <th>per_capita_100000</th>\n",
       "      <th>year</th>\n",
       "    </tr>\n",
       "  </thead>\n",
       "  <tbody>\n",
       "    <tr>\n",
       "      <th>0</th>\n",
       "      <td>white</td>\n",
       "      <td>2127638</td>\n",
       "      <td>137494</td>\n",
       "      <td>0.064623</td>\n",
       "      <td>6462.283528</td>\n",
       "      <td>2016</td>\n",
       "    </tr>\n",
       "    <tr>\n",
       "      <th>1</th>\n",
       "      <td>black</td>\n",
       "      <td>327432</td>\n",
       "      <td>21457</td>\n",
       "      <td>0.065531</td>\n",
       "      <td>6553.116372</td>\n",
       "      <td>2016</td>\n",
       "    </tr>\n",
       "    <tr>\n",
       "      <th>2</th>\n",
       "      <td>hispanic</td>\n",
       "      <td>199464</td>\n",
       "      <td>13036</td>\n",
       "      <td>0.065355</td>\n",
       "      <td>6535.515181</td>\n",
       "      <td>2016</td>\n",
       "    </tr>\n",
       "    <tr>\n",
       "      <th>3</th>\n",
       "      <td>other</td>\n",
       "      <td>89714</td>\n",
       "      <td>5847</td>\n",
       "      <td>0.065174</td>\n",
       "      <td>6517.377444</td>\n",
       "      <td>2016</td>\n",
       "    </tr>\n",
       "  </tbody>\n",
       "</table>\n",
       "</div>"
      ],
      "text/plain": [
       "  race_recode_capstone  total_deaths  cancer  per_capita  per_capita_100000  \\\n",
       "0                white       2127638  137494    0.064623        6462.283528   \n",
       "1                black        327432   21457    0.065531        6553.116372   \n",
       "2             hispanic        199464   13036    0.065355        6535.515181   \n",
       "3                other         89714    5847    0.065174        6517.377444   \n",
       "\n",
       "   year  \n",
       "0  2016  \n",
       "1  2016  \n",
       "2  2016  \n",
       "3  2016  "
      ]
     },
     "execution_count": 538,
     "metadata": {},
     "output_type": "execute_result"
    },
    {
     "data": {
      "image/png": "[encoded data removed]",
      "text/plain": [
       "<Figure size 432x288 with 1 Axes>"
      ]
     },
     "metadata": {
      "needs_background": "light"
     },
     "output_type": "display_data"
    }
   ],
   "source": [
    "## PER CAPITA - RACE ##\n",
    "\n",
    "# 2016 total deaths per race\n",
    "tot_can_2016=person_info_2016.race_recode_capstone.value_counts().reset_index()\n",
    "\n",
    "# 2016 Cancer popultion: race class and heart disease \n",
    "race_can_2016=can_age_2016.race_recode_capstone.value_counts().reset_index()\n",
    "\n",
    "#merge & create new columns \n",
    "per_capita_can_2016=pd.merge(tot_can_2016,race_can_2016, on=\"index\").rename(columns={\"index\":\"race_recode_capstone\", \"race_recode_capstone_x\":\"total_deaths\", \"race_recode_capstone_y\":\"cancer\"})\n",
    "per_capita_can_2016[\"per_capita\"]=per_capita_can_2016.cancer/per_capita_can_2016.total_deaths\n",
    "per_capita_can_2016[\"per_capita_100000\"]=per_capita_can_2016[\"per_capita\"].apply(lambda t: t*100000)\n",
    "per_capita_can_2016[\"year\"]=[\"2016\",\"2016\",\"2016\",\"2016\",]\n",
    "per_capita_can_2016[\"race_recode_capstone\"]=[\"white\", \"black\", \"hispanic\", \"other\"]\n",
    "\n",
    "ans=per_capita_can_2016.per_capita_100000\n",
    "ans.index = [\"white\", \"black\", \"hispanic\", \"other\"]\n",
    "ans.plot(kind=\"bar\")\n",
    "\n",
    "per_capita_can_2016"
   ]
  },
  {
   "cell_type": "code",
   "execution_count": 539,
   "metadata": {
    "scrolled": false
   },
   "outputs": [
    {
     "data": {
      "text/html": [
       "<div>\n",
       "<style scoped>\n",
       "    .dataframe tbody tr th:only-of-type {\n",
       "        vertical-align: middle;\n",
       "    }\n",
       "\n",
       "    .dataframe tbody tr th {\n",
       "        vertical-align: top;\n",
       "    }\n",
       "\n",
       "    .dataframe thead th {\n",
       "        text-align: right;\n",
       "    }\n",
       "</style>\n",
       "<table border=\"1\" class=\"dataframe\">\n",
       "  <thead>\n",
       "    <tr style=\"text-align: right;\">\n",
       "      <th></th>\n",
       "      <th>race_recode_capstone</th>\n",
       "      <th>total_deaths</th>\n",
       "      <th>cancer</th>\n",
       "      <th>per_capita</th>\n",
       "      <th>per_capita_100000</th>\n",
       "      <th>year</th>\n",
       "    </tr>\n",
       "  </thead>\n",
       "  <tbody>\n",
       "    <tr>\n",
       "      <th>0</th>\n",
       "      <td>white</td>\n",
       "      <td>2177644</td>\n",
       "      <td>133973</td>\n",
       "      <td>0.061522</td>\n",
       "      <td>6152.199349</td>\n",
       "      <td>2017</td>\n",
       "    </tr>\n",
       "    <tr>\n",
       "      <th>1</th>\n",
       "      <td>black</td>\n",
       "      <td>336589</td>\n",
       "      <td>21173</td>\n",
       "      <td>0.062905</td>\n",
       "      <td>6290.461067</td>\n",
       "      <td>2017</td>\n",
       "    </tr>\n",
       "    <tr>\n",
       "      <th>2</th>\n",
       "      <td>hispanic</td>\n",
       "      <td>206744</td>\n",
       "      <td>12973</td>\n",
       "      <td>0.062749</td>\n",
       "      <td>6274.910034</td>\n",
       "      <td>2017</td>\n",
       "    </tr>\n",
       "    <tr>\n",
       "      <th>3</th>\n",
       "      <td>other</td>\n",
       "      <td>92527</td>\n",
       "      <td>5753</td>\n",
       "      <td>0.062176</td>\n",
       "      <td>6217.644579</td>\n",
       "      <td>2017</td>\n",
       "    </tr>\n",
       "  </tbody>\n",
       "</table>\n",
       "</div>"
      ],
      "text/plain": [
       "  race_recode_capstone  total_deaths  cancer  per_capita  per_capita_100000  \\\n",
       "0                white       2177644  133973    0.061522        6152.199349   \n",
       "1                black        336589   21173    0.062905        6290.461067   \n",
       "2             hispanic        206744   12973    0.062749        6274.910034   \n",
       "3                other         92527    5753    0.062176        6217.644579   \n",
       "\n",
       "   year  \n",
       "0  2017  \n",
       "1  2017  \n",
       "2  2017  \n",
       "3  2017  "
      ]
     },
     "execution_count": 539,
     "metadata": {},
     "output_type": "execute_result"
    },
    {
     "data": {
      "image/png": "[encoded data removed]",
      "text/plain": [
       "<Figure size 432x288 with 1 Axes>"
      ]
     },
     "metadata": {
      "needs_background": "light"
     },
     "output_type": "display_data"
    }
   ],
   "source": [
    "## PER CAPITA - RACE ##\n",
    "\n",
    "# 2017 total deaths per race\n",
    "tot_can_2017=person_info_2017.race_recode_capstone.value_counts().reset_index()\n",
    "\n",
    "# 2017 Cancer popultion: race class and heart disease \n",
    "race_can_2017=can_age_2017.race_recode_capstone.value_counts().reset_index()\n",
    "\n",
    "#merge & create new columns \n",
    "per_capita_can_2017=pd.merge(tot_can_2017,race_can_2017, on=\"index\").rename(columns={\"index\":\"race_recode_capstone\", \"race_recode_capstone_x\":\"total_deaths\", \"race_recode_capstone_y\":\"cancer\"})\n",
    "per_capita_can_2017[\"per_capita\"]=per_capita_can_2017.cancer/per_capita_can_2017.total_deaths\n",
    "per_capita_can_2017[\"per_capita_100000\"]=per_capita_can_2017[\"per_capita\"].apply(lambda t: t*100000)\n",
    "per_capita_can_2017[\"year\"]=[\"2017\",\"2017\",\"2017\",\"2017\",]\n",
    "per_capita_can_2017[\"race_recode_capstone\"]=[\"white\", \"black\", \"hispanic\", \"other\"]\n",
    "\n",
    "ans=per_capita_can_2017.per_capita_100000\n",
    "ans.index = [\"white\", \"black\", \"hispanic\", \"other\"]\n",
    "ans.plot(kind=\"bar\")\n",
    "\n",
    "per_capita_can_2017\n",
    "\n",
    "\n"
   ]
  },
  {
   "cell_type": "code",
   "execution_count": 541,
   "metadata": {
    "scrolled": true
   },
   "outputs": [
    {
     "data": {
      "text/html": [
       "<div>\n",
       "<style scoped>\n",
       "    .dataframe tbody tr th:only-of-type {\n",
       "        vertical-align: middle;\n",
       "    }\n",
       "\n",
       "    .dataframe tbody tr th {\n",
       "        vertical-align: top;\n",
       "    }\n",
       "\n",
       "    .dataframe thead th {\n",
       "        text-align: right;\n",
       "    }\n",
       "</style>\n",
       "<table border=\"1\" class=\"dataframe\">\n",
       "  <thead>\n",
       "    <tr style=\"text-align: right;\">\n",
       "      <th></th>\n",
       "      <th>race_recode_capstone</th>\n",
       "      <th>total_deaths</th>\n",
       "      <th>cancer</th>\n",
       "      <th>per_capita</th>\n",
       "      <th>per_capita_100000</th>\n",
       "      <th>year</th>\n",
       "    </tr>\n",
       "  </thead>\n",
       "  <tbody>\n",
       "    <tr>\n",
       "      <th>0</th>\n",
       "      <td>white</td>\n",
       "      <td>2188349</td>\n",
       "      <td>119168</td>\n",
       "      <td>0.054456</td>\n",
       "      <td>5445.566498</td>\n",
       "      <td>2018</td>\n",
       "    </tr>\n",
       "    <tr>\n",
       "      <th>1</th>\n",
       "      <td>black</td>\n",
       "      <td>343393</td>\n",
       "      <td>26817</td>\n",
       "      <td>0.078094</td>\n",
       "      <td>7809.419528</td>\n",
       "      <td>2018</td>\n",
       "    </tr>\n",
       "    <tr>\n",
       "      <th>2</th>\n",
       "      <td>hispanic</td>\n",
       "      <td>212706</td>\n",
       "      <td>17214</td>\n",
       "      <td>0.080929</td>\n",
       "      <td>8092.860568</td>\n",
       "      <td>2018</td>\n",
       "    </tr>\n",
       "    <tr>\n",
       "      <th>3</th>\n",
       "      <td>other</td>\n",
       "      <td>94757</td>\n",
       "      <td>7515</td>\n",
       "      <td>0.079308</td>\n",
       "      <td>7930.812499</td>\n",
       "      <td>2018</td>\n",
       "    </tr>\n",
       "  </tbody>\n",
       "</table>\n",
       "</div>"
      ],
      "text/plain": [
       "  race_recode_capstone  total_deaths  cancer  per_capita  per_capita_100000  \\\n",
       "0                white       2188349  119168    0.054456        5445.566498   \n",
       "1                black        343393   26817    0.078094        7809.419528   \n",
       "2             hispanic        212706   17214    0.080929        8092.860568   \n",
       "3                other         94757    7515    0.079308        7930.812499   \n",
       "\n",
       "   year  \n",
       "0  2018  \n",
       "1  2018  \n",
       "2  2018  \n",
       "3  2018  "
      ]
     },
     "execution_count": 541,
     "metadata": {},
     "output_type": "execute_result"
    },
    {
     "data": {
      "image/png": "[encoded data removed]",
      "text/plain": [
       "<Figure size 432x288 with 1 Axes>"
      ]
     },
     "metadata": {
      "needs_background": "light"
     },
     "output_type": "display_data"
    }
   ],
   "source": [
    "## PER CAPITA - RACE ##\n",
    "\n",
    "# 2018 total deaths per race\n",
    "tot_can_2018=person_info_2018.race_recode_capstone.value_counts().reset_index()\n",
    "\n",
    "# 2018 Cancer popultion: race class and heart disease \n",
    "race_can_2018=can_age_2018.race_recode_capstone.value_counts().reset_index()\n",
    "\n",
    "#merge & create new columns \n",
    "per_capita_can_2018=pd.merge(tot_can_2018,race_can_2018, on=\"index\").rename(columns={\"index\":\"race_recode_capstone\", \"race_recode_capstone_x\":\"total_deaths\", \"race_recode_capstone_y\":\"cancer\"})\n",
    "per_capita_can_2018[\"per_capita\"]=per_capita_can_2018.cancer/per_capita_can_2018.total_deaths\n",
    "per_capita_can_2018[\"per_capita_100000\"]=per_capita_can_2018[\"per_capita\"].apply(lambda t: t*100000)\n",
    "per_capita_can_2018[\"year\"]=[\"2018\",\"2018\",\"2018\",\"2018\",]\n",
    "per_capita_can_2018[\"race_recode_capstone\"]=[\"white\", \"black\", \"hispanic\", \"other\"]\n",
    "\n",
    "\n",
    "ans=per_capita_can_2018.per_capita_100000\n",
    "ans.index = [\"white\", \"black\", \"hispanic\", \"other\"]\n",
    "ans.plot(kind=\"bar\")\n",
    "\n",
    "per_capita_can_2018\n",
    "#7809.419528 per 100000 black people age younger than 65 have cancer\n",
    "\n",
    "\n",
    "\n"
   ]
  },
  {
   "cell_type": "code",
   "execution_count": 556,
   "metadata": {
    "scrolled": false
   },
   "outputs": [
    {
     "data": {
      "text/html": [
       "<div>\n",
       "<style scoped>\n",
       "    .dataframe tbody tr th:only-of-type {\n",
       "        vertical-align: middle;\n",
       "    }\n",
       "\n",
       "    .dataframe tbody tr th {\n",
       "        vertical-align: top;\n",
       "    }\n",
       "\n",
       "    .dataframe thead th {\n",
       "        text-align: right;\n",
       "    }\n",
       "</style>\n",
       "<table border=\"1\" class=\"dataframe\">\n",
       "  <thead>\n",
       "    <tr style=\"text-align: right;\">\n",
       "      <th></th>\n",
       "      <th></th>\n",
       "      <th>total_deaths</th>\n",
       "      <th>cancer</th>\n",
       "      <th>per_capita</th>\n",
       "      <th>per_capita_100000</th>\n",
       "    </tr>\n",
       "    <tr>\n",
       "      <th>year</th>\n",
       "      <th>race_recode_capstone</th>\n",
       "      <th></th>\n",
       "      <th></th>\n",
       "      <th></th>\n",
       "      <th></th>\n",
       "    </tr>\n",
       "  </thead>\n",
       "  <tbody>\n",
       "    <tr>\n",
       "      <th rowspan=\"4\" valign=\"top\">2012</th>\n",
       "      <th>black</th>\n",
       "      <td>307727</td>\n",
       "      <td>21772</td>\n",
       "      <td>0.070751</td>\n",
       "      <td>7075.102282</td>\n",
       "    </tr>\n",
       "    <tr>\n",
       "      <th>hispanic</th>\n",
       "      <td>191584</td>\n",
       "      <td>13931</td>\n",
       "      <td>0.072715</td>\n",
       "      <td>7271.484049</td>\n",
       "    </tr>\n",
       "    <tr>\n",
       "      <th>other</th>\n",
       "      <td>82679</td>\n",
       "      <td>6106</td>\n",
       "      <td>0.073852</td>\n",
       "      <td>7385.188500</td>\n",
       "    </tr>\n",
       "    <tr>\n",
       "      <th>white</th>\n",
       "      <td>1961290</td>\n",
       "      <td>140111</td>\n",
       "      <td>0.071438</td>\n",
       "      <td>7143.818609</td>\n",
       "    </tr>\n",
       "    <tr>\n",
       "      <th rowspan=\"4\" valign=\"top\">2013</th>\n",
       "      <th>black</th>\n",
       "      <td>314538</td>\n",
       "      <td>21424</td>\n",
       "      <td>0.068113</td>\n",
       "      <td>6811.259689</td>\n",
       "    </tr>\n",
       "    <tr>\n",
       "      <th>hispanic</th>\n",
       "      <td>195495</td>\n",
       "      <td>13581</td>\n",
       "      <td>0.069470</td>\n",
       "      <td>6946.980741</td>\n",
       "    </tr>\n",
       "    <tr>\n",
       "      <th>other</th>\n",
       "      <td>84094</td>\n",
       "      <td>5919</td>\n",
       "      <td>0.070386</td>\n",
       "      <td>7038.552096</td>\n",
       "    </tr>\n",
       "    <tr>\n",
       "      <th>white</th>\n",
       "      <td>2002867</td>\n",
       "      <td>139189</td>\n",
       "      <td>0.069495</td>\n",
       "      <td>6949.487909</td>\n",
       "    </tr>\n",
       "    <tr>\n",
       "      <th rowspan=\"4\" valign=\"top\">2014</th>\n",
       "      <th>black</th>\n",
       "      <td>320498</td>\n",
       "      <td>22280</td>\n",
       "      <td>0.069517</td>\n",
       "      <td>6951.681446</td>\n",
       "    </tr>\n",
       "    <tr>\n",
       "      <th>hispanic</th>\n",
       "      <td>196284</td>\n",
       "      <td>13655</td>\n",
       "      <td>0.069568</td>\n",
       "      <td>6956.756536</td>\n",
       "    </tr>\n",
       "    <tr>\n",
       "      <th>other</th>\n",
       "      <td>84853</td>\n",
       "      <td>5738</td>\n",
       "      <td>0.067623</td>\n",
       "      <td>6762.283007</td>\n",
       "    </tr>\n",
       "    <tr>\n",
       "      <th>white</th>\n",
       "      <td>2024784</td>\n",
       "      <td>139014</td>\n",
       "      <td>0.068656</td>\n",
       "      <td>6865.621222</td>\n",
       "    </tr>\n",
       "    <tr>\n",
       "      <th rowspan=\"4\" valign=\"top\">2015</th>\n",
       "      <th>black</th>\n",
       "      <td>325734</td>\n",
       "      <td>21467</td>\n",
       "      <td>0.065903</td>\n",
       "      <td>6590.346725</td>\n",
       "    </tr>\n",
       "    <tr>\n",
       "      <th>hispanic</th>\n",
       "      <td>198909</td>\n",
       "      <td>13177</td>\n",
       "      <td>0.066246</td>\n",
       "      <td>6624.637397</td>\n",
       "    </tr>\n",
       "    <tr>\n",
       "      <th>other</th>\n",
       "      <td>89167</td>\n",
       "      <td>5903</td>\n",
       "      <td>0.066202</td>\n",
       "      <td>6620.162168</td>\n",
       "    </tr>\n",
       "    <tr>\n",
       "      <th>white</th>\n",
       "      <td>2098820</td>\n",
       "      <td>138921</td>\n",
       "      <td>0.066190</td>\n",
       "      <td>6619.004965</td>\n",
       "    </tr>\n",
       "    <tr>\n",
       "      <th rowspan=\"4\" valign=\"top\">2016</th>\n",
       "      <th>black</th>\n",
       "      <td>327432</td>\n",
       "      <td>21457</td>\n",
       "      <td>0.065531</td>\n",
       "      <td>6553.116372</td>\n",
       "    </tr>\n",
       "    <tr>\n",
       "      <th>hispanic</th>\n",
       "      <td>199464</td>\n",
       "      <td>13036</td>\n",
       "      <td>0.065355</td>\n",
       "      <td>6535.515181</td>\n",
       "    </tr>\n",
       "    <tr>\n",
       "      <th>other</th>\n",
       "      <td>89714</td>\n",
       "      <td>5847</td>\n",
       "      <td>0.065174</td>\n",
       "      <td>6517.377444</td>\n",
       "    </tr>\n",
       "    <tr>\n",
       "      <th>white</th>\n",
       "      <td>2127638</td>\n",
       "      <td>137494</td>\n",
       "      <td>0.064623</td>\n",
       "      <td>6462.283528</td>\n",
       "    </tr>\n",
       "    <tr>\n",
       "      <th rowspan=\"4\" valign=\"top\">2017</th>\n",
       "      <th>black</th>\n",
       "      <td>336589</td>\n",
       "      <td>21173</td>\n",
       "      <td>0.062905</td>\n",
       "      <td>6290.461067</td>\n",
       "    </tr>\n",
       "    <tr>\n",
       "      <th>hispanic</th>\n",
       "      <td>206744</td>\n",
       "      <td>12973</td>\n",
       "      <td>0.062749</td>\n",
       "      <td>6274.910034</td>\n",
       "    </tr>\n",
       "    <tr>\n",
       "      <th>other</th>\n",
       "      <td>92527</td>\n",
       "      <td>5753</td>\n",
       "      <td>0.062176</td>\n",
       "      <td>6217.644579</td>\n",
       "    </tr>\n",
       "    <tr>\n",
       "      <th>white</th>\n",
       "      <td>2177644</td>\n",
       "      <td>133973</td>\n",
       "      <td>0.061522</td>\n",
       "      <td>6152.199349</td>\n",
       "    </tr>\n",
       "    <tr>\n",
       "      <th rowspan=\"4\" valign=\"top\">2018</th>\n",
       "      <th>black</th>\n",
       "      <td>343393</td>\n",
       "      <td>26817</td>\n",
       "      <td>0.078094</td>\n",
       "      <td>7809.419528</td>\n",
       "    </tr>\n",
       "    <tr>\n",
       "      <th>hispanic</th>\n",
       "      <td>212706</td>\n",
       "      <td>17214</td>\n",
       "      <td>0.080929</td>\n",
       "      <td>8092.860568</td>\n",
       "    </tr>\n",
       "    <tr>\n",
       "      <th>other</th>\n",
       "      <td>94757</td>\n",
       "      <td>7515</td>\n",
       "      <td>0.079308</td>\n",
       "      <td>7930.812499</td>\n",
       "    </tr>\n",
       "    <tr>\n",
       "      <th>white</th>\n",
       "      <td>2188349</td>\n",
       "      <td>119168</td>\n",
       "      <td>0.054456</td>\n",
       "      <td>5445.566498</td>\n",
       "    </tr>\n",
       "  </tbody>\n",
       "</table>\n",
       "</div>"
      ],
      "text/plain": [
       "                           total_deaths  cancer  per_capita  per_capita_100000\n",
       "year race_recode_capstone                                                     \n",
       "2012 black                       307727   21772    0.070751        7075.102282\n",
       "     hispanic                    191584   13931    0.072715        7271.484049\n",
       "     other                        82679    6106    0.073852        7385.188500\n",
       "     white                      1961290  140111    0.071438        7143.818609\n",
       "2013 black                       314538   21424    0.068113        6811.259689\n",
       "     hispanic                    195495   13581    0.069470        6946.980741\n",
       "     other                        84094    5919    0.070386        7038.552096\n",
       "     white                      2002867  139189    0.069495        6949.487909\n",
       "2014 black                       320498   22280    0.069517        6951.681446\n",
       "     hispanic                    196284   13655    0.069568        6956.756536\n",
       "     other                        84853    5738    0.067623        6762.283007\n",
       "     white                      2024784  139014    0.068656        6865.621222\n",
       "2015 black                       325734   21467    0.065903        6590.346725\n",
       "     hispanic                    198909   13177    0.066246        6624.637397\n",
       "     other                        89167    5903    0.066202        6620.162168\n",
       "     white                      2098820  138921    0.066190        6619.004965\n",
       "2016 black                       327432   21457    0.065531        6553.116372\n",
       "     hispanic                    199464   13036    0.065355        6535.515181\n",
       "     other                        89714    5847    0.065174        6517.377444\n",
       "     white                      2127638  137494    0.064623        6462.283528\n",
       "2017 black                       336589   21173    0.062905        6290.461067\n",
       "     hispanic                    206744   12973    0.062749        6274.910034\n",
       "     other                        92527    5753    0.062176        6217.644579\n",
       "     white                      2177644  133973    0.061522        6152.199349\n",
       "2018 black                       343393   26817    0.078094        7809.419528\n",
       "     hispanic                    212706   17214    0.080929        8092.860568\n",
       "     other                        94757    7515    0.079308        7930.812499\n",
       "     white                      2188349  119168    0.054456        5445.566498"
      ]
     },
     "execution_count": 556,
     "metadata": {},
     "output_type": "execute_result"
    }
   ],
   "source": [
    "per_capita_can_total=pd.concat([per_capita_can_2018,\n",
    "           per_capita_can_2017,\n",
    "           per_capita_can_2016,\n",
    "           per_capita_can_2015,\n",
    "           per_capita_can_2014,\n",
    "           per_capita_can_2013,\n",
    "           per_capita_can_2012,\n",
    "          ])\n",
    "\n",
    "per_capita_can_total.groupby([\"year\",\"race_recode_capstone\"]).sum()\n"
   ]
  },
  {
   "cell_type": "code",
   "execution_count": 568,
   "metadata": {
    "scrolled": true
   },
   "outputs": [
    {
     "data": {
      "text/plain": [
       "<matplotlib.axes._subplots.AxesSubplot at 0x7ff2181827d0>"
      ]
     },
     "execution_count": 568,
     "metadata": {},
     "output_type": "execute_result"
    },
    {
     "data": {
      "image/png": "[encoded data removed]",
      "text/plain": [
       "<Figure size 432x288 with 1 Axes>"
      ]
     },
     "metadata": {
      "needs_background": "light"
     },
     "output_type": "display_data"
    }
   ],
   "source": [
    "per_capita_can_total.groupby([\"year\"])['per_capita_100000'].sum().plot(kind=\"line\")"
   ]
  },
  {
   "cell_type": "code",
   "execution_count": 572,
   "metadata": {},
   "outputs": [
    {
     "data": {
      "text/plain": [
       "<matplotlib.legend.Legend at 0x7ff2622fdd90>"
      ]
     },
     "execution_count": 572,
     "metadata": {},
     "output_type": "execute_result"
    },
    {
     "data": {
      "image/png": "[encoded data removed]",
      "text/plain": [
       "<Figure size 432x288 with 1 Axes>"
      ]
     },
     "metadata": {
      "needs_background": "light"
     },
     "output_type": "display_data"
    }
   ],
   "source": [
    "per_capita_can_total[per_capita_can_total.race_recode_capstone==\"white\"].groupby([\"year\"])['per_capita_100000'].sum().plot(kind=\"line\")\n",
    "per_capita_can_total[per_capita_can_total.race_recode_capstone==\"black\"].groupby([\"year\"])['per_capita_100000'].sum().plot(kind=\"line\")\n",
    "per_capita_can_total[per_capita_can_total.race_recode_capstone==\"hispanic\"].groupby([\"year\"])['per_capita_100000'].sum().plot(kind=\"line\")\n",
    "per_capita_can_total[per_capita_can_total.race_recode_capstone==\"other\"].groupby([\"year\"])['per_capita_100000'].sum().plot(kind=\"line\")\n",
    "\n",
    "plt.legend((\"white\", \"black\", \"hispanic\", \"other\"))"
   ]
  },
  {
   "cell_type": "code",
   "execution_count": 444,
   "metadata": {},
   "outputs": [
    {
     "data": {
      "text/plain": [
       "race_recode_capstone  sex\n",
       "1                     F       8407\n",
       "                      M       8807\n",
       "2                     F      55749\n",
       "                      M      63419\n",
       "3                     F      13656\n",
       "                      M      13161\n",
       "4                     F       3875\n",
       "                      M       3640\n",
       "dtype: int64"
      ]
     },
     "execution_count": 444,
     "metadata": {},
     "output_type": "execute_result"
    }
   ],
   "source": [
    "can_age.groupby([\"race_recode_capstone\",\"sex\"]).size()#.plot(kind=\"bar\")"
   ]
  },
  {
   "cell_type": "markdown",
   "metadata": {},
   "source": [
    "# --------------------------------------------------------------- "
   ]
  },
  {
   "cell_type": "markdown",
   "metadata": {},
   "source": [
    "### Heart Disease among people less than 65 years old \n",
    "##### Rates per 100,000 population"
   ]
  },
  {
   "cell_type": "code",
   "execution_count": 107,
   "metadata": {
    "scrolled": true
   },
   "outputs": [
    {
     "name": "stdout",
     "output_type": "stream",
     "text": [
      "Total heart disease population: 868662\n",
      "Older than 65 years old: 0.81\n",
      "Younger than 65 years old: 0.19\n"
     ]
    }
   ],
   "source": [
    "\n",
    "hd2018.age_recode_27=hd2018.age_recode_27.astype(np.int64)\n",
    "print(\"Total heart disease population: %s\" %hd2018.shape[0])\n",
    "print(\"Older than 65 years old: %.2f\" %(hd2018[hd2018.age_recode_27>18].shape[0]/hd2018.shape[0]))\n",
    "print(\"Younger than 65 years old: %.2f\" %(hd2018[hd2018.age_recode_27<=18].shape[0]/hd2018.shape[0]))"
   ]
  },
  {
   "cell_type": "code",
   "execution_count": 109,
   "metadata": {},
   "outputs": [],
   "source": [
    "hd_age=hd2018.copy()\n",
    "hd_age.age_recode_27=hd_age.age_recode_27.astype(np.int64)\n",
    "hd_age=hd_age[hd_age.age_recode_27<=18]"
   ]
  },
  {
   "cell_type": "code",
   "execution_count": 120,
   "metadata": {},
   "outputs": [
    {
     "data": {
      "text/html": [
       "<div>\n",
       "<style scoped>\n",
       "    .dataframe tbody tr th:only-of-type {\n",
       "        vertical-align: middle;\n",
       "    }\n",
       "\n",
       "    .dataframe tbody tr th {\n",
       "        vertical-align: top;\n",
       "    }\n",
       "\n",
       "    .dataframe thead th {\n",
       "        text-align: right;\n",
       "    }\n",
       "</style>\n",
       "<table border=\"1\" class=\"dataframe\">\n",
       "  <thead>\n",
       "    <tr style=\"text-align: right;\">\n",
       "      <th></th>\n",
       "      <th>person_id</th>\n",
       "      <th>year_id</th>\n",
       "      <th>resident_status</th>\n",
       "      <th>edu_2003_rev</th>\n",
       "      <th>sex</th>\n",
       "      <th>age_recode_27</th>\n",
       "      <th>marital_status</th>\n",
       "      <th>bridged_race_1</th>\n",
       "      <th>bridged_race_recode_5</th>\n",
       "      <th>hispanicorigin</th>\n",
       "      <th>hispanicorigin_bridgeracerecode</th>\n",
       "      <th>day_of_week_of_death</th>\n",
       "      <th>month_of_death</th>\n",
       "      <th>data_year</th>\n",
       "      <th>race_recode_capstone</th>\n",
       "      <th>cause_recode_358</th>\n",
       "      <th>place_of_death_and_status</th>\n",
       "      <th>injury_at_work</th>\n",
       "      <th>manner_of_death</th>\n",
       "      <th>autopsy</th>\n",
       "      <th>activity_code</th>\n",
       "      <th>place_of_injury</th>\n",
       "    </tr>\n",
       "  </thead>\n",
       "  <tbody>\n",
       "    <tr>\n",
       "      <th>2</th>\n",
       "      <td>14</td>\n",
       "      <td>8</td>\n",
       "      <td>1</td>\n",
       "      <td>3</td>\n",
       "      <td>F</td>\n",
       "      <td>13</td>\n",
       "      <td>S</td>\n",
       "      <td>1</td>\n",
       "      <td>1</td>\n",
       "      <td>100</td>\n",
       "      <td>6</td>\n",
       "      <td>2</td>\n",
       "      <td>1</td>\n",
       "      <td>2018</td>\n",
       "      <td>2</td>\n",
       "      <td>219</td>\n",
       "      <td>1</td>\n",
       "      <td>U</td>\n",
       "      <td>7</td>\n",
       "      <td>N</td>\n",
       "      <td>99</td>\n",
       "      <td>99</td>\n",
       "    </tr>\n",
       "    <tr>\n",
       "      <th>8</th>\n",
       "      <td>40</td>\n",
       "      <td>8</td>\n",
       "      <td>2</td>\n",
       "      <td>6</td>\n",
       "      <td>M</td>\n",
       "      <td>18</td>\n",
       "      <td>D</td>\n",
       "      <td>1</td>\n",
       "      <td>1</td>\n",
       "      <td>100</td>\n",
       "      <td>6</td>\n",
       "      <td>3</td>\n",
       "      <td>1</td>\n",
       "      <td>2018</td>\n",
       "      <td>2</td>\n",
       "      <td>211</td>\n",
       "      <td>1</td>\n",
       "      <td>U</td>\n",
       "      <td>7</td>\n",
       "      <td>N</td>\n",
       "      <td>99</td>\n",
       "      <td>99</td>\n",
       "    </tr>\n",
       "    <tr>\n",
       "      <th>19</th>\n",
       "      <td>80</td>\n",
       "      <td>8</td>\n",
       "      <td>1</td>\n",
       "      <td>1</td>\n",
       "      <td>M</td>\n",
       "      <td>16</td>\n",
       "      <td>U</td>\n",
       "      <td>1</td>\n",
       "      <td>1</td>\n",
       "      <td>100</td>\n",
       "      <td>6</td>\n",
       "      <td>4</td>\n",
       "      <td>1</td>\n",
       "      <td>2018</td>\n",
       "      <td>2</td>\n",
       "      <td>214</td>\n",
       "      <td>4</td>\n",
       "      <td>U</td>\n",
       "      <td>7</td>\n",
       "      <td>N</td>\n",
       "      <td>99</td>\n",
       "      <td>99</td>\n",
       "    </tr>\n",
       "    <tr>\n",
       "      <th>21</th>\n",
       "      <td>87</td>\n",
       "      <td>8</td>\n",
       "      <td>3</td>\n",
       "      <td>6</td>\n",
       "      <td>M</td>\n",
       "      <td>17</td>\n",
       "      <td>D</td>\n",
       "      <td>1</td>\n",
       "      <td>1</td>\n",
       "      <td>100</td>\n",
       "      <td>6</td>\n",
       "      <td>3</td>\n",
       "      <td>1</td>\n",
       "      <td>2018</td>\n",
       "      <td>2</td>\n",
       "      <td>214</td>\n",
       "      <td>7</td>\n",
       "      <td>U</td>\n",
       "      <td>7</td>\n",
       "      <td>N</td>\n",
       "      <td>99</td>\n",
       "      <td>99</td>\n",
       "    </tr>\n",
       "    <tr>\n",
       "      <th>23</th>\n",
       "      <td>101</td>\n",
       "      <td>8</td>\n",
       "      <td>3</td>\n",
       "      <td>1</td>\n",
       "      <td>F</td>\n",
       "      <td>4</td>\n",
       "      <td>S</td>\n",
       "      <td>5</td>\n",
       "      <td>4</td>\n",
       "      <td>100</td>\n",
       "      <td>8</td>\n",
       "      <td>5</td>\n",
       "      <td>1</td>\n",
       "      <td>2018</td>\n",
       "      <td>4</td>\n",
       "      <td>232</td>\n",
       "      <td>7</td>\n",
       "      <td>U</td>\n",
       "      <td>7</td>\n",
       "      <td>Y</td>\n",
       "      <td>99</td>\n",
       "      <td>99</td>\n",
       "    </tr>\n",
       "  </tbody>\n",
       "</table>\n",
       "</div>"
      ],
      "text/plain": [
       "    person_id year_id resident_status edu_2003_rev sex  age_recode_27  \\\n",
       "2          14       8               1            3   F             13   \n",
       "8          40       8               2            6   M             18   \n",
       "19         80       8               1            1   M             16   \n",
       "21         87       8               3            6   M             17   \n",
       "23        101       8               3            1   F              4   \n",
       "\n",
       "   marital_status bridged_race_1 bridged_race_recode_5 hispanicorigin  \\\n",
       "2               S              1                     1            100   \n",
       "8               D              1                     1            100   \n",
       "19              U              1                     1            100   \n",
       "21              D              1                     1            100   \n",
       "23              S              5                     4            100   \n",
       "\n",
       "   hispanicorigin_bridgeracerecode day_of_week_of_death month_of_death  \\\n",
       "2                                6                    2              1   \n",
       "8                                6                    3              1   \n",
       "19                               6                    4              1   \n",
       "21                               6                    3              1   \n",
       "23                               8                    5              1   \n",
       "\n",
       "   data_year race_recode_capstone cause_recode_358 place_of_death_and_status  \\\n",
       "2       2018                    2              219                         1   \n",
       "8       2018                    2              211                         1   \n",
       "19      2018                    2              214                         4   \n",
       "21      2018                    2              214                         7   \n",
       "23      2018                    4              232                         7   \n",
       "\n",
       "   injury_at_work manner_of_death autopsy activity_code place_of_injury  \n",
       "2               U               7       N            99              99  \n",
       "8               U               7       N            99              99  \n",
       "19              U               7       N            99              99  \n",
       "21              U               7       N            99              99  \n",
       "23              U               7       Y            99              99  "
      ]
     },
     "execution_count": 120,
     "metadata": {},
     "output_type": "execute_result"
    }
   ],
   "source": [
    "hd_age.head()"
   ]
  },
  {
   "cell_type": "code",
   "execution_count": 113,
   "metadata": {
    "scrolled": false
   },
   "outputs": [
    {
     "name": "stdout",
     "output_type": "stream",
     "text": [
      "211    26365\n",
      "215    24904\n",
      "214    21416\n",
      "207    15021\n",
      "228     9685\n",
      "227     6999\n",
      "236     6629\n",
      "238     5425\n",
      "230     5142\n",
      "233     4798\n",
      "Name: cause_recode_358, dtype: int64\n"
     ]
    },
    {
     "data": {
      "text/plain": [
       "Text(0, 0.5, 'Number of deaths')"
      ]
     },
     "execution_count": 113,
     "metadata": {},
     "output_type": "execute_result"
    },
    {
     "data": {
      "image/png": "[encoded data removed]",
      "text/plain": [
       "<Figure size 432x288 with 1 Axes>"
      ]
     },
     "metadata": {
      "needs_background": "light"
     },
     "output_type": "display_data"
    }
   ],
   "source": [
    "#Top 10 heart disease deaths\n",
    "\n",
    "print(hd_age['cause_recode_358'].value_counts().head(10))\n",
    "hd_age['cause_recode_358'].value_counts().head(10).plot(kind='bar', x='cause_recode_358')\n",
    "plt.xlabel(\"Types of heart disease deaths\")\n",
    "plt.ylabel(\"Number of deaths\")\n",
    "\n",
    "#211 Acute myocardial infarction (I21-I22) \n",
    "#215 All other forms of chronic ischemic heart disease (I20,I25.1-I25.9) \n",
    "#214 Atherosclerotic cardiovascular disease, so described (I25.0)\n",
    "#207 Hypertensive heart disease (I11) \n",
    "#227 Cardiomyopathy (I42) \n",
    "#228 Conduction disorders and cardiac dysrhythmias (I44-I49)\n",
    "#236 3 Intracerebral and other intracranial hemorrhage (I61-I62)\n",
    "#238 Stroke, not specified as hemorrhage or infarction (I64) \n",
    "#230 Congestive heart failure (I50.0)   \n",
    "#233 All other and ill-defined forms of heart disease (I50.0-I51.3,I51.6-I51.9) \n"
   ]
  },
  {
   "cell_type": "code",
   "execution_count": 114,
   "metadata": {
    "scrolled": true
   },
   "outputs": [
    {
     "data": {
      "text/plain": [
       "Text(0, 0.5, 'Number of Deaths')"
      ]
     },
     "execution_count": 114,
     "metadata": {},
     "output_type": "execute_result"
    },
    {
     "data": {
      "image/png": "[encoded data removed]",
      "text/plain": [
       "<Figure size 432x288 with 1 Axes>"
      ]
     },
     "metadata": {
      "needs_background": "light"
     },
     "output_type": "display_data"
    }
   ],
   "source": [
    "#type of disease compared to Female and Male\n",
    "\n",
    "def top_val_count(x, n=10):\n",
    "    return x.value_counts().head(n)\n",
    "\n",
    "plot_hd=hd_age.groupby([\"sex\"]).cause_recode_358\n",
    "plot_hd.apply(top_val_count).plot(kind=\"bar\", x='cause_recode_358')\n",
    "plt.xlabel(\"Type of Heart Disease\")\n",
    "plt.ylabel(\"Number of Deaths\")\n",
    "\n",
    "#seems like males are at a higher risk of dying from a heart disease"
   ]
  },
  {
   "cell_type": "markdown",
   "metadata": {},
   "source": [
    "### Standardize race"
   ]
  },
  {
   "cell_type": "code",
   "execution_count": 125,
   "metadata": {
    "scrolled": true
   },
   "outputs": [
    {
     "data": {
      "text/plain": [
       "(162612, 22)"
      ]
     },
     "execution_count": 125,
     "metadata": {},
     "output_type": "execute_result"
    }
   ],
   "source": [
    "hd_age.shape"
   ]
  },
  {
   "cell_type": "code",
   "execution_count": 131,
   "metadata": {
    "scrolled": false
   },
   "outputs": [
    {
     "data": {
      "text/plain": [
       "162612"
      ]
     },
     "execution_count": 131,
     "metadata": {},
     "output_type": "execute_result"
    }
   ],
   "source": [
    "hd_age.race_recode_capstone.count()"
   ]
  },
  {
   "cell_type": "code",
   "execution_count": 375,
   "metadata": {
    "scrolled": false
   },
   "outputs": [
    {
     "data": {
      "text/html": [
       "<div>\n",
       "<style scoped>\n",
       "    .dataframe tbody tr th:only-of-type {\n",
       "        vertical-align: middle;\n",
       "    }\n",
       "\n",
       "    .dataframe tbody tr th {\n",
       "        vertical-align: top;\n",
       "    }\n",
       "\n",
       "    .dataframe thead th {\n",
       "        text-align: right;\n",
       "    }\n",
       "</style>\n",
       "<table border=\"1\" class=\"dataframe\">\n",
       "  <thead>\n",
       "    <tr style=\"text-align: right;\">\n",
       "      <th></th>\n",
       "      <th>total_deaths</th>\n",
       "      <th>heart_disease</th>\n",
       "      <th>per_capita</th>\n",
       "      <th>per_capita_100000</th>\n",
       "    </tr>\n",
       "    <tr>\n",
       "      <th>race</th>\n",
       "      <th></th>\n",
       "      <th></th>\n",
       "      <th></th>\n",
       "      <th></th>\n",
       "    </tr>\n",
       "  </thead>\n",
       "  <tbody>\n",
       "    <tr>\n",
       "      <th>2</th>\n",
       "      <td>2188349</td>\n",
       "      <td>103928</td>\n",
       "      <td>0.047492</td>\n",
       "      <td>4749.151072</td>\n",
       "    </tr>\n",
       "    <tr>\n",
       "      <th>3</th>\n",
       "      <td>343393</td>\n",
       "      <td>37356</td>\n",
       "      <td>0.108785</td>\n",
       "      <td>10878.497814</td>\n",
       "    </tr>\n",
       "    <tr>\n",
       "      <th>1</th>\n",
       "      <td>212706</td>\n",
       "      <td>15213</td>\n",
       "      <td>0.071521</td>\n",
       "      <td>7152.125469</td>\n",
       "    </tr>\n",
       "    <tr>\n",
       "      <th>4</th>\n",
       "      <td>94757</td>\n",
       "      <td>6115</td>\n",
       "      <td>0.064533</td>\n",
       "      <td>6453.349093</td>\n",
       "    </tr>\n",
       "  </tbody>\n",
       "</table>\n",
       "</div>"
      ],
      "text/plain": [
       "      total_deaths  heart_disease  per_capita  per_capita_100000\n",
       "race                                                            \n",
       "2          2188349         103928    0.047492        4749.151072\n",
       "3           343393          37356    0.108785       10878.497814\n",
       "1           212706          15213    0.071521        7152.125469\n",
       "4            94757           6115    0.064533        6453.349093"
      ]
     },
     "execution_count": 375,
     "metadata": {},
     "output_type": "execute_result"
    }
   ],
   "source": [
    "## PER CAPITA - RACE ##\n",
    "\n",
    "# 2018 total deaths per race\n",
    "tot_hd_2018=person_info_2018.race_recode_capstone.value_counts().reset_index()\n",
    "\n",
    "# 2018 Heart disease popultion: race class and heart disease \n",
    "race_hd_2018=hd_age.race_recode_capstone.value_counts().reset_index()\n",
    "\n",
    "#merge\n",
    "per_capita_hd_2018=pd.merge(tot_hd_2018,race_hd_2018, on=\"index\").rename(columns={\"index\":\"race\", \"race_recode_capstone_x\":\"total_deaths\", \"race_recode_capstone_y\":\"heart_disease\"})\n",
    "\n",
    "per_capita_hd_2018[\"per_capita\"]=per_capita_hd_2018.heart_disease/per_capita_hd_2018.total_deaths\n",
    "\n",
    "per_capita_hd_2018[\"per_capita_100000\"]=per_capita_hd_2018[\"per_capita\"].apply(lambda t: t*100000)\n",
    "\n",
    "per_capita_hd_2018=per_capita_hd_2018.set_index(\"race\")\n",
    "\n",
    "per_capita_hd_2018\n",
    "#10878.49 per 100000 black people age younger than 65 "
   ]
  },
  {
   "cell_type": "code",
   "execution_count": 376,
   "metadata": {},
   "outputs": [
    {
     "data": {
      "text/plain": [
       "<matplotlib.axes._subplots.AxesSubplot at 0x7ff29f1891d0>"
      ]
     },
     "execution_count": 376,
     "metadata": {},
     "output_type": "execute_result"
    },
    {
     "data": {
      "image/png": "[encoded data removed]",
      "text/plain": [
       "<Figure size 432x288 with 1 Axes>"
      ]
     },
     "metadata": {
      "needs_background": "light"
     },
     "output_type": "display_data"
    }
   ],
   "source": [
    "ans=per_capita_hd_2018.per_capita_100000\n",
    "ans.index = [\"white\", \"black\", \"hispanic\", \"other\"]\n",
    "ans.plot(kind=\"bar\")\n"
   ]
  },
  {
   "cell_type": "code",
   "execution_count": 180,
   "metadata": {
    "scrolled": false
   },
   "outputs": [
    {
     "data": {
      "text/html": [
       "<div>\n",
       "<style scoped>\n",
       "    .dataframe tbody tr th:only-of-type {\n",
       "        vertical-align: middle;\n",
       "    }\n",
       "\n",
       "    .dataframe tbody tr th {\n",
       "        vertical-align: top;\n",
       "    }\n",
       "\n",
       "    .dataframe thead th {\n",
       "        text-align: right;\n",
       "    }\n",
       "</style>\n",
       "<table border=\"1\" class=\"dataframe\">\n",
       "  <thead>\n",
       "    <tr style=\"text-align: right;\">\n",
       "      <th></th>\n",
       "      <th>race_recode_capstone</th>\n",
       "      <th>total_race</th>\n",
       "      <th>cause_recode_358</th>\n",
       "      <th>total_per_cause</th>\n",
       "      <th>total_cause</th>\n",
       "    </tr>\n",
       "  </thead>\n",
       "  <tbody>\n",
       "    <tr>\n",
       "      <th>0</th>\n",
       "      <td>1</td>\n",
       "      <td>15213</td>\n",
       "      <td>199</td>\n",
       "      <td>1</td>\n",
       "      <td>9</td>\n",
       "    </tr>\n",
       "    <tr>\n",
       "      <th>1</th>\n",
       "      <td>2</td>\n",
       "      <td>103928</td>\n",
       "      <td>199</td>\n",
       "      <td>4</td>\n",
       "      <td>9</td>\n",
       "    </tr>\n",
       "    <tr>\n",
       "      <th>2</th>\n",
       "      <td>3</td>\n",
       "      <td>37356</td>\n",
       "      <td>199</td>\n",
       "      <td>2</td>\n",
       "      <td>9</td>\n",
       "    </tr>\n",
       "    <tr>\n",
       "      <th>3</th>\n",
       "      <td>4</td>\n",
       "      <td>6115</td>\n",
       "      <td>199</td>\n",
       "      <td>2</td>\n",
       "      <td>9</td>\n",
       "    </tr>\n",
       "    <tr>\n",
       "      <th>4</th>\n",
       "      <td>1</td>\n",
       "      <td>15213</td>\n",
       "      <td>201</td>\n",
       "      <td>23</td>\n",
       "      <td>370</td>\n",
       "    </tr>\n",
       "    <tr>\n",
       "      <th>...</th>\n",
       "      <td>...</td>\n",
       "      <td>...</td>\n",
       "      <td>...</td>\n",
       "      <td>...</td>\n",
       "      <td>...</td>\n",
       "    </tr>\n",
       "    <tr>\n",
       "      <th>138</th>\n",
       "      <td>4</td>\n",
       "      <td>6115</td>\n",
       "      <td>245</td>\n",
       "      <td>37</td>\n",
       "      <td>1703</td>\n",
       "    </tr>\n",
       "    <tr>\n",
       "      <th>139</th>\n",
       "      <td>1</td>\n",
       "      <td>15213</td>\n",
       "      <td>246</td>\n",
       "      <td>45</td>\n",
       "      <td>430</td>\n",
       "    </tr>\n",
       "    <tr>\n",
       "      <th>140</th>\n",
       "      <td>2</td>\n",
       "      <td>103928</td>\n",
       "      <td>246</td>\n",
       "      <td>294</td>\n",
       "      <td>430</td>\n",
       "    </tr>\n",
       "    <tr>\n",
       "      <th>141</th>\n",
       "      <td>3</td>\n",
       "      <td>37356</td>\n",
       "      <td>246</td>\n",
       "      <td>76</td>\n",
       "      <td>430</td>\n",
       "    </tr>\n",
       "    <tr>\n",
       "      <th>142</th>\n",
       "      <td>4</td>\n",
       "      <td>6115</td>\n",
       "      <td>246</td>\n",
       "      <td>15</td>\n",
       "      <td>430</td>\n",
       "    </tr>\n",
       "  </tbody>\n",
       "</table>\n",
       "<p>143 rows × 5 columns</p>\n",
       "</div>"
      ],
      "text/plain": [
       "    race_recode_capstone  total_race cause_recode_358  total_per_cause  \\\n",
       "0                      1       15213              199                1   \n",
       "1                      2      103928              199                4   \n",
       "2                      3       37356              199                2   \n",
       "3                      4        6115              199                2   \n",
       "4                      1       15213              201               23   \n",
       "..                   ...         ...              ...              ...   \n",
       "138                    4        6115              245               37   \n",
       "139                    1       15213              246               45   \n",
       "140                    2      103928              246              294   \n",
       "141                    3       37356              246               76   \n",
       "142                    4        6115              246               15   \n",
       "\n",
       "     total_cause  \n",
       "0              9  \n",
       "1              9  \n",
       "2              9  \n",
       "3              9  \n",
       "4            370  \n",
       "..           ...  \n",
       "138         1703  \n",
       "139          430  \n",
       "140          430  \n",
       "141          430  \n",
       "142          430  \n",
       "\n",
       "[143 rows x 5 columns]"
      ]
     },
     "execution_count": 180,
     "metadata": {},
     "output_type": "execute_result"
    }
   ],
   "source": [
    "## PER CAPITA RACE AND CAUSE ## (INCOMP SEE CODE BELOW)\n",
    "\n",
    "#groupby race size \n",
    "total_race=hd_age.groupby([\"race_recode_capstone\"]).size().reset_index().rename(columns={0:\"total_race\"})\n",
    "#groupby cause size\n",
    "total_cause=hd_age.groupby([\"cause_recode_358\"]).size().reset_index().rename(columns={0:\"total_cause\"})\n",
    "#groupby race and cause (check size of each cause per race)\n",
    "total_cause_class=hd_age.groupby([\"race_recode_capstone\",\"cause_recode_358\"]).size().reset_index().rename(columns={0:\"total_per_cause\"})\n",
    "#merge all columns together \n",
    "race_rate=total_race.merge(total_cause_class, on=\"race_recode_capstone\").merge(total_cause, on=\"cause_recode_358\").rename(columns={\"cause_recode_358_x\":\"total_race\", \"cause_recode_358_y\":\"cause_recode_358\"})\n",
    "\n",
    "race_rate\n",
    "\n"
   ]
  },
  {
   "cell_type": "code",
   "execution_count": 442,
   "metadata": {
    "scrolled": true
   },
   "outputs": [
    {
     "data": {
      "text/html": [
       "<div>\n",
       "<style scoped>\n",
       "    .dataframe tbody tr th:only-of-type {\n",
       "        vertical-align: middle;\n",
       "    }\n",
       "\n",
       "    .dataframe tbody tr th {\n",
       "        vertical-align: top;\n",
       "    }\n",
       "\n",
       "    .dataframe thead th {\n",
       "        text-align: right;\n",
       "    }\n",
       "</style>\n",
       "<table border=\"1\" class=\"dataframe\">\n",
       "  <thead>\n",
       "    <tr style=\"text-align: right;\">\n",
       "      <th></th>\n",
       "      <th>cause_recode_358</th>\n",
       "      <th>race_recode_capstone</th>\n",
       "      <th>0</th>\n",
       "    </tr>\n",
       "  </thead>\n",
       "  <tbody>\n",
       "    <tr>\n",
       "      <th>0</th>\n",
       "      <td>199</td>\n",
       "      <td>1</td>\n",
       "      <td>1</td>\n",
       "    </tr>\n",
       "    <tr>\n",
       "      <th>1</th>\n",
       "      <td>199</td>\n",
       "      <td>2</td>\n",
       "      <td>4</td>\n",
       "    </tr>\n",
       "    <tr>\n",
       "      <th>2</th>\n",
       "      <td>199</td>\n",
       "      <td>3</td>\n",
       "      <td>2</td>\n",
       "    </tr>\n",
       "    <tr>\n",
       "      <th>3</th>\n",
       "      <td>199</td>\n",
       "      <td>4</td>\n",
       "      <td>2</td>\n",
       "    </tr>\n",
       "    <tr>\n",
       "      <th>4</th>\n",
       "      <td>201</td>\n",
       "      <td>1</td>\n",
       "      <td>23</td>\n",
       "    </tr>\n",
       "    <tr>\n",
       "      <th>...</th>\n",
       "      <td>...</td>\n",
       "      <td>...</td>\n",
       "      <td>...</td>\n",
       "    </tr>\n",
       "    <tr>\n",
       "      <th>138</th>\n",
       "      <td>245</td>\n",
       "      <td>4</td>\n",
       "      <td>37</td>\n",
       "    </tr>\n",
       "    <tr>\n",
       "      <th>139</th>\n",
       "      <td>246</td>\n",
       "      <td>1</td>\n",
       "      <td>45</td>\n",
       "    </tr>\n",
       "    <tr>\n",
       "      <th>140</th>\n",
       "      <td>246</td>\n",
       "      <td>2</td>\n",
       "      <td>294</td>\n",
       "    </tr>\n",
       "    <tr>\n",
       "      <th>141</th>\n",
       "      <td>246</td>\n",
       "      <td>3</td>\n",
       "      <td>76</td>\n",
       "    </tr>\n",
       "    <tr>\n",
       "      <th>142</th>\n",
       "      <td>246</td>\n",
       "      <td>4</td>\n",
       "      <td>15</td>\n",
       "    </tr>\n",
       "  </tbody>\n",
       "</table>\n",
       "<p>143 rows × 3 columns</p>\n",
       "</div>"
      ],
      "text/plain": [
       "    cause_recode_358 race_recode_capstone    0\n",
       "0                199                    1    1\n",
       "1                199                    2    4\n",
       "2                199                    3    2\n",
       "3                199                    4    2\n",
       "4                201                    1   23\n",
       "..               ...                  ...  ...\n",
       "138              245                    4   37\n",
       "139              246                    1   45\n",
       "140              246                    2  294\n",
       "141              246                    3   76\n",
       "142              246                    4   15\n",
       "\n",
       "[143 rows x 3 columns]"
      ]
     },
     "execution_count": 442,
     "metadata": {},
     "output_type": "execute_result"
    }
   ],
   "source": [
    "# cause_recode_358\n",
    "\n",
    "hd_age.groupby([\"cause_recode_358\",\"race_recode_capstone\"]).size().reset_index()\n",
    "\n"
   ]
  },
  {
   "cell_type": "code",
   "execution_count": 319,
   "metadata": {
    "scrolled": true
   },
   "outputs": [
    {
     "data": {
      "text/plain": [
       "162612"
      ]
     },
     "execution_count": 319,
     "metadata": {},
     "output_type": "execute_result"
    }
   ],
   "source": [
    "hd_age.race_recode_capstone.count()"
   ]
  },
  {
   "cell_type": "code",
   "execution_count": null,
   "metadata": {},
   "outputs": [],
   "source": []
  },
  {
   "cell_type": "code",
   "execution_count": 438,
   "metadata": {
    "scrolled": true
   },
   "outputs": [
    {
     "data": {
      "text/plain": [
       "white        4749.151072\n",
       "black       10878.497814\n",
       "hispanic     7152.125469\n",
       "other        6453.349093\n",
       "Name: per_capita_100000, dtype: float64"
      ]
     },
     "execution_count": 438,
     "metadata": {},
     "output_type": "execute_result"
    }
   ],
   "source": [
    "##TEST## ##INCOMP##\n",
    "\n",
    "per_capita_hd_2018.per_capita_100000\n",
    "\n"
   ]
  },
  {
   "cell_type": "code",
   "execution_count": 314,
   "metadata": {},
   "outputs": [
    {
     "name": "stdout",
     "output_type": "stream",
     "text": [
      "                    white_race    black_race  hispanic_race     other_race\n",
      "cause_recode_358                                                          \n",
      "211               25368.524363  70577.684977  173305.725366  431152.902698\n",
      "215               23962.743438  66666.666667  163702.096891  407260.834015\n",
      "214               20606.573782  57329.478531  140774.337737  350220.768602\n",
      "207               14453.275344  40210.407967   98737.921514  245641.864268\n",
      "228                9318.951582  25926.223364   63662.656938  158381.030253\n",
      "227                6734.470018  18735.946033   46006.704792  114456.255110\n",
      "236                6378.454315  17745.475961   43574.574377  108405.560098\n",
      "238                5219.959972  14522.432809   35660.290541   88716.271464\n",
      "230                4947.656070  13764.857051   33800.039440   84088.307441\n",
      "233                4616.657686  12843.987579   31538.815487   78462.796402\n"
     ]
    },
    {
     "data": {
      "text/plain": [
       "<matplotlib.axes._subplots.AxesSubplot at 0x7ff2675f6b50>"
      ]
     },
     "execution_count": 314,
     "metadata": {},
     "output_type": "execute_result"
    },
    {
     "data": {
      "image/png": "[encoded data removed]",
      "text/plain": [
       "<Figure size 432x288 with 1 Axes>"
      ]
     },
     "metadata": {
      "needs_background": "light"
     },
     "output_type": "display_data"
    }
   ],
   "source": [
    "##INCORRECT##\n",
    "\n",
    "\n",
    "# 2-white        4749.151072\n",
    "# 3-black       10878.497814\n",
    "# 1-hispanic     7152.125469\n",
    "# 4-other        6453.349093\n",
    "\n",
    "\n",
    "# 2    0.639116\n",
    "# 3    0.229725\n",
    "# 1    0.093554\n",
    "# 4    0.037605\n",
    "\n",
    "#disease count/bridged_race_1_rate\n",
    "#26365/1.18363 = 22274.697329401926...white race\n",
    "#26365/0.37889 = 69584.83...black race\n",
    "\n",
    "#(infection rate / population ) *100000\n",
    "#(26365/118363)*100000 = 22274.697329401923\n",
    "\n",
    "cause_code=pd.DataFrame(hd_age.groupby([\"cause_recode_358\"]).size()).rename(columns={0:\"count\"}).sort_values(by=\"count\", ascending = False).astype(np.int64)\n",
    "\n",
    "white_race = cause_code.apply(lambda t: t/1.03928).rename(columns={\"count\":\"white_race\"})\n",
    "black_race = cause_code.apply(lambda t: t/0.37356).rename(columns={\"count\":\"black_race\"})\n",
    "hispance_race = cause_code.apply(lambda t: t/0.15213).rename(columns={\"count\":\"hispanic_race\"})\n",
    "other_race = cause_code.apply(lambda t: t/0.06115).rename(columns={\"count\":\"other_race\"})\n",
    "\n",
    "\n",
    "print(white_race.join(black_race).join(hispance_race).join(other_race).head(10)) \n",
    "\n",
    "white_race.join(black_race).join(hispance_race).head(10).plot(kind=\"bar\")\n",
    "\n"
   ]
  },
  {
   "cell_type": "markdown",
   "metadata": {},
   "source": [
    "## Overall Heart Disease 2018 EDA \n"
   ]
  },
  {
   "cell_type": "code",
   "execution_count": 95,
   "metadata": {
    "collapsed": true
   },
   "outputs": [
    {
     "data": {
      "text/html": [
       "<div>\n",
       "<style scoped>\n",
       "    .dataframe tbody tr th:only-of-type {\n",
       "        vertical-align: middle;\n",
       "    }\n",
       "\n",
       "    .dataframe tbody tr th {\n",
       "        vertical-align: top;\n",
       "    }\n",
       "\n",
       "    .dataframe thead th {\n",
       "        text-align: right;\n",
       "    }\n",
       "</style>\n",
       "<table border=\"1\" class=\"dataframe\">\n",
       "  <thead>\n",
       "    <tr style=\"text-align: right;\">\n",
       "      <th></th>\n",
       "      <th>person_id</th>\n",
       "      <th>year_id</th>\n",
       "      <th>resident_status</th>\n",
       "      <th>edu_2003_rev</th>\n",
       "      <th>sex</th>\n",
       "      <th>age_recode_27</th>\n",
       "      <th>marital_status</th>\n",
       "      <th>bridged_race_1</th>\n",
       "      <th>bridged_race_recode_5</th>\n",
       "      <th>hispanicorigin</th>\n",
       "      <th>hispanicorigin_bridgeracerecode</th>\n",
       "      <th>day_of_week_of_death</th>\n",
       "      <th>month_of_death</th>\n",
       "      <th>data_year</th>\n",
       "      <th>race_recode_capstone</th>\n",
       "      <th>cause_recode_358</th>\n",
       "      <th>place_of_death_and_status</th>\n",
       "      <th>injury_at_work</th>\n",
       "      <th>manner_of_death</th>\n",
       "      <th>autopsy</th>\n",
       "      <th>activity_code</th>\n",
       "      <th>place_of_injury</th>\n",
       "    </tr>\n",
       "  </thead>\n",
       "  <tbody>\n",
       "    <tr>\n",
       "      <th>0</th>\n",
       "      <td>9</td>\n",
       "      <td>8</td>\n",
       "      <td>1</td>\n",
       "      <td>4</td>\n",
       "      <td>M</td>\n",
       "      <td>22</td>\n",
       "      <td>M</td>\n",
       "      <td>1</td>\n",
       "      <td>1</td>\n",
       "      <td>282</td>\n",
       "      <td>5</td>\n",
       "      <td>4</td>\n",
       "      <td>1</td>\n",
       "      <td>2018</td>\n",
       "      <td>1</td>\n",
       "      <td>230</td>\n",
       "      <td>4</td>\n",
       "      <td>U</td>\n",
       "      <td>7</td>\n",
       "      <td>N</td>\n",
       "      <td>99</td>\n",
       "      <td>99</td>\n",
       "    </tr>\n",
       "    <tr>\n",
       "      <th>1</th>\n",
       "      <td>10</td>\n",
       "      <td>8</td>\n",
       "      <td>1</td>\n",
       "      <td>4</td>\n",
       "      <td>F</td>\n",
       "      <td>23</td>\n",
       "      <td>W</td>\n",
       "      <td>1</td>\n",
       "      <td>1</td>\n",
       "      <td>100</td>\n",
       "      <td>6</td>\n",
       "      <td>2</td>\n",
       "      <td>1</td>\n",
       "      <td>2018</td>\n",
       "      <td>2</td>\n",
       "      <td>215</td>\n",
       "      <td>4</td>\n",
       "      <td>U</td>\n",
       "      <td>7</td>\n",
       "      <td>N</td>\n",
       "      <td>99</td>\n",
       "      <td>99</td>\n",
       "    </tr>\n",
       "    <tr>\n",
       "      <th>2</th>\n",
       "      <td>14</td>\n",
       "      <td>8</td>\n",
       "      <td>1</td>\n",
       "      <td>3</td>\n",
       "      <td>F</td>\n",
       "      <td>13</td>\n",
       "      <td>S</td>\n",
       "      <td>1</td>\n",
       "      <td>1</td>\n",
       "      <td>100</td>\n",
       "      <td>6</td>\n",
       "      <td>2</td>\n",
       "      <td>1</td>\n",
       "      <td>2018</td>\n",
       "      <td>2</td>\n",
       "      <td>219</td>\n",
       "      <td>1</td>\n",
       "      <td>U</td>\n",
       "      <td>7</td>\n",
       "      <td>N</td>\n",
       "      <td>99</td>\n",
       "      <td>99</td>\n",
       "    </tr>\n",
       "    <tr>\n",
       "      <th>3</th>\n",
       "      <td>15</td>\n",
       "      <td>8</td>\n",
       "      <td>1</td>\n",
       "      <td>6</td>\n",
       "      <td>F</td>\n",
       "      <td>23</td>\n",
       "      <td>W</td>\n",
       "      <td>1</td>\n",
       "      <td>1</td>\n",
       "      <td>100</td>\n",
       "      <td>6</td>\n",
       "      <td>5</td>\n",
       "      <td>1</td>\n",
       "      <td>2018</td>\n",
       "      <td>2</td>\n",
       "      <td>242</td>\n",
       "      <td>1</td>\n",
       "      <td>U</td>\n",
       "      <td>7</td>\n",
       "      <td>N</td>\n",
       "      <td>99</td>\n",
       "      <td>99</td>\n",
       "    </tr>\n",
       "    <tr>\n",
       "      <th>4</th>\n",
       "      <td>16</td>\n",
       "      <td>8</td>\n",
       "      <td>3</td>\n",
       "      <td>7</td>\n",
       "      <td>F</td>\n",
       "      <td>23</td>\n",
       "      <td>W</td>\n",
       "      <td>1</td>\n",
       "      <td>1</td>\n",
       "      <td>100</td>\n",
       "      <td>6</td>\n",
       "      <td>3</td>\n",
       "      <td>1</td>\n",
       "      <td>2018</td>\n",
       "      <td>2</td>\n",
       "      <td>214</td>\n",
       "      <td>7</td>\n",
       "      <td>U</td>\n",
       "      <td>7</td>\n",
       "      <td>N</td>\n",
       "      <td>99</td>\n",
       "      <td>99</td>\n",
       "    </tr>\n",
       "  </tbody>\n",
       "</table>\n",
       "</div>"
      ],
      "text/plain": [
       "   person_id year_id resident_status edu_2003_rev sex age_recode_27  \\\n",
       "0          9       8               1            4   M            22   \n",
       "1         10       8               1            4   F            23   \n",
       "2         14       8               1            3   F            13   \n",
       "3         15       8               1            6   F            23   \n",
       "4         16       8               3            7   F            23   \n",
       "\n",
       "  marital_status bridged_race_1 bridged_race_recode_5 hispanicorigin  \\\n",
       "0              M              1                     1            282   \n",
       "1              W              1                     1            100   \n",
       "2              S              1                     1            100   \n",
       "3              W              1                     1            100   \n",
       "4              W              1                     1            100   \n",
       "\n",
       "  hispanicorigin_bridgeracerecode day_of_week_of_death month_of_death  \\\n",
       "0                               5                    4              1   \n",
       "1                               6                    2              1   \n",
       "2                               6                    2              1   \n",
       "3                               6                    5              1   \n",
       "4                               6                    3              1   \n",
       "\n",
       "  data_year race_recode_capstone cause_recode_358 place_of_death_and_status  \\\n",
       "0      2018                    1              230                         4   \n",
       "1      2018                    2              215                         4   \n",
       "2      2018                    2              219                         1   \n",
       "3      2018                    2              242                         1   \n",
       "4      2018                    2              214                         7   \n",
       "\n",
       "  injury_at_work manner_of_death autopsy activity_code place_of_injury  \n",
       "0              U               7       N            99              99  \n",
       "1              U               7       N            99              99  \n",
       "2              U               7       N            99              99  \n",
       "3              U               7       N            99              99  \n",
       "4              U               7       N            99              99  "
      ]
     },
     "execution_count": 95,
     "metadata": {},
     "output_type": "execute_result"
    }
   ],
   "source": [
    "hd2018.head()"
   ]
  },
  {
   "cell_type": "code",
   "execution_count": 96,
   "metadata": {},
   "outputs": [
    {
     "name": "stdout",
     "output_type": "stream",
     "text": [
      "215    187858\n",
      "211    108610\n",
      "230     65232\n",
      "214     64926\n",
      "228     56446\n",
      "238     52312\n",
      "207     51524\n",
      "239     41462\n",
      "236     28294\n",
      "206     22905\n",
      "Name: cause_recode_358, dtype: int64\n"
     ]
    },
    {
     "data": {
      "text/plain": [
       "Text(0, 0.5, 'Number of deaths')"
      ]
     },
     "execution_count": 96,
     "metadata": {},
     "output_type": "execute_result"
    },
    {
     "data": {
      "image/png": "[encoded data removed]",
      "text/plain": [
       "<Figure size 432x288 with 1 Axes>"
      ]
     },
     "metadata": {
      "needs_background": "light"
     },
     "output_type": "display_data"
    }
   ],
   "source": [
    "#Top 10 heart disease deaths\n",
    "\n",
    "print(hd2018['cause_recode_358'].value_counts().head(10))\n",
    "hd2018['cause_recode_358'].value_counts().head(10).plot(kind='bar', x='cause_recode_358')\n",
    "plt.xlabel(\"Types of heart disease deaths\")\n",
    "plt.ylabel(\"Number of deaths\")\n",
    "\n",
    "#215 All other forms of chronic ischemic heart disease (I20,I25.1-I25.9) \n",
    "#211 Acute myocardial infarction (I21-I22) \n",
    "#230 Congestive heart failure (I50.0) \n",
    "#214 Atherosclerotic cardiovascular disease, so described (I25.0) \n",
    "#228 Conduction disorders and cardiac dysrhythmias (I44-I49) \n",
    "#238 Stroke, not specified as hemorrhage or infarction (I64) \n",
    "#207 Hypertensive heart disease (I11) \n",
    "#239 Other cerebrovascular diseases and their sequelae (I67,I69) \n",
    "#236 3 Intracerebral and other intracranial hemorrhage (I61-I62) \n",
    "#206 Essential (primary) hypertension (I10) "
   ]
  },
  {
   "cell_type": "code",
   "execution_count": 97,
   "metadata": {},
   "outputs": [
    {
     "data": {
      "text/plain": [
       "<matplotlib.axes._subplots.AxesSubplot at 0x7ff295c7ce90>"
      ]
     },
     "execution_count": 97,
     "metadata": {},
     "output_type": "execute_result"
    },
    {
     "data": {
      "image/png": "[encoded data removed]",
      "text/plain": [
       "<Figure size 432x288 with 1 Axes>"
      ]
     },
     "metadata": {
      "needs_background": "light"
     },
     "output_type": "display_data"
    }
   ],
   "source": [
    "hd2018.groupby(\"age_recode_27\").size().plot(kind=\"bar\")\n",
    "\n",
    "#higher risk of dying from a heart disease the older you get\n",
    "\n",
    "#top: 23 -> 85 - 89 years \n",
    "#24 -> 90 - 94 years \n",
    "#22 -> 80 - 84 years \n",
    "#21 -> 75 - 79 years \n",
    "\n"
   ]
  },
  {
   "cell_type": "code",
   "execution_count": 98,
   "metadata": {
    "scrolled": true
   },
   "outputs": [
    {
     "data": {
      "text/plain": [
       "sex\n",
       "F    420164\n",
       "M    448498\n",
       "Name: cause_recode_358, dtype: int64"
      ]
     },
     "execution_count": 98,
     "metadata": {},
     "output_type": "execute_result"
    }
   ],
   "source": [
    "hd2018.groupby([\"sex\"])[\"cause_recode_358\"].size().sort_values()\n"
   ]
  },
  {
   "cell_type": "code",
   "execution_count": 99,
   "metadata": {},
   "outputs": [
    {
     "data": {
      "text/plain": [
       "Text(0, 0.5, 'Number of Deaths')"
      ]
     },
     "execution_count": 99,
     "metadata": {},
     "output_type": "execute_result"
    },
    {
     "data": {
      "image/png": "[encoded data removed]",
      "text/plain": [
       "<Figure size 432x288 with 1 Axes>"
      ]
     },
     "metadata": {
      "needs_background": "light"
     },
     "output_type": "display_data"
    }
   ],
   "source": [
    "#type of disease compared to Female and Male\n",
    "\n",
    "def top_val_count(x, n=10):\n",
    "    return x.value_counts().head(n)\n",
    "\n",
    "plot_hd=hd2018.groupby([\"sex\"]).cause_recode_358\n",
    "plot_hd.apply(top_val_count).plot(kind=\"bar\", x='cause_recode_358')\n",
    "plt.xlabel(\"Type of Heart Disease\")\n",
    "plt.ylabel(\"Number of Deaths\")"
   ]
  },
  {
   "cell_type": "code",
   "execution_count": 100,
   "metadata": {},
   "outputs": [
    {
     "data": {
      "text/plain": [
       "<matplotlib.axes._subplots.AxesSubplot at 0x7ff2b70036d0>"
      ]
     },
     "execution_count": 100,
     "metadata": {},
     "output_type": "execute_result"
    },
    {
     "data": {
      "image/png": "[encoded data removed]",
      "text/plain": [
       "<Figure size 432x288 with 1 Axes>"
      ]
     },
     "metadata": {
      "needs_background": "light"
     },
     "output_type": "display_data"
    }
   ],
   "source": [
    "hd2018.groupby(\"manner_of_death\").size().plot(kind=\"bar\")\n",
    "\n",
    "#7 natural \n",
    "#0 Not specified "
   ]
  },
  {
   "cell_type": "code",
   "execution_count": 101,
   "metadata": {},
   "outputs": [
    {
     "data": {
      "text/plain": [
       "<matplotlib.axes._subplots.AxesSubplot at 0x7ff2b3c503d0>"
      ]
     },
     "execution_count": 101,
     "metadata": {},
     "output_type": "execute_result"
    },
    {
     "data": {
      "image/png": "[encoded data removed]",
      "text/plain": [
       "<Figure size 432x288 with 1 Axes>"
      ]
     },
     "metadata": {
      "needs_background": "light"
     },
     "output_type": "display_data"
    }
   ],
   "source": [
    "hd2018.groupby(\"place_of_death_and_status\").size().plot(kind=\"bar\")\n",
    "\n",
    "#top: 4 -> Decedent’s home\n",
    "#1 -> Hospital, clinic or Medical Center - Inpatient\n",
    "#6 -> Nursing home/long term care\n",
    "#3 -> Hospital, Clinic or Medical Center - Dead on Arrival"
   ]
  },
  {
   "cell_type": "code",
   "execution_count": 102,
   "metadata": {},
   "outputs": [
    {
     "data": {
      "text/plain": [
       "bridged_race_1\n",
       "1     726969\n",
       "18      3256\n",
       "2     112268\n",
       "28      1729\n",
       "3       4943\n",
       "38       281\n",
       "4       5110\n",
       "48      2027\n",
       "5       2790\n",
       "58       124\n",
       "6        277\n",
       "68      3190\n",
       "7       4619\n",
       "78      1079\n",
       "dtype: int64"
      ]
     },
     "execution_count": 102,
     "metadata": {},
     "output_type": "execute_result"
    }
   ],
   "source": [
    "hd2018.groupby(\"bridged_race_1\").size()\n",
    "\n",
    "#hd2018.groupby(\"bridged_race_1\").size().plot(kind=\"bar\")\n"
   ]
  },
  {
   "cell_type": "code",
   "execution_count": 103,
   "metadata": {},
   "outputs": [
    {
     "data": {
      "text/plain": [
       "<matplotlib.axes._subplots.AxesSubplot at 0x7ff2973228d0>"
      ]
     },
     "execution_count": 103,
     "metadata": {},
     "output_type": "execute_result"
    },
    {
     "data": {
      "image/png": "[encoded data removed]",
      "text/plain": [
       "<Figure size 432x288 with 1 Axes>"
      ]
     },
     "metadata": {
      "needs_background": "light"
     },
     "output_type": "display_data"
    }
   ],
   "source": [
    "hd2018.groupby(\"bridged_race_recode_5\").size().plot(kind=\"bar\")\n"
   ]
  },
  {
   "cell_type": "markdown",
   "metadata": {},
   "source": [
    "### CSV file 2018 EDA "
   ]
  },
  {
   "cell_type": "code",
   "execution_count": null,
   "metadata": {},
   "outputs": [],
   "source": [
    "%%time\n",
    "\n",
    "## 2018 EDA with CSV file \n",
    "\n",
    "mort2018=pd.read_csv('mort_2018.csv')\n",
    "\n",
    "pd.set_option('display.max_columns', None) \n",
    "\n",
    "#mort2018.shape\n",
    "\n",
    "code_358=mort2018[\"cause_recode_358\"]\n",
    "\n",
    "hd2018=mort2018[(code_358>=197) & (code_358<=246)]\n",
    "\n",
    "can2018=mort2018[(code_358>=69) & (code_358<=146)]"
   ]
  }
 ],
 "metadata": {
  "kernelspec": {
   "display_name": "Python 3",
   "language": "python",
   "name": "python3"
  },
  "language_info": {
   "codemirror_mode": {
    "name": "ipython",
    "version": 3
   },
   "file_extension": ".py",
   "mimetype": "text/x-python",
   "name": "python",
   "nbconvert_exporter": "python",
   "pygments_lexer": "ipython3",
   "version": "3.7.6"
  }
 },
 "nbformat": 4,
 "nbformat_minor": 4
}
